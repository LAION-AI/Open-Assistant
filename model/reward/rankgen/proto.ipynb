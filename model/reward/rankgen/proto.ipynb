{
 "cells": [
  {
   "cell_type": "code",
   "execution_count": 1,
   "metadata": {},
   "outputs": [
    {
     "name": "stderr",
     "output_type": "stream",
     "text": [
      "/mnt/c/Users/Bobak/Documents/Work/Open-Assistant/model/reward/rankgen/.venv/lib/python3.10/site-packages/tqdm/auto.py:22: TqdmWarning: IProgress not found. Please update jupyter and ipywidgets. See https://ipywidgets.readthedocs.io/en/stable/user_install.html\n",
      "  from .autonotebook import tqdm as notebook_tqdm\n"
     ]
    }
   ],
   "source": [
    "from rankgen import RankGenScorer, RankGenEncoder\n",
    "import wandb\n",
    "import torch\n",
    "import omegaconf\n",
    "from omegaconf import DictConfig, OmegaConf"
   ]
  },
  {
   "cell_type": "code",
   "execution_count": 2,
   "metadata": {},
   "outputs": [],
   "source": [
    "config =  OmegaConf.create({\"project\": \"open-assistant-model-reward-rankgen\",\n",
    "                      \"dataset\": \"overfit-random\",\n",
    "                      \"num_epochs\": 10,\n",
    "                      \"rankgen_model\": {\n",
    "                          \"rankgen_hf_path\" : \"kalpeshk2011/rankgen-t5-xl-pg19\",\n",
    "                          \"max_batch_size\" : 32,\n",
    "                          \"model_size\" : None,\n",
    "                          \"cache_dir\" : None,\n",
    "                          \"eval_mode\": True,\n",
    "                        }\n",
    "                      })\n",
    "# wandb.init(project=\"open-assistant-model-reward-rankgen\", config=OmegaConf.to_container(config))\n"
   ]
  },
  {
   "cell_type": "code",
   "execution_count": 3,
   "metadata": {},
   "outputs": [],
   "source": [
    "class RankGenRanker():\n",
    "  def __init__(self, config: DictConfig):\n",
    "    self.model : RankGenScorer = RankGenScorer(config=config.rankgen_model)\n",
    "    self.config = config\n",
    "  \n",
    "  def train(self):\n",
    "    print(config)"
   ]
  },
  {
   "cell_type": "code",
   "execution_count": 4,
   "metadata": {},
   "outputs": [
    {
     "name": "stderr",
     "output_type": "stream",
     "text": [
      "Explicitly passing a `revision` is encouraged when loading a model with custom code to ensure no malicious code has been contributed in a newer revision.\n"
     ]
    }
   ],
   "source": [
    "a = RankGenRanker(config=config)"
   ]
  },
  {
   "cell_type": "code",
   "execution_count": 5,
   "metadata": {},
   "outputs": [
    {
     "name": "stdout",
     "output_type": "stream",
     "text": [
      "tensor([[1.3366, 2.6499, 5.6034],\n",
      "        [3.7261, 7.5807, 4.6073]], device='cuda:0')\n"
     ]
    }
   ],
   "source": [
    "similarities, _, _ = a.model.score([\"How's this?\", \"It's crazy when a best friend finishes your\"], [\"It's actually pretty good\", \"sentences\", \"we were at the park\"])\n",
    "print(similarities)"
   ]
  },
  {
   "cell_type": "code",
   "execution_count": null,
   "metadata": {},
   "outputs": [],
   "source": []
  }
 ],
 "metadata": {
  "kernelspec": {
   "display_name": ".venv",
   "language": "python",
   "name": "python3"
  },
  "language_info": {
   "codemirror_mode": {
    "name": "ipython",
    "version": 3
   },
   "file_extension": ".py",
   "mimetype": "text/x-python",
   "name": "python",
   "nbconvert_exporter": "python",
   "pygments_lexer": "ipython3",
   "version": "3.10.6"
  },
  "orig_nbformat": 4,
  "vscode": {
   "interpreter": {
    "hash": "5b0eb2bbebb7cf98106a88f983bb9b665d4e8eec4abae03639502717fa636ccd"
   }
  }
 },
 "nbformat": 4,
 "nbformat_minor": 2
}
