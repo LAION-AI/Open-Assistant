{
 "cells": [
  {
   "cell_type": "code",
   "execution_count": null,
   "metadata": {
    "id": "sRZijM_Z-0q0"
   },
   "outputs": [],
   "source": [
    "from datasets import load_dataset"
   ]
  },
  {
   "cell_type": "code",
   "execution_count": null,
   "metadata": {
    "id": "iD_RXcCo-6SL"
   },
   "outputs": [],
   "source": [
    "import pandas as pd"
   ]
  },
  {
   "cell_type": "code",
   "execution_count": null,
   "metadata": {
    "id": "BQePnfRo-06K"
   },
   "outputs": [],
   "source": [
    "ds = load_dataset(\"iapp_wiki_qa_squad\")"
   ]
  },
  {
   "cell_type": "code",
   "execution_count": null,
   "metadata": {
    "id": "ZWwvZgpy-2oY"
   },
   "outputs": [],
   "source": [
    "train=ds[\"train\"]"
   ]
  },
  {
   "cell_type": "code",
   "execution_count": null,
   "metadata": {
    "id": "0sINkYJR_PQ4"
   },
   "outputs": [],
   "source": [
    "df=pd.DataFrame.from_dict(\n",
    "    {\n",
    "        \"INSTRUCTION\":train[\"question\"],\n",
    "        \"RESPONSE\":[i[\"text\"][0] for i in train[\"answers\"]],\n",
    "        \"SOURCE\":[\"wikipedia\"]*len(train[\"answers\"])\n",
    "    }\n",
    ")"
   ]
  },
  {
   "cell_type": "code",
   "execution_count": null,
   "metadata": {
    "colab": {
     "base_uri": "https://localhost:8080/",
     "height": 424
    },
    "id": "MXIQwhKk_n6Q",
    "outputId": "bfd7aa0d-d4b8-4a34-bab4-2b5bfdf4d4e3"
   },
   "outputs": [],
   "source": [
    "df"
   ]
  },
  {
   "cell_type": "code",
   "execution_count": null,
   "metadata": {
    "id": "bFNDTgDxAD-e"
   },
   "outputs": [],
   "source": [
    "df.to_parquet(\"dataset.parquet\", row_group_size=100, engine=\"pyarrow\")"
   ]
  },
  {
   "cell_type": "code",
   "execution_count": null,
   "metadata": {
    "id": "zSVjPVbqA4Vw"
   },
   "outputs": [],
   "source": [
    "from datasets import Dataset\n",
    "ds = Dataset.from_parquet(\"dataset.parquet\")"
   ]
  },
  {
   "cell_type": "code",
   "execution_count": null,
   "metadata": {
    "id": "KWDRH0GGBVFZ"
   },
   "outputs": [],
   "source": [
    "ds.push_to_hub(\"wannaphong/iapp_wiki_qa_squad_oa\")"
   ]
  }
 ],
 "metadata": {
  "colab": {
   "provenance": []
  },
  "kernelspec": {
   "display_name": "Python 3 (ipykernel)",
   "language": "python",
   "name": "python3"
  },
  "language_info": {
   "codemirror_mode": {
    "name": "ipython",
    "version": 3
   },
   "file_extension": ".py",
   "mimetype": "text/x-python",
   "name": "python",
   "nbconvert_exporter": "python",
   "pygments_lexer": "ipython3",
   "version": "3.8.11"
  }
 },
 "nbformat": 4,
 "nbformat_minor": 1
}
