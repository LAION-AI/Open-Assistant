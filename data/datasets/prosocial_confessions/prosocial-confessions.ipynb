{
 "cells": [
  {
   "cell_type": "code",
   "execution_count": 1,
   "id": "435c534a",
   "metadata": {},
   "outputs": [],
   "source": [
    "from datasets import load_dataset\n",
    "import json\n",
    "from sentence_transformers import SentenceTransformer\n",
    "from datasets import load_dataset\n",
    "\n",
    "SBERT_MODEL = \"all-MiniLM-L6-v2\"\n",
    "import pandas as pd\n",
    "import numpy as np\n",
    "import scipy.spatial as sp\n",
    "from collections import defaultdict\n",
    "from tqdm import tqdm\n",
    "import faiss\n",
    "from collections import ChainMap\n"
   ]
  },
  {
   "cell_type": "code",
   "execution_count": 30,
   "id": "c431d120",
   "metadata": {},
   "outputs": [],
   "source": [
    "\n",
    "THRESHOLD = 0.72\n",
    "B_SIZE = 500\n"
   ]
  },
  {
   "cell_type": "code",
   "execution_count": 80,
   "id": "ffca7323",
   "metadata": {},
   "outputs": [],
   "source": [
    "np.argwhere?"
   ]
  },
  {
   "cell_type": "code",
   "execution_count": 94,
   "id": "a9e2aaf4",
   "metadata": {},
   "outputs": [],
   "source": [
    "def load_vectorizer(model=SBERT_MODEL):\n",
    "    return SentenceTransformer(model)\n",
    "\n",
    "\n",
    "def vectorize_text(model, texts):\n",
    "    return model.encode(texts, show_progress_bar=True)\n",
    "\n",
    "def build_index(vector):\n",
    "    \n",
    "    d = vector.shape[1]\n",
    "    index = faiss.IndexFlatIP(d)\n",
    "    faiss.normalize_L2(rot_vector)\n",
    "    index.add(rot_vector)\n",
    "    return index\n",
    "    \n",
    "\n",
    "def get_conversations(rot_vector, posts_vector):\n",
    "    \n",
    "    index = build_index(rot_vector)\n",
    "    num_result=5\n",
    "    faiss.normalize_L2(posts_vector)\n",
    "    matching_dict = defaultdict(list)\n",
    "    for idx in tqdm(range(0, posts_vector.shape[0], B_SIZE)):\n",
    "        I, D = index.search(posts_vector[idx:idx+B_SIZE],num_result)\n",
    "        sim_indices = np.argwhere(I >= THRESHOLD)\n",
    "        #return sim_indices\n",
    "        for k, j in sim_indices:\n",
    "            matching_dict[k+idx].append({D[k][j]:I[k][j]})\n",
    "\n",
    "    return matching_dict\n",
    "\n",
    "def get_top_n(data,n=2):\n",
    "    \n",
    "    data = dict(ChainMap(*data))\n",
    "    data = {k: v for k, v in sorted(data.items(), key=lambda data: data[1],reverse=True)}\n",
    "    return list(data.keys())[:n]\n",
    "    \n",
    "\n",
    "def convert_to_json(match_dict,all_rots,reddit_df):\n",
    "    all_data = []\n",
    "    posts = reddit_df['title'].values\n",
    "    permalinks = reddit_df['permalink'].values\n",
    "    for post_id,rot_list in match_dict.items():\n",
    "        rot_ids = get_top_n(rot_list)\n",
    "        ps_rots = [all_rots[idx] for idx in rot_ids]\n",
    "        all_data.append({\"user\":posts[post_id], \"ROTs\":ps_rots,\"permalink\":permalinks[post_id]})\n",
    "    \n",
    "    return all_data"
   ]
  },
  {
   "cell_type": "markdown",
   "id": "6f7bca2b",
   "metadata": {},
   "source": [
    "- Now I am matching K rots with all posts and repeating this process\n",
    "    - This will cause similar rots to match same posts again \n",
    "    - Inorder to remove this, Take all rots compare with batches of posts\n",
    "    - implement FAISS if necessary"
   ]
  },
  {
   "cell_type": "code",
   "execution_count": 4,
   "id": "f089487b",
   "metadata": {},
   "outputs": [
    {
     "name": "stderr",
     "output_type": "stream",
     "text": [
      "Using custom data configuration allenai--prosocial-dialog-ebbad39ca08b6d44\n",
      "Found cached dataset json (/home/shahul/.cache/huggingface/datasets/allenai___json/allenai--prosocial-dialog-ebbad39ca08b6d44/0.0.0/0f7e3662623656454fcd2b650f34e886a7db4b9104504885bd462096cc7a9f51)\n",
      "/tmp/ipykernel_108573/1411690863.py:2: DtypeWarning: Columns (8) have mixed types. Specify dtype option on import or set low_memory=False.\n",
      "  conf_df = pd.read_csv(\"/home/shahul/Data/one-million-reddit-confessions.csv\")\n"
     ]
    }
   ],
   "source": [
    "dataset = load_dataset(\"allenai/prosocial-dialog\",split=\"train\")\n",
    "conf_df = pd.read_csv(\"/home/shahul/Data/one-million-reddit-confessions.csv\")"
   ]
  },
  {
   "cell_type": "code",
   "execution_count": 5,
   "id": "6c86567c",
   "metadata": {},
   "outputs": [
    {
     "name": "stderr",
     "output_type": "stream",
     "text": [
      "/tmp/ipykernel_108573/162276847.py:2: SettingWithCopyWarning: \n",
      "A value is trying to be set on a copy of a slice from a DataFrame.\n",
      "Try using .loc[row_indexer,col_indexer] = value instead\n",
      "\n",
      "See the caveats in the documentation: https://pandas.pydata.org/pandas-docs/stable/user_guide/indexing.html#returning-a-view-versus-a-copy\n",
      "  conf_df_filtered[\"title_len\"] = conf_df_filtered['title'].map(lambda x : len(x.split()))\n"
     ]
    }
   ],
   "source": [
    "conf_df_filtered = conf_df.query(\"score>3.0\")\n",
    "conf_df_filtered[\"title_len\"] = conf_df_filtered['title'].map(lambda x : len(x.split()))\n",
    "conf_df_filtered = conf_df_filtered.query(\"title_len>5\")"
   ]
  },
  {
   "cell_type": "code",
   "execution_count": 6,
   "id": "d0a3d035",
   "metadata": {},
   "outputs": [],
   "source": [
    "rots = [item[\"rots\"] for item in dataset]\n",
    "rots = set([x for item in rots for x in item])"
   ]
  },
  {
   "cell_type": "code",
   "execution_count": 7,
   "id": "da4d20e0",
   "metadata": {},
   "outputs": [],
   "source": [
    "rots = list(rots)"
   ]
  },
  {
   "cell_type": "code",
   "execution_count": 8,
   "id": "3a169a67",
   "metadata": {},
   "outputs": [],
   "source": [
    "model = load_vectorizer()"
   ]
  },
  {
   "cell_type": "code",
   "execution_count": 9,
   "id": "3580d6db",
   "metadata": {},
   "outputs": [
    {
     "data": {
      "application/vnd.jupyter.widget-view+json": {
       "model_id": "95ac0bd33d214d908d3902a96529dcc1",
       "version_major": 2,
       "version_minor": 0
      },
      "text/plain": [
       "Batches:   0%|          | 0/3630 [00:00<?, ?it/s]"
      ]
     },
     "metadata": {},
     "output_type": "display_data"
    }
   ],
   "source": [
    "rot_vector = vectorize_text(model, rots)"
   ]
  },
  {
   "cell_type": "code",
   "execution_count": 13,
   "id": "828a26ad",
   "metadata": {},
   "outputs": [
    {
     "data": {
      "application/vnd.jupyter.widget-view+json": {
       "model_id": "e28732166e644fa3b93faf827f7502a3",
       "version_major": 2,
       "version_minor": 0
      },
      "text/plain": [
       "Batches:   0%|          | 0/5431 [00:00<?, ?it/s]"
      ]
     },
     "metadata": {},
     "output_type": "display_data"
    }
   ],
   "source": [
    "posts = conf_df_filtered['title'].values.tolist()\n",
    "posts_vector = vectorize_text(model,posts)"
   ]
  },
  {
   "cell_type": "code",
   "execution_count": 57,
   "id": "f3fdc93d",
   "metadata": {},
   "outputs": [
    {
     "data": {
      "text/plain": [
       "173770"
      ]
     },
     "execution_count": 57,
     "metadata": {},
     "output_type": "execute_result"
    }
   ],
   "source": [
    "conf_df_filtered.id.nunique()"
   ]
  },
  {
   "cell_type": "code",
   "execution_count": 91,
   "id": "7bb4d884",
   "metadata": {},
   "outputs": [
    {
     "name": "stderr",
     "output_type": "stream",
     "text": [
      "100%|█████████████████████████████████████████████████████| 2/2 [00:03<00:00,  1.67s/it]\n"
     ]
    }
   ],
   "source": [
    "match_dict = get_conversations(rot_vector,posts_vector[:1000])"
   ]
  },
  {
   "cell_type": "code",
   "execution_count": 84,
   "id": "0e0a5374",
   "metadata": {},
   "outputs": [],
   "source": []
  },
  {
   "cell_type": "code",
   "execution_count": 95,
   "id": "c4f6ad39",
   "metadata": {},
   "outputs": [],
   "source": [
    "json_data = convert_to_json(match_dict,rots,conf_df_filtered.head(1000))"
   ]
  },
  {
   "cell_type": "code",
   "execution_count": 96,
   "id": "1276d399",
   "metadata": {},
   "outputs": [
    {
     "data": {
      "text/plain": [
       "[{'user': 'i accused a family member of something they didn’t do',\n",
       "  'ROTs': ['It is understandable to be accused of something you did not do.',\n",
       "   \"You should get a lawyer if you're accused of something you didn't do.\"],\n",
       "  'permalink': 'https://old.reddit.com/r/confession/comments/pwv3h1/i_accused_a_family_member_of_something_they_didnt/'},\n",
       " {'user': 'I told my friend who is abused to get hit by their Dad',\n",
       "  'ROTs': [\"You should tell somebody if you've been abused.\"],\n",
       "  'permalink': 'https://old.reddit.com/r/confession/comments/ptpc6d/i_told_my_friend_who_is_abused_to_get_hit_by/'},\n",
       " {'user': 'I stole funds from my school a couple of years ago',\n",
       "  'ROTs': [\"It's wrong to steal money from your school.\"],\n",
       "  'permalink': 'https://old.reddit.com/r/confession/comments/pse1oe/i_stole_funds_from_my_school_a_couple_of_years_ago/'},\n",
       " {'user': 'I’m guilty of hating it when my friends are with their partners.',\n",
       "  'ROTs': [\"It's ok to dislike your partner's friends\"],\n",
       "  'permalink': 'https://old.reddit.com/r/confession/comments/pryl6b/im_guilty_of_hating_it_when_my_friends_are_with/'},\n",
       " {'user': \"I'm a compulsive liar and constantly lie for attention, if the truth comes out, a lot of people would be hurt\",\n",
       "  'ROTs': [\"You shouldn't tell lies that will hurt people.\",\n",
       "   \"You shouldn't hurt people with lies.\"],\n",
       "  'permalink': 'https://old.reddit.com/r/confession/comments/prbk14/im_a_compulsive_liar_and_constantly_lie_for/'},\n",
       " {'user': \"I've been lying about myself online for 14 years, here is my story of regret\",\n",
       "  'ROTs': [\"You shouldn't lie about yourself online.\"],\n",
       "  'permalink': 'https://old.reddit.com/r/confession/comments/pq9qhl/ive_been_lying_about_myself_online_for_14_years/'},\n",
       " {'user': 'I keep pushing people away and it hurts me more every time',\n",
       "  'ROTs': [\"It's painful when someone pushes you away.\"],\n",
       "  'permalink': 'https://old.reddit.com/r/confession/comments/pnqpxn/i_keep_pushing_people_away_and_it_hurts_me_more/'},\n",
       " {'user': 'I lost a friend because of my selfishness and how I wasn’t thinking before acting',\n",
       "  'ROTs': [\"It's bad to lose a friend due to your selfish behavior.\"],\n",
       "  'permalink': 'https://old.reddit.com/r/confession/comments/pnatmg/i_lost_a_friend_because_of_my_selfishness_and_how/'},\n",
       " {'user': \"I've been lying a lot recently. Nothing big, just small petty things that really don't need to be lied about.\",\n",
       "  'ROTs': [\"What's causing you to lie?\"],\n",
       "  'permalink': 'https://old.reddit.com/r/confession/comments/pkk3yc/ive_been_lying_a_lot_recently_nothing_big_just/'},\n",
       " {'user': 'I have stolen money from my job and am still doing it without getting caught',\n",
       "  'ROTs': ['You should expect to be caught if you steal from your job.'],\n",
       "  'permalink': 'https://old.reddit.com/r/confession/comments/pkbgw3/i_have_stolen_money_from_my_job_and_am_still/'},\n",
       " {'user': 'I am a cafeteria worker and I stole food from work, despite being told no',\n",
       "  'ROTs': [\"You shouldn't steal food from the cafeteria.\"],\n",
       "  'permalink': 'https://old.reddit.com/r/confession/comments/pilh70/i_am_a_cafeteria_worker_and_i_stole_food_from/'},\n",
       " {'user': 'I used to tell my parents everything, and I mean, everything',\n",
       "  'ROTs': [\"It's okay to tell your parents things when you're a kid.\",\n",
       "   \"You shouldn't think you have to tell your parents everything.\"],\n",
       "  'permalink': 'https://old.reddit.com/r/confession/comments/pigqvm/i_used_to_tell_my_parents_everything_and_i_mean/'},\n",
       " {'user': 'I lie to my friends to get out of going to bars/restaurants',\n",
       "  'ROTs': [\"You shouldn't lie to your friends\",\n",
       "   'You should not lie to your friends'],\n",
       "  'permalink': 'https://old.reddit.com/r/confession/comments/phgi8h/i_lie_to_my_friends_to_get_out_of_going_to/'},\n",
       " {'user': 'i used to wish death upon my abusive mother as a child',\n",
       "  'ROTs': [\"You shouldn't wish death upon your parent.\"],\n",
       "  'permalink': 'https://old.reddit.com/r/confession/comments/pf2war/i_used_to_wish_death_upon_my_abusive_mother_as_a/'},\n",
       " {'user': 'I made offensive “jokes” in the past that I deeply regret',\n",
       "  'ROTs': [\"It's not okay to make jokes that people might find offensive due to their past experiences.\"],\n",
       "  'permalink': 'https://old.reddit.com/r/confession/comments/pefppa/i_made_offensive_jokes_in_the_past_that_i_deeply/'},\n",
       " {'user': 'I’ve technically never actually been grounded, just told that i am.',\n",
       "  'ROTs': [\"You shouldn't try to get someone grounded.\"],\n",
       "  'permalink': 'https://old.reddit.com/r/confession/comments/pe2ewx/ive_technically_never_actually_been_grounded_just/'},\n",
       " {'user': 'I lie to everyone because I am insecure and hate myself and my body (TW)',\n",
       "  'ROTs': [\"You shouldn't lie to others about yourself.\",\n",
       "   \"You shouldn't lie about yourself to others\"],\n",
       "  'permalink': 'https://old.reddit.com/r/confession/comments/pcp68i/i_lie_to_everyone_because_i_am_insecure_and_hate/'},\n",
       " {'user': 'I lie massively about everything concerning myself',\n",
       "  'ROTs': [\"You shouldn't lie about yourself\",\n",
       "   'You should never lie about big issues in your life'],\n",
       "  'permalink': 'https://old.reddit.com/r/confession/comments/p9r9sm/i_lie_massively_about_everything_concerning_myself/'},\n",
       " {'user': 'I drive the wrong way down a one-way street on a regular basis',\n",
       "  'ROTs': ['You should drive the correct way when you are in traffic'],\n",
       "  'permalink': 'https://old.reddit.com/r/confession/comments/p71ebp/i_drive_the_wrong_way_down_a_oneway_street_on_a/'},\n",
       " {'user': 'I cannot find a way to stop lying, please help me.',\n",
       "  'ROTs': [\"You should seek help if you're constantly lying\",\n",
       "   'If you are having problems with compulsive lying, you should seek a professional'],\n",
       "  'permalink': 'https://old.reddit.com/r/confession/comments/p64c1r/i_cannot_find_a_way_to_stop_lying_please_help_me/'},\n",
       " {'user': 'I have a habit of pushing people away on purpose and it doesn’t bother me.',\n",
       "  'ROTs': [\"It's rude to push people away\"],\n",
       "  'permalink': 'https://old.reddit.com/r/confession/comments/p5ilbq/i_have_a_habit_of_pushing_people_away_on_purpose/'},\n",
       " {'user': 'I relapsed after 10 months of sobriety and everything is going down hill',\n",
       "  'ROTs': ['It is normal to have relapses during recovery'],\n",
       "  'permalink': 'https://old.reddit.com/r/confession/comments/p5bscn/i_relapsed_after_10_months_of_sobriety_and/'},\n",
       " {'user': 'Friends kind of forget my birthday and celebrate everone else birthday',\n",
       "  'ROTs': [\"You shouldn't punish friends for forgetting your birthday.\",\n",
       "   \"It's rude to ignore your friends birthday.\"],\n",
       "  'permalink': 'https://old.reddit.com/r/confession/comments/p36vsw/friends_kind_of_forget_my_birthday_and_celebrate/'},\n",
       " {'user': 'Hit a parked car, and didn’t leave a note, about three or four years ago.',\n",
       "  'ROTs': ['You should leave a note if you hit a car.',\n",
       "   \"You shouldn't leave a note on someone's car if you didn't hit their car.\"],\n",
       "  'permalink': 'https://old.reddit.com/r/confession/comments/p2hou0/hit_a_parked_car_and_didnt_leave_a_note_about/'},\n",
       " {'user': 'I cheated in a lot of tests and I hate myself for that',\n",
       "  'ROTs': ['You should never cheat on tests', \"It's bad to cheat on tests.\"],\n",
       "  'permalink': 'https://old.reddit.com/r/confession/comments/oyjvh8/i_cheated_in_a_lot_of_tests_and_i_hate_myself_for/'},\n",
       " {'user': \"I joke around so much I've gotten to the point where I'm not even sure when I'm serious and when I'm joking.\",\n",
       "  'ROTs': [\"You shouldn't joke around if you're serious about something.\"],\n",
       "  'permalink': 'https://old.reddit.com/r/confession/comments/owbmds/i_joke_around_so_much_ive_gotten_to_the_point/'},\n",
       " {'user': \"I keyed someone's car because they hit my car and blamed me for being there\",\n",
       "  'ROTs': [\"You shouldn't key someone's car\"],\n",
       "  'permalink': 'https://old.reddit.com/r/confession/comments/ovyycq/i_keyed_someones_car_because_they_hit_my_car_and/'},\n",
       " {'user': 'I hit a car in a parking lot and drive away without leaving a note',\n",
       "  'ROTs': ['You should leave a note if you hit a car.',\n",
       "   \"It's ok to leave a note if you hit a car and no one else is around.\"],\n",
       "  'permalink': 'https://old.reddit.com/r/confession/comments/ovntcp/i_hit_a_car_in_a_parking_lot_and_drive_away/'},\n",
       " {'user': \"I became a therapist hoping it would fix me. It didn't. Nothing will.\",\n",
       "  'ROTs': ['You should not expect a therapist to completly fix you'],\n",
       "  'permalink': 'https://old.reddit.com/r/confession/comments/ovgtk2/i_became_a_therapist_hoping_it_would_fix_me_it/'},\n",
       " {'user': 'I was bullied as a child and was a bully in response.',\n",
       "  'ROTs': [\"It's bad to bully others just because they bullied you.\"],\n",
       "  'permalink': 'https://old.reddit.com/r/confession/comments/ovgfeh/i_was_bullied_as_a_child_and_was_a_bully_in/'},\n",
       " {'user': 'I leave my job early everyday and my boss is unaware',\n",
       "  'ROTs': [\"It's good to let your boss when you have to leave early.\"],\n",
       "  'permalink': 'https://old.reddit.com/r/confession/comments/oupho0/i_leave_my_job_early_everyday_and_my_boss_is/'},\n",
       " {'user': 'I get violent when angry or frustrated what do I do',\n",
       "  'ROTs': ['You should seek help to quell your violent tendencies',\n",
       "   'You should seek help if you have anger issues'],\n",
       "  'permalink': 'https://old.reddit.com/r/confession/comments/op3m0i/i_get_violent_when_angry_or_frustrated_what_do_i/'},\n",
       " {'user': 'Stole something at work and I might get in trouble as my boss asked me about it',\n",
       "  'ROTs': ['Your boss might fire you if they find out you steal from work.',\n",
       "   \"You shouldn't steal from your boss.\"],\n",
       "  'permalink': 'https://old.reddit.com/r/confession/comments/ooht3o/stole_something_at_work_and_i_might_get_in/'},\n",
       " {'user': \"My friend stinks and I'm starting to get annoyed at her\",\n",
       "  'ROTs': [\"It's wrong to want your friend to stink.\"],\n",
       "  'permalink': 'https://old.reddit.com/r/confession/comments/ons6x5/my_friend_stinks_and_im_starting_to_get_annoyed/'},\n",
       " {'user': 'In 2nd grade I used to steal things from my teacher.',\n",
       "  'ROTs': [\"You shouldn't steal your teacher's things.\"],\n",
       "  'permalink': 'https://old.reddit.com/r/confession/comments/om952c/in_2nd_grade_i_used_to_steal_things_from_my/'},\n",
       " {'user': 'I lied to my parents about completing my University degree',\n",
       "  'ROTs': [\"You shouldn't lie about your education degree to your parents\"],\n",
       "  'permalink': 'https://old.reddit.com/r/confession/comments/olia40/i_lied_to_my_parents_about_completing_my/'},\n",
       " {'user': \"I did things as a teenager that I cannot forgive. Not sure what I should do, but I'm struggling.\",\n",
       "  'ROTs': ['You should not do things that are hard to forgive.'],\n",
       "  'permalink': 'https://old.reddit.com/r/confession/comments/ohwbjx/i_did_things_as_a_teenager_that_i_cannot_forgive/'},\n",
       " {'user': 'My brother takes up all my parents time so I tried to get their attention by doing hard drugs',\n",
       "  'ROTs': ['If your sibling is doing drugs, you should let your parents know.'],\n",
       "  'permalink': 'https://old.reddit.com/r/confession/comments/ohswtb/my_brother_takes_up_all_my_parents_time_so_i/'},\n",
       " {'user': \"I've been lying about being sober for over 6 months to friends and family.\",\n",
       "  'ROTs': [\"You shouldn't lie about being sober.\"],\n",
       "  'permalink': 'https://old.reddit.com/r/confession/comments/ogg32t/ive_been_lying_about_being_sober_for_over_6/'},\n",
       " {'user': 'I ruined my life because i didnt want to live with my parents.',\n",
       "  'ROTs': [\"It's bad to think that you ruined your parent's life.\"],\n",
       "  'permalink': 'https://old.reddit.com/r/confession/comments/og6kjc/i_ruined_my_life_because_i_didnt_want_to_live/'},\n",
       " {'user': \"I'm a compulsive liar and have been for probably 15 years now\",\n",
       "  'ROTs': [\"It's wrong to be a compulsive liar\",\n",
       "   \"It's wrong to be a compulsive liar.\"],\n",
       "  'permalink': 'https://old.reddit.com/r/confession/comments/og0u9c/im_a_compulsive_liar_and_have_been_for_probably/'},\n",
       " {'user': 'I used the toothbrush of my ex and their new partner to scrub the toilet.',\n",
       "  'ROTs': [\"You shouldn't use someone else's toothbrush to clean the toilet.\"],\n",
       "  'permalink': 'https://old.reddit.com/r/confession/comments/oftjl2/i_used_the_toothbrush_of_my_ex_and_their_new/'},\n",
       " {'user': 'I steal all the time from the place that I work at.',\n",
       "  'ROTs': ['You should never steal from your place of work',\n",
       "   \"It's bad to steal from work.\"],\n",
       "  'permalink': 'https://old.reddit.com/r/confession/comments/ofo148/i_steal_all_the_time_from_the_place_that_i_work_at/'},\n",
       " {'user': \"I am a former Physical Abuser, and I don't know where to go from here.\",\n",
       "  'ROTs': ['You should look for professional help to deal with abuse in your life'],\n",
       "  'permalink': 'https://old.reddit.com/r/confession/comments/oe30uo/i_am_a_former_physical_abuser_and_i_dont_know/'}]"
      ]
     },
     "execution_count": 96,
     "metadata": {},
     "output_type": "execute_result"
    }
   ],
   "source": [
    "json_data"
   ]
  },
  {
   "cell_type": "code",
   "execution_count": null,
   "id": "2894b020",
   "metadata": {},
   "outputs": [],
   "source": []
  }
 ],
 "metadata": {
  "kernelspec": {
   "display_name": "OpenAssistant",
   "language": "python",
   "name": "openassistant"
  },
  "language_info": {
   "codemirror_mode": {
    "name": "ipython",
    "version": 3
   },
   "file_extension": ".py",
   "mimetype": "text/x-python",
   "name": "python",
   "nbconvert_exporter": "python",
   "pygments_lexer": "ipython3",
   "version": "3.10.8"
  }
 },
 "nbformat": 4,
 "nbformat_minor": 5
}
