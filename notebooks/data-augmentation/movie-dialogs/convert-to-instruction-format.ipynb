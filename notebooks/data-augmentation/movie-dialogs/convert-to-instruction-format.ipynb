{
 "cells": [
  {
   "cell_type": "markdown",
   "id": "cdbfc3bd",
   "metadata": {},
   "source": [
    "## Imports"
   ]
  },
  {
   "cell_type": "code",
   "execution_count": 15,
   "id": "820f9345",
   "metadata": {},
   "outputs": [],
   "source": [
    "from datasets import load_dataset\n",
    "import numpy as np\n",
    "import json"
   ]
  },
  {
   "cell_type": "markdown",
   "id": "8369086c",
   "metadata": {},
   "source": [
    "## Dialog templates\n",
    "Templates for converting dialogs to prompts"
   ]
  },
  {
   "cell_type": "code",
   "execution_count": 5,
   "id": "5520c418",
   "metadata": {},
   "outputs": [],
   "source": [
    "DIALOG_TEMPLATES = {\n",
    "    \n",
    "### template for 4+ line dialogs\n",
    "    \"four_more_lines\" : [\n",
    "\"\"\"\n",
    "Here's a {template} between {char1} and {char2} in a scene from a {genre} movie\n",
    "    {dialogue1}\n",
    "User : Can you continue the {template}\n",
    "Assistant : Sure, the next dialogue for this scene could be\n",
    "    {dialogue2}\n",
    " \"\"\",\n",
    "    \n",
    "\"\"\"\n",
    "    {dialogue1}\n",
    "User : Can you provide more dialog assuming {genre} movie\n",
    "    {dialogue2}\n",
    "\"\"\",\n",
    "    \n",
    "\"\"\"\n",
    "I'm trying to complete the dialog for my characters {char1} and {char2}.Here's the {template}, Please help me complete it\n",
    "    {dialogue1}\n",
    "Assistant : Sure\n",
    "    {dialogue2}\n",
    "\"\"\",\n",
    "    ],\n",
    "    \n",
    "## template for 2 line dialogs\n",
    "\n",
    "    \"two_lines\" : [\n",
    "\"\"\"\n",
    "User : Assume {char1} and {char2} are characters from a {genre} movie, what would {char2} say if \n",
    "    {dialogue1}\n",
    "Assistant : {char2} could say\n",
    "    {dialogue2}\n",
    "\"\"\",\n",
    "],\n",
    "    \n",
    "## template for 3 line dialogs\n",
    "    \"three_lines\" : [\n",
    "\"\"\"\n",
    "    {dialogue1}\n",
    "User : provide a response assuming you're {char1}\n",
    "Assistant : Sure\n",
    "    {dialogue2}\n",
    "\"\"\",\n",
    "    \n",
    "\"\"\"\n",
    "    {dialogue1}\n",
    "User : respond as {char1} to complete the conversation\n",
    "Assistant : Sure\n",
    "    {dialogue2}\n",
    "\"\"\",\n",
    "    ]\n",
    "    \n",
    "    \n",
    "    \n",
    "}"
   ]
  },
  {
   "cell_type": "markdown",
   "id": "631d5bfe",
   "metadata": {},
   "source": [
    "## Code"
   ]
  },
  {
   "cell_type": "code",
   "execution_count": 6,
   "id": "160e9425",
   "metadata": {},
   "outputs": [],
   "source": [
    "def get_movie_dialogs():\n",
    "    \n",
    "    with open(\"/home/shahul/Data/movie_lines.txt\",'rb') as f:\n",
    "        movie_lines_data = [x.decode(\"latin\").split(\"+++$+++\") for x in f.readlines()]\n",
    "    movie_dialog_dict = {}\n",
    "    for dialog in movie_lines_data:\n",
    "        movie_dialog_dict[dialog[0].strip()] = {\"characterID\":dialog[1].strip(),\"characterName\":dialog[3].strip(),'text':dialog[-1].strip()}\n",
    "        \n",
    "    return movie_dialog_dict"
   ]
  },
  {
   "cell_type": "code",
   "execution_count": 16,
   "id": "1839210c",
   "metadata": {},
   "outputs": [],
   "source": [
    "def get_dialogs(dialog_dict,start,end):\n",
    "    \n",
    "    dialog_list = []\n",
    "    for idx in range(start,end+1):\n",
    "        dialog_list.append(dialog_dict[f'L{idx}']['characterName']+\": \"+dialog_dict[f'L{idx}']['text'])\n",
    "    num_lines = len(dialog_list)\n",
    "    \n",
    "    assert num_lines > 1, \"Number of lines should be greater than one\"\n",
    "        \n",
    "    if num_lines == 2:\n",
    "        dialog1 = dialog_list[0]\n",
    "        dialog2 = dialog_list[1]\n",
    "    elif num_lines in (3,4):\n",
    "        dialog1 = \"\\n    \".join(dialog_list[:2])\n",
    "        dialog2 = \"\\n    \".join(dialog_list[2:])\n",
    "    else:\n",
    "        dialog_len = np.random.randint(2,(num_lines+1)//2)\n",
    "        dialog1 = \"\\n    \".join(dialog_list[:dialog_len])\n",
    "        dialog2 = \"\\n    \".join(dialog_list[dialog_len:])\n",
    "    \n",
    "    return dialog1,dialog2\n",
    "    \n",
    "    \n",
    "def choose_prompt(num_lines):\n",
    "        \n",
    "        assert num_lines > 1, \"Number of lines should be greater than one\"\n",
    "        \n",
    "        if num_lines==2:\n",
    "            prompt =  np.random.choice(DIALOG_TEMPLATES[\"two_lines\"])\n",
    "            \n",
    "        elif num_lines == 3:\n",
    "            prompt = np.random.choice(DIALOG_TEMPLATES[\"three_lines\"])\n",
    "\n",
    "        else:\n",
    "            prompt = np.random.choice(DIALOG_TEMPLATES[\"four_more_lines\"])\n",
    "        \n",
    "        \n",
    "        return prompt\n",
    "    \n",
    "\n",
    "def convert_to_prompts(dataset,movie_dialog_dict):\n",
    "    \n",
    "    for i in range(200,205):\n",
    "        data  = dataset['train'][i]\n",
    "\n",
    "        lineids = [int(lineid[1:]) for lineid in data['utterance']['LineID']]\n",
    "        num_lines = len(lineids)\n",
    "        \n",
    "        genre = \"-\".join(data['movieGenres'][:2])\n",
    "        template = np.random.choice(['dialog','script','play'])\n",
    "        char1 = movie_dialog_dict[f'L{lineids[0]}']['characterName']\n",
    "        char2 = movie_dialog_dict[f'L{lineids[1]}']['characterName']\n",
    "        dialogue1,dialogue2 = get_dialogs(movie_dialog_dict,lineids[0],lineids[-1])\n",
    "        prompt = choose_prompt(num_lines)\n",
    "        prompt = prompt.format(char1=char1, char2=char2, dialogue1=dialogue1, dialogue2=dialogue2, genre=genre, template=template)\n",
    "        \n",
    "        print(\"##\")\n",
    "        print(prompt)\n",
    "        \n",
    "\n",
    "        "
   ]
  },
  {
   "cell_type": "code",
   "execution_count": 10,
   "id": "756fd41d",
   "metadata": {},
   "outputs": [
    {
     "name": "stderr",
     "output_type": "stream",
     "text": [
      "Found cached dataset cornell_movie_dialog (/home/shahul/.cache/huggingface/datasets/cornell_movie_dialog/default/0.1.0/b67b3433cf894b551cddcd82efdff0826f39b39a11d5c149e746a546a8dc85f3)\n"
     ]
    },
    {
     "data": {
      "application/vnd.jupyter.widget-view+json": {
       "model_id": "00883eff6ba74bf68491a511707fa1ea",
       "version_major": 2,
       "version_minor": 0
      },
      "text/plain": [
       "  0%|          | 0/1 [00:00<?, ?it/s]"
      ]
     },
     "metadata": {},
     "output_type": "display_data"
    }
   ],
   "source": [
    "movie_dialog_dict = get_movie_dialogs()\n",
    "dataset = load_dataset(\"cornell_movie_dialog\")"
   ]
  },
  {
   "cell_type": "code",
   "execution_count": 17,
   "id": "b6f162cd",
   "metadata": {
    "scrolled": false
   },
   "outputs": [
    {
     "name": "stdout",
     "output_type": "stream",
     "text": [
      "##\n",
      "\n",
      "    WALTER: What just happened?\n",
      "    SHARON: Your daughters went to the prom.\n",
      "User : Can you provide more dialog assuming comedy-romance movie\n",
      "    WALTER: Did I have anything to say about it?\n",
      "    SHARON: Absolutely not.\n",
      "    WALTER: That ' s what I thought\n",
      "\n",
      "##\n",
      "\n",
      "    ALONSO: I never seen heat like this!  Not even in Las Minas!\n",
      "    SAILOR: The water's going putrid in the barrels.\n",
      "User : provide a response assuming you're ALONSO\n",
      "Assistant : Sure\n",
      "    ALONSO: You'll be drinking your own piss... For the glory of Spain... and Admiral Colon...!  Bastard!\n",
      "\n",
      "##\n",
      "\n",
      "    ALONSO: What are you listening to, chicken ass?\n",
      "    SAILOR: Ah, leave him alone.  He's doing no harm.\n",
      "User : provide a response assuming you're ALONSO\n",
      "Assistant : Sure\n",
      "    ALONSO: With a face like that?  I don't want you looking at me.  You hear?\n",
      "\n",
      "##\n",
      "\n",
      "User : Assume ALONSO and SAILOR are characters from a adventure-biography movie, what would SAILOR say if \n",
      "    ALONSO: He's the devil's child...\n",
      "Assistant : SAILOR could say\n",
      "    SAILOR: We'll all go crazy...\n",
      "\n",
      "##\n",
      "\n",
      "    ALONSO: We should have seen land.\n",
      "    SAILOR: We left three weeks ago, Alonso. Can't be that near.\n",
      "User : provide a response assuming you're ALONSO\n",
      "Assistant : Sure\n",
      "    ALONSO: Can't be that far, I say.  Also, I don't like the smell of the sea around here.  Smells like a cunt. Bad sign...\n",
      "\n"
     ]
    }
   ],
   "source": [
    "convert_to_prompts(dataset,movie_dialog_dict)"
   ]
  },
  {
   "cell_type": "code",
   "execution_count": null,
   "id": "c31569b6",
   "metadata": {},
   "outputs": [],
   "source": []
  }
 ],
 "metadata": {
  "kernelspec": {
   "display_name": "OpenAssistant",
   "language": "python",
   "name": "openassistant"
  },
  "language_info": {
   "codemirror_mode": {
    "name": "ipython",
    "version": 3
   },
   "file_extension": ".py",
   "mimetype": "text/x-python",
   "name": "python",
   "nbconvert_exporter": "python",
   "pygments_lexer": "ipython3",
   "version": "3.10.8"
  }
 },
 "nbformat": 4,
 "nbformat_minor": 5
}
