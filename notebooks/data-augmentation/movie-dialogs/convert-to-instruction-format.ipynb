{
 "cells": [
  {
   "cell_type": "markdown",
   "id": "493f2529",
   "metadata": {},
   "source": [
    "## Imports"
   ]
  },
  {
   "cell_type": "code",
   "execution_count": 1,
   "id": "65a47f83",
   "metadata": {},
   "outputs": [],
   "source": [
    "from datasets import load_dataset\n",
    "import numpy as np\n",
    "import json\n",
    "from tqdm import tqdm"
   ]
  },
  {
   "cell_type": "markdown",
   "id": "480440f6",
   "metadata": {},
   "source": [
    "## Dialog templates\n",
    "Templates for converting dialogs to prompts"
   ]
  },
  {
   "cell_type": "code",
   "execution_count": 2,
   "id": "fcfedd7f",
   "metadata": {},
   "outputs": [],
   "source": [
    "DIALOG_TEMPLATES = {\n",
    "    ### template for 4+ line dialogs\n",
    "    \"four_more_lines\": [\n",
    "        \"\"\"\n",
    "Here's a {template} between {char1} and {char2} in a scene from a {genre} movie\n",
    "    {dialogue1}\n",
    "User : Can you continue the {template}\n",
    "Assistant : Sure, the next dialogue for this scene could be\n",
    "    {dialogue2}\n",
    " \"\"\",\n",
    "        \"\"\"\n",
    "    {dialogue1}\n",
    "User : Can you provide more dialog assuming {genre} movie\n",
    "    {dialogue2}\n",
    "\"\"\",\n",
    "        \"\"\"\n",
    "I'm trying to complete the dialog for my characters {char1} and {char2}. Here's the {template}, Please help me complete it\n",
    "    {dialogue1}\n",
    "Assistant : Sure\n",
    "    {dialogue2}\n",
    "\"\"\",\n",
    "        \"\"\"\n",
    "User : Assume {char1} and {char2} are characters from a {genre} movie, continue the conversation between them\n",
    "    {dialogue1}\n",
    "Assistant : Sure\n",
    "    {dialogue2}\n",
    "\"\"\",\n",
    "    ],\n",
    "    ## template for 4 line dialogs\n",
    "    \"four_lines\": [\n",
    "        \"\"\"\n",
    "    {dialogue1}\n",
    "User : provide a response assuming you're {char2}\n",
    "Assistant : Sure\n",
    "    {dialogue2}\n",
    "\"\"\",\n",
    "        \"\"\"\n",
    "    {dialogue1}\n",
    "User : respond as {char2} to complete the conversation\n",
    "Assistant : Sure\n",
    "    {dialogue2}\n",
    "\"\"\",\n",
    "    ],\n",
    "}"
   ]
  },
  {
   "cell_type": "markdown",
   "id": "5e2aab0d",
   "metadata": {},
   "source": [
    "## Code"
   ]
  },
  {
   "cell_type": "markdown",
   "id": "8c03b119",
   "metadata": {},
   "source": [
    "- download movies_lines.txt from [here](https://www.kaggle.com/datasets/rajathmc/cornell-moviedialog-corpus)"
   ]
  },
  {
   "cell_type": "code",
   "execution_count": 6,
   "id": "25cae04e",
   "metadata": {},
   "outputs": [],
   "source": [
    "def get_movie_dialogs():\n",
    "\n",
    "    with open(\"/home/shahul/Data/movie_lines.txt\", \"rb\") as f:\n",
    "        movie_lines_data = [x.decode(\"latin\").split(\"+++$+++\") for x in f.readlines()]\n",
    "    movie_dialog_dict = {}\n",
    "    for dialog in movie_lines_data:\n",
    "        movie_dialog_dict[dialog[0].strip()] = {\n",
    "            \"characterID\": dialog[1].strip(),\n",
    "            \"characterName\": dialog[3].strip(),\n",
    "            \"text\": dialog[-1].strip(),\n",
    "        }\n",
    "\n",
    "    return movie_dialog_dict"
   ]
  },
  {
   "cell_type": "code",
   "execution_count": 34,
   "id": "3b949bc7",
   "metadata": {},
   "outputs": [],
   "source": [
    "def get_dialogs(dialog_dict, start, end):\n",
    "\n",
    "    dialog_list = []\n",
    "    for idx in range(start, end + 1):\n",
    "        dialog_list.append(dialog_dict[f\"L{idx}\"][\"characterName\"] + \": \" + dialog_dict[f\"L{idx}\"][\"text\"])\n",
    "    num_lines = len(dialog_list)\n",
    "\n",
    "    assert num_lines >= 1, \"Number of lines should be greater than one\"\n",
    "\n",
    "    if (num_lines < 6):\n",
    "        dialog1 = \"\\n    \".join(dialog_list[:-1])\n",
    "        dialog2 = dialog_list[-1]\n",
    "    else:\n",
    "        dialog_len = np.random.randint(3, (num_lines // 2) + 1)\n",
    "        dialog1 = \"\\n    \".join(dialog_list[:dialog_len])\n",
    "        dialog2 = \"\\n    \".join(dialog_list[dialog_len:])\n",
    "\n",
    "    return dialog1, dialog2\n",
    "\n",
    "\n",
    "def choose_prompt(num_lines):\n",
    "\n",
    "    assert num_lines >= 1, \"Number of lines should be greater than one\"\n",
    "\n",
    "    if num_lines < 6:\n",
    "        prompt = np.random.choice(DIALOG_TEMPLATES[\"four_lines\"])\n",
    "\n",
    "    else:\n",
    "        prompt = np.random.choice(DIALOG_TEMPLATES[\"four_more_lines\"])\n",
    "\n",
    "    return prompt\n",
    "\n",
    "\n",
    "def convert_to_prompts(dataset, movie_dialog_dict, output_dir=\".\", split=\"train\"):\n",
    "\n",
    "    with open(f\"{output_dir}/{split}.jsonl\", \"w\", encoding=\"utf8\") as output:\n",
    "\n",
    "        i = 0\n",
    "        while i < len(dataset[\"train\"]):\n",
    "\n",
    "            max_lines = np.random.randint(7, 12)\n",
    "            data = dataset[split][i]\n",
    "            lineids = [int(lineid[1:]) for lineid in data[\"utterance\"][\"LineID\"]]\n",
    "            num_lines = len(lineids)\n",
    "            char_ids = sorted([data[\"characterID1\"].strip(), data[\"characterID1\"].strip()])\n",
    "            while num_lines < max_lines:\n",
    "                i += 1\n",
    "                data = dataset[split][i]\n",
    "                char_id_new = sorted([data[\"characterID1\"].strip(), data[\"characterID1\"].strip()])\n",
    "                ## make sure that characters are the same\n",
    "                if char_id_new == char_ids:\n",
    "                    lineids_new = [int(lineid[1:]) for lineid in data[\"utterance\"][\"LineID\"]]\n",
    "                    if lineids_new[0] == (lineids[-1] + 1):  ##ensure continuety\n",
    "                        lineids.extend(lineids_new)\n",
    "                    else:\n",
    "                        break\n",
    "                else:\n",
    "                    break\n",
    "                num_lines = len(lineids)\n",
    "\n",
    "            genre = \"-\".join(data[\"movieGenres\"][:2])\n",
    "            template = np.random.choice([\"dialog\", \"script\", \"play\"])\n",
    "            char1 = movie_dialog_dict[f\"L{lineids[0]}\"][\"characterName\"]\n",
    "            \n",
    "            if num_lines < 6 :\n",
    "                if num_lines % 2 == 0:\n",
    "                    char2 = movie_dialog_dict[f\"L{lineids[1]}\"][\"characterName\"]\n",
    "                else:\n",
    "                    char2 = char1\n",
    "            else:\n",
    "                char2 = movie_dialog_dict[f\"L{lineids[1]}\"][\"characterName\"]\n",
    "            \n",
    "            \n",
    "            dialogue1, dialogue2 = get_dialogs(movie_dialog_dict, lineids[0], lineids[-1])\n",
    "            prompt = choose_prompt(num_lines)\n",
    "            \n",
    "            prompt = prompt.format(\n",
    "                char1=char1, char2=char2, dialogue1=dialogue1, dialogue2=dialogue2, genre=genre, template=template\n",
    "            )\n",
    "            i+=1\n",
    "            output.write(f\"{json.dumps({'conversation': prompt})}\\n\")"
   ]
  },
  {
   "cell_type": "code",
   "execution_count": 8,
   "id": "3ff310fd",
   "metadata": {},
   "outputs": [
    {
     "name": "stderr",
     "output_type": "stream",
     "text": [
      "Found cached dataset cornell_movie_dialog (/home/shahul/.cache/huggingface/datasets/cornell_movie_dialog/default/0.1.0/b67b3433cf894b551cddcd82efdff0826f39b39a11d5c149e746a546a8dc85f3)\n"
     ]
    },
    {
     "data": {
      "application/vnd.jupyter.widget-view+json": {
       "model_id": "ae8b0725414444d8a852c1796dd8556b",
       "version_major": 2,
       "version_minor": 0
      },
      "text/plain": [
       "  0%|          | 0/1 [00:00<?, ?it/s]"
      ]
     },
     "metadata": {},
     "output_type": "display_data"
    }
   ],
   "source": [
    "movie_dialog_dict = get_movie_dialogs()\n",
    "dataset = load_dataset(\"cornell_movie_dialog\")"
   ]
  },
  {
   "cell_type": "code",
   "execution_count": 35,
   "id": "8567ca12",
   "metadata": {
    "scrolled": true
   },
   "outputs": [],
   "source": [
    "convert_to_prompts(dataset, movie_dialog_dict)"
   ]
  },
  {
   "cell_type": "markdown",
   "id": "02315e91",
   "metadata": {},
   "source": [
    "## Upload as HF Dataset"
   ]
  },
  {
   "cell_type": "code",
   "execution_count": 36,
   "id": "dd4c05c1",
   "metadata": {},
   "outputs": [
    {
     "name": "stderr",
     "output_type": "stream",
     "text": [
      "Using custom data configuration default-dcc8e5aadbb9b2bf\n"
     ]
    },
    {
     "name": "stdout",
     "output_type": "stream",
     "text": [
      "Downloading and preparing dataset json/default to /home/shahul/.cache/huggingface/datasets/json/default-dcc8e5aadbb9b2bf/0.0.0/0f7e3662623656454fcd2b650f34e886a7db4b9104504885bd462096cc7a9f51...\n"
     ]
    },
    {
     "data": {
      "application/vnd.jupyter.widget-view+json": {
       "model_id": "b7e91ea4d7964bda993c56d5514d1160",
       "version_major": 2,
       "version_minor": 0
      },
      "text/plain": [
       "Downloading data files:   0%|          | 0/1 [00:00<?, ?it/s]"
      ]
     },
     "metadata": {},
     "output_type": "display_data"
    },
    {
     "data": {
      "application/vnd.jupyter.widget-view+json": {
       "model_id": "4c1e417d2b1b434b8aa1d8f52e09c148",
       "version_major": 2,
       "version_minor": 0
      },
      "text/plain": [
       "Extracting data files:   0%|          | 0/1 [00:00<?, ?it/s]"
      ]
     },
     "metadata": {},
     "output_type": "display_data"
    },
    {
     "data": {
      "application/vnd.jupyter.widget-view+json": {
       "model_id": "130da3ca3bb542dd8048329a7bbf638e",
       "version_major": 2,
       "version_minor": 0
      },
      "text/plain": [
       "Generating train split: 0 examples [00:00, ? examples/s]"
      ]
     },
     "metadata": {},
     "output_type": "display_data"
    },
    {
     "name": "stdout",
     "output_type": "stream",
     "text": [
      "Dataset json downloaded and prepared to /home/shahul/.cache/huggingface/datasets/json/default-dcc8e5aadbb9b2bf/0.0.0/0f7e3662623656454fcd2b650f34e886a7db4b9104504885bd462096cc7a9f51. Subsequent calls will reuse this data.\n"
     ]
    },
    {
     "data": {
      "application/vnd.jupyter.widget-view+json": {
       "model_id": "f067c1130307458aa76995cae2b25541",
       "version_major": 2,
       "version_minor": 0
      },
      "text/plain": [
       "  0%|          | 0/1 [00:00<?, ?it/s]"
      ]
     },
     "metadata": {},
     "output_type": "display_data"
    }
   ],
   "source": [
    "dataset_ = load_dataset(\"json\",data_files={\"train\":\"./train.jsonl\"})"
   ]
  },
  {
   "cell_type": "code",
   "execution_count": 41,
   "id": "d67fa1f9",
   "metadata": {},
   "outputs": [
    {
     "name": "stderr",
     "output_type": "stream",
     "text": [
      "Pushing split train to the Hub.\n"
     ]
    },
    {
     "data": {
      "application/vnd.jupyter.widget-view+json": {
       "model_id": "a785d1a608974f3db3b2446f7d0716e8",
       "version_major": 2,
       "version_minor": 0
      },
      "text/plain": [
       "Pushing dataset shards to the dataset hub:   0%|          | 0/1 [00:00<?, ?it/s]"
      ]
     },
     "metadata": {},
     "output_type": "display_data"
    },
    {
     "data": {
      "application/vnd.jupyter.widget-view+json": {
       "model_id": "9f797cbba2e34e198a355bd9ee276fd6",
       "version_major": 2,
       "version_minor": 0
      },
      "text/plain": [
       "Creating parquet from Arrow format:   0%|          | 0/39 [00:00<?, ?ba/s]"
      ]
     },
     "metadata": {},
     "output_type": "display_data"
    },
    {
     "data": {
      "application/vnd.jupyter.widget-view+json": {
       "model_id": "b062196a25034c65990055d694dde98f",
       "version_major": 2,
       "version_minor": 0
      },
      "text/plain": [
       "Upload 1 LFS files:   0%|          | 0/1 [00:00<?, ?it/s]"
      ]
     },
     "metadata": {},
     "output_type": "display_data"
    },
    {
     "data": {
      "application/vnd.jupyter.widget-view+json": {
       "model_id": "ab916e6ba3a44678a0774c697851ca9d",
       "version_major": 2,
       "version_minor": 0
      },
      "text/plain": [
       "Deleting unused files from dataset repository:   0%|          | 0/1 [00:00<?, ?it/s]"
      ]
     },
     "metadata": {},
     "output_type": "display_data"
    }
   ],
   "source": [
    "dataset_.push_to_hub(\"shahules786/OA-cornell-movies-dialog\")"
   ]
  },
  {
   "cell_type": "markdown",
   "id": "4b4dd2df",
   "metadata": {},
   "source": [
    "## Load Dataset from HF"
   ]
  },
  {
   "cell_type": "code",
   "execution_count": 11,
   "id": "f64c9b2e",
   "metadata": {},
   "outputs": [
    {
     "data": {
      "application/vnd.jupyter.widget-view+json": {
       "model_id": "2928a8ec5f6e42259e24246d66101b72",
       "version_major": 2,
       "version_minor": 0
      },
      "text/plain": [
       "Downloading readme:   0%|          | 0.00/1.55k [00:00<?, ?B/s]"
      ]
     },
     "metadata": {},
     "output_type": "display_data"
    },
    {
     "name": "stderr",
     "output_type": "stream",
     "text": [
      "Using custom data configuration shahules786--OA-cornell-movies-dialog-bb4490d57ad0b94e\n"
     ]
    },
    {
     "name": "stdout",
     "output_type": "stream",
     "text": [
      "Downloading and preparing dataset None/None to /home/shahul/.cache/huggingface/datasets/shahules786___parquet/shahules786--OA-cornell-movies-dialog-bb4490d57ad0b94e/0.0.0/2a3b91fbd88a2c90d1dbbb32b460cf621d31bd5b05b934492fdef7d8d6f236ec...\n"
     ]
    },
    {
     "data": {
      "application/vnd.jupyter.widget-view+json": {
       "model_id": "93ef30533484467881402789699e99bd",
       "version_major": 2,
       "version_minor": 0
      },
      "text/plain": [
       "Downloading data files:   0%|          | 0/1 [00:00<?, ?it/s]"
      ]
     },
     "metadata": {},
     "output_type": "display_data"
    },
    {
     "data": {
      "application/vnd.jupyter.widget-view+json": {
       "model_id": "ec3674a4ee764524ab9bfb2d1c0c0f79",
       "version_major": 2,
       "version_minor": 0
      },
      "text/plain": [
       "Downloading data:   0%|          | 0.00/8.71M [00:00<?, ?B/s]"
      ]
     },
     "metadata": {},
     "output_type": "display_data"
    },
    {
     "data": {
      "application/vnd.jupyter.widget-view+json": {
       "model_id": "a00b1bd7bce44cc9a63ee9e700e462b8",
       "version_major": 2,
       "version_minor": 0
      },
      "text/plain": [
       "Extracting data files:   0%|          | 0/1 [00:00<?, ?it/s]"
      ]
     },
     "metadata": {},
     "output_type": "display_data"
    },
    {
     "data": {
      "application/vnd.jupyter.widget-view+json": {
       "model_id": "73cc19a6f25844f78f017bd61344c083",
       "version_major": 2,
       "version_minor": 0
      },
      "text/plain": [
       "Generating train split:   0%|          | 0/39877 [00:00<?, ? examples/s]"
      ]
     },
     "metadata": {},
     "output_type": "display_data"
    },
    {
     "name": "stdout",
     "output_type": "stream",
     "text": [
      "Dataset parquet downloaded and prepared to /home/shahul/.cache/huggingface/datasets/shahules786___parquet/shahules786--OA-cornell-movies-dialog-bb4490d57ad0b94e/0.0.0/2a3b91fbd88a2c90d1dbbb32b460cf621d31bd5b05b934492fdef7d8d6f236ec. Subsequent calls will reuse this data.\n"
     ]
    },
    {
     "data": {
      "application/vnd.jupyter.widget-view+json": {
       "model_id": "1d9b280d3c9444508c521da036abfe8a",
       "version_major": 2,
       "version_minor": 0
      },
      "text/plain": [
       "  0%|          | 0/1 [00:00<?, ?it/s]"
      ]
     },
     "metadata": {},
     "output_type": "display_data"
    }
   ],
   "source": [
    "dataset_ = load_dataset(\"shahules786/OA-cornell-movies-dialog\")"
   ]
  },
  {
   "cell_type": "code",
   "execution_count": 42,
   "id": "1234f33f",
   "metadata": {
    "scrolled": false
   },
   "outputs": [
    {
     "name": "stdout",
     "output_type": "stream",
     "text": [
      "##\n",
      "\n",
      "Here's a dialog between BIANCA and CAMERON in a scene from a comedy-romance movie\n",
      "    BIANCA: Can we make this quick?  Roxanne Korrine and Andrew Barrett are having an incredibly horrendous public break- up on the quad.  Again.\n",
      "    CAMERON: Well, I thought we'd start with pronunciation, if that's okay with you.\n",
      "    BIANCA: Not the hacking and gagging and spitting part.  Please.\n",
      "    CAMERON: Okay... then how 'bout we try out some French cuisine.  Saturday?  Night?\n",
      "    BIANCA: You're asking me out.  That's so cute. What's your name again?\n",
      "User : Can you continue the dialog\n",
      "Assistant : Sure, the next dialogue for this scene could be\n",
      "    CAMERON: Forget it.\n",
      "    BIANCA: No, no, it's my fault -- we didn't have a proper introduction ---\n",
      "    CAMERON: Cameron.\n",
      "    BIANCA: The thing is, Cameron -- I'm at the mercy of a particularly hideous breed of loser.  My sister.  I can't date until she does.\n",
      "    CAMERON: Seems like she could get a date easy enough...\n",
      " \n",
      "##\n",
      "\n",
      "    CAMERON: Why?\n",
      "    BIANCA: Unsolved mystery.  She used to be really popular when she started high school, then it was just like she got sick of it or something.\n",
      "    CAMERON: That's a shame.\n",
      "    BIANCA: Gosh, if only we could find Kat a boyfriend...\n",
      "User : respond as CAMERON to complete the conversation\n",
      "Assistant : Sure\n",
      "    CAMERON: Let me see what I can do.\n",
      "\n",
      "##\n",
      "\n",
      "    BIANCA: How is our little Find the Wench A Date plan progressing?\n",
      "User : respond as CAMERON to complete the conversation\n",
      "Assistant : Sure\n",
      "    CAMERON: Well, there's someone I think might be --\n",
      "\n",
      "##\n",
      "\n",
      "I'm trying to complete the dialog for my characters CAMERON and BIANCA.Here's the play, Please help me complete it\n",
      "    CAMERON: You got something on your mind?\n",
      "    BIANCA: I counted on you to help my cause. You and that thug are obviously failing. Aren't we ever going on our date?\n",
      "    CAMERON: You have my word.  As a gentleman\n",
      "Assistant : Sure\n",
      "    BIANCA: You're sweet.\n",
      "    CAMERON: How do you get your hair to look like that?\n",
      "    BIANCA: Eber's Deep Conditioner every two days. And I never, ever use a blowdryer without the diffuser attachment.\n",
      "\n",
      "##\n",
      "\n",
      "    CAMERON: She's not a...\n",
      "    BIANCA: Lesbian?  No. I found a picture of Jared Leto in one of her drawers, so I'm pretty sure she's not harboring same-sex tendencies.\n",
      "    CAMERON: So that's the kind of guy she likes? Pretty ones?\n",
      "User : provide a response assuming you're BIANCA\n",
      "Assistant : Sure\n",
      "    BIANCA: Who knows?  All I've ever heard her say is that she'd dip before dating a guy that smokes.\n",
      "\n"
     ]
    }
   ],
   "source": [
    "for i in range(0,5):\n",
    "    print(\"##\")\n",
    "    print(dataset_[\"train\"][i][\"conversation\"])"
   ]
  },
  {
   "cell_type": "code",
   "execution_count": null,
   "id": "806f3ef2",
   "metadata": {},
   "outputs": [],
   "source": []
  }
 ],
 "metadata": {
  "kernelspec": {
   "display_name": "OpenAssistant",
   "language": "python",
   "name": "openassistant"
  },
  "language_info": {
   "codemirror_mode": {
    "name": "ipython",
    "version": 3
   },
   "file_extension": ".py",
   "mimetype": "text/x-python",
   "name": "python",
   "nbconvert_exporter": "python",
   "pygments_lexer": "ipython3",
   "version": "3.10.8"
  }
 },
 "nbformat": 4,
 "nbformat_minor": 5
}
