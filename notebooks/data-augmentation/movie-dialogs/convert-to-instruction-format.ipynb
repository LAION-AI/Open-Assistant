{
 "cells": [
  {
   "cell_type": "markdown",
   "id": "72329d0f",
   "metadata": {},
   "source": [
    "## Imports"
   ]
  },
  {
   "cell_type": "code",
   "execution_count": 15,
   "id": "fa158e38",
   "metadata": {},
   "outputs": [],
   "source": [
    "from datasets import load_dataset\n",
    "import numpy as np\n",
    "import json"
   ]
  },
  {
   "cell_type": "markdown",
   "id": "b6df2c3a",
   "metadata": {},
   "source": [
    "## Dialog templates\n",
    "Templates for converting dialogs to prompts"
   ]
  },
  {
   "cell_type": "code",
   "execution_count": 5,
   "id": "abd81351",
   "metadata": {},
   "outputs": [],
   "source": [
    "DIALOG_TEMPLATES = {\n",
    "    \n",
    "### template for 4+ line dialogs\n",
    "    \"four_more_lines\" : [\n",
    "\"\"\"\n",
    "Here's a {template} between {char1} and {char2} in a scene from a {genre} movie\n",
    "    {dialogue1}\n",
    "User : Can you continue the {template}\n",
    "Assistant : Sure, the next dialogue for this scene could be\n",
    "    {dialogue2}\n",
    " \"\"\",\n",
    "    \n",
    "\"\"\"\n",
    "    {dialogue1}\n",
    "User : Can you provide more dialog assuming {genre} movie\n",
    "    {dialogue2}\n",
    "\"\"\",\n",
    "    \n",
    "\"\"\"\n",
    "I'm trying to complete the dialog for my characters {char1} and {char2}.Here's the {template}, Please help me complete it\n",
    "    {dialogue1}\n",
    "Assistant : Sure\n",
    "    {dialogue2}\n",
    "\"\"\",\n",
    "    ],\n",
    "    \n",
    "## template for 2 line dialogs\n",
    "\n",
    "    \"two_lines\" : [\n",
    "\"\"\"\n",
    "User : Assume {char1} and {char2} are characters from a {genre} movie, what would {char2} say if \n",
    "    {dialogue1}\n",
    "Assistant : {char2} could say\n",
    "    {dialogue2}\n",
    "\"\"\",\n",
    "],\n",
    "    \n",
    "## template for 3 line dialogs\n",
    "    \"three_lines\" : [\n",
    "\"\"\"\n",
    "    {dialogue1}\n",
    "User : provide a response assuming you're {char1}\n",
    "Assistant : Sure\n",
    "    {dialogue2}\n",
    "\"\"\",\n",
    "    \n",
    "\"\"\"\n",
    "    {dialogue1}\n",
    "User : respond as {char1} to complete the conversation\n",
    "Assistant : Sure\n",
    "    {dialogue2}\n",
    "\"\"\",\n",
    "    ]\n",
    "    \n",
    "    \n",
    "    \n",
    "}"
   ]
  },
  {
   "cell_type": "markdown",
   "id": "6e738ca3",
   "metadata": {},
   "source": [
    "## Code"
   ]
  },
  {
   "cell_type": "code",
   "execution_count": 6,
   "id": "c1942e5b",
   "metadata": {},
   "outputs": [],
   "source": [
    "def get_movie_dialogs():\n",
    "    \n",
    "    with open(\"/home/shahul/Data/movie_lines.txt\",'rb') as f:\n",
    "        movie_lines_data = [x.decode(\"latin\").split(\"+++$+++\") for x in f.readlines()]\n",
    "    movie_dialog_dict = {}\n",
    "    for dialog in movie_lines_data:\n",
    "        movie_dialog_dict[dialog[0].strip()] = {\"characterID\":dialog[1].strip(),\"characterName\":dialog[3].strip(),'text':dialog[-1].strip()}\n",
    "        \n",
    "    return movie_dialog_dict"
   ]
  },
  {
   "cell_type": "code",
   "execution_count": 24,
   "id": "ea9d6a10",
   "metadata": {},
   "outputs": [],
   "source": [
    "def get_dialogs(dialog_dict,start,end):\n",
    "    \n",
    "    dialog_list = []\n",
    "    for idx in range(start,end+1):\n",
    "        dialog_list.append(dialog_dict[f'L{idx}']['characterName']+\": \"+dialog_dict[f'L{idx}']['text'])\n",
    "    num_lines = len(dialog_list)\n",
    "    \n",
    "    assert num_lines > 1, \"Number of lines should be greater than one\"\n",
    "        \n",
    "    if num_lines == 2:\n",
    "        dialog1 = dialog_list[0]\n",
    "        dialog2 = dialog_list[1]\n",
    "    elif num_lines in (3,4):\n",
    "        dialog1 = \"\\n    \".join(dialog_list[:2])\n",
    "        dialog2 = \"\\n    \".join(dialog_list[2:])\n",
    "    else:\n",
    "        dialog_len = np.random.randint(2,(num_lines+1)//2)\n",
    "        dialog1 = \"\\n    \".join(dialog_list[:dialog_len])\n",
    "        dialog2 = \"\\n    \".join(dialog_list[dialog_len:])\n",
    "    \n",
    "    return dialog1,dialog2\n",
    "    \n",
    "    \n",
    "def choose_prompt(num_lines):\n",
    "        \n",
    "        assert num_lines > 1, \"Number of lines should be greater than one\"\n",
    "        \n",
    "        if num_lines==2:\n",
    "            prompt =  np.random.choice(DIALOG_TEMPLATES[\"two_lines\"])\n",
    "            \n",
    "        elif num_lines == 3:\n",
    "            prompt = np.random.choice(DIALOG_TEMPLATES[\"three_lines\"])\n",
    "\n",
    "        else:\n",
    "            prompt = np.random.choice(DIALOG_TEMPLATES[\"four_more_lines\"])\n",
    "        \n",
    "        \n",
    "        return prompt\n",
    "    \n",
    "\n",
    "def convert_to_prompts(dataset,movie_dialog_dict,output_dir=\".\",split = \"train\"):\n",
    "    \n",
    "   \n",
    "    with open(f\"{output_dir}/{split}.jsonl\", \"w\", encoding=\"utf8\") as output:\n",
    "        \n",
    "        for i in range(0,10):\n",
    "            data  = dataset[split][i]\n",
    "\n",
    "            lineids = [int(lineid[1:]) for lineid in data['utterance']['LineID']]\n",
    "            num_lines = len(lineids)\n",
    "\n",
    "            genre = \"-\".join(data['movieGenres'][:2])\n",
    "            template = np.random.choice(['dialog','script','play'])\n",
    "            char1 = movie_dialog_dict[f'L{lineids[0]}']['characterName']\n",
    "            char2 = movie_dialog_dict[f'L{lineids[1]}']['characterName']\n",
    "            dialogue1,dialogue2 = get_dialogs(movie_dialog_dict,lineids[0],lineids[-1])\n",
    "            prompt = choose_prompt(num_lines)\n",
    "            prompt = prompt.format(char1=char1, char2=char2, dialogue1=dialogue1, dialogue2=dialogue2, genre=genre, template=template)\n",
    "            \n",
    "            if i<5:\n",
    "                print(\"##\")\n",
    "                print(prompt)\n",
    "\n",
    "            output.write(f\"{json.dumps({'conversation': prompt})}\\n\")\n",
    "\n",
    "\n",
    "        "
   ]
  },
  {
   "cell_type": "code",
   "execution_count": 19,
   "id": "bba2fc74",
   "metadata": {},
   "outputs": [
    {
     "name": "stderr",
     "output_type": "stream",
     "text": [
      "Found cached dataset cornell_movie_dialog (/home/shahul/.cache/huggingface/datasets/cornell_movie_dialog/default/0.1.0/b67b3433cf894b551cddcd82efdff0826f39b39a11d5c149e746a546a8dc85f3)\n"
     ]
    },
    {
     "data": {
      "application/vnd.jupyter.widget-view+json": {
       "model_id": "d06f12259f304178becea5532e1e1cb7",
       "version_major": 2,
       "version_minor": 0
      },
      "text/plain": [
       "  0%|          | 0/1 [00:00<?, ?it/s]"
      ]
     },
     "metadata": {},
     "output_type": "display_data"
    }
   ],
   "source": [
    "movie_dialog_dict = get_movie_dialogs()\n",
    "dataset = load_dataset(\"cornell_movie_dialog\")"
   ]
  },
  {
   "cell_type": "code",
   "execution_count": 25,
   "id": "b9092c22",
   "metadata": {
    "scrolled": false
   },
   "outputs": [
    {
     "name": "stdout",
     "output_type": "stream",
     "text": [
      "##\n",
      "\n",
      "Here's a play between BIANCA and CAMERON in a scene from a comedy-romance movie\n",
      "    BIANCA: Can we make this quick?  Roxanne Korrine and Andrew Barrett are having an incredibly horrendous public break- up on the quad.  Again.\n",
      "    CAMERON: Well, I thought we'd start with pronunciation, if that's okay with you.\n",
      "User : Can you continue the play\n",
      "Assistant : Sure, the next dialogue for this scene could be\n",
      "    BIANCA: Not the hacking and gagging and spitting part.  Please.\n",
      "    CAMERON: Okay... then how 'bout we try out some French cuisine.  Saturday?  Night?\n",
      " \n",
      "##\n",
      "\n",
      "User : Assume BIANCA and CAMERON are characters from a comedy-romance movie, what would CAMERON say if \n",
      "    BIANCA: You're asking me out.  That's so cute. What's your name again?\n",
      "Assistant : CAMERON could say\n",
      "    CAMERON: Forget it.\n",
      "\n",
      "##\n",
      "\n",
      "I'm trying to complete the dialog for my characters BIANCA and CAMERON.Here's the play, Please help me complete it\n",
      "    BIANCA: No, no, it's my fault -- we didn't have a proper introduction ---\n",
      "    CAMERON: Cameron.\n",
      "Assistant : Sure\n",
      "    BIANCA: The thing is, Cameron -- I'm at the mercy of a particularly hideous breed of loser.  My sister.  I can't date until she does.\n",
      "    CAMERON: Seems like she could get a date easy enough...\n",
      "\n",
      "##\n",
      "\n",
      "    CAMERON: Why?\n",
      "    BIANCA: Unsolved mystery.  She used to be really popular when she started high school, then it was just like she got sick of it or something.\n",
      "User : provide a response assuming you're CAMERON\n",
      "Assistant : Sure\n",
      "    CAMERON: That's a shame.\n",
      "\n",
      "##\n",
      "\n",
      "User : Assume BIANCA and CAMERON are characters from a comedy-romance movie, what would CAMERON say if \n",
      "    BIANCA: Gosh, if only we could find Kat a boyfriend...\n",
      "Assistant : CAMERON could say\n",
      "    CAMERON: Let me see what I can do.\n",
      "\n"
     ]
    }
   ],
   "source": [
    "convert_to_prompts(dataset,movie_dialog_dict)"
   ]
  },
  {
   "cell_type": "code",
   "execution_count": null,
   "id": "a2f5401c",
   "metadata": {},
   "outputs": [],
   "source": []
  }
 ],
 "metadata": {
  "kernelspec": {
   "display_name": "OpenAssistant",
   "language": "python",
   "name": "openassistant"
  },
  "language_info": {
   "codemirror_mode": {
    "name": "ipython",
    "version": 3
   },
   "file_extension": ".py",
   "mimetype": "text/x-python",
   "name": "python",
   "nbconvert_exporter": "python",
   "pygments_lexer": "ipython3",
   "version": "3.10.8"
  }
 },
 "nbformat": 4,
 "nbformat_minor": 5
}
