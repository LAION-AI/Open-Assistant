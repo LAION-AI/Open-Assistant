{
 "cells": [
  {
   "cell_type": "markdown",
   "id": "db0fe51e",
   "metadata": {},
   "source": [
    "[![Open In Colab](https://colab.research.google.com/assets/colab-badge.svg)](https://colab.research.google.com/github/LAION-AI/Open-Assistant/blob/main/notebooks/data-augmentation/anthropic/Safety%20Classifier.ipynb)"
   ]
  },
  {
   "cell_type": "markdown",
   "id": "a442e038",
   "metadata": {},
   "source": [
    "## Imports"
   ]
  },
  {
   "cell_type": "code",
   "execution_count": 3,
   "id": "39655e52",
   "metadata": {},
   "outputs": [],
   "source": [
    "from datasets import load_dataset\n",
    "import numpy as np\n",
    "from sklearn.metrics import f1_score\n",
    "from transformers import AutoTokenizer,AutoModelForSequenceClassification,TrainingArguments, Trainer\n",
    "import torch"
   ]
  },
  {
   "cell_type": "code",
   "execution_count": 4,
   "id": "7de5afc5",
   "metadata": {},
   "outputs": [],
   "source": [
    "MAXLEN = 128\n",
    "MODEL = 'roberta-base'"
   ]
  },
  {
   "cell_type": "code",
   "execution_count": 5,
   "id": "cffdc79e",
   "metadata": {},
   "outputs": [
    {
     "data": {
      "text/plain": [
       "True"
      ]
     },
     "execution_count": 5,
     "metadata": {},
     "output_type": "execute_result"
    }
   ],
   "source": [
    "torch.cuda.is_available()"
   ]
  },
  {
   "cell_type": "markdown",
   "id": "deb4a6cd",
   "metadata": {},
   "source": [
    "### Load data"
   ]
  },
  {
   "cell_type": "code",
   "execution_count": 6,
   "id": "d7333530",
   "metadata": {},
   "outputs": [
    {
     "name": "stderr",
     "output_type": "stream",
     "text": [
      "Using custom data configuration allenai--prosocial-dialog-ebbad39ca08b6d44\n",
      "Found cached dataset json (/home/shahul/.cache/huggingface/datasets/allenai___json/allenai--prosocial-dialog-ebbad39ca08b6d44/0.0.0/0f7e3662623656454fcd2b650f34e886a7db4b9104504885bd462096cc7a9f51)\n"
     ]
    },
    {
     "data": {
      "application/vnd.jupyter.widget-view+json": {
       "model_id": "14da350b43d84de48360a0ac2f5d3ef7",
       "version_major": 2,
       "version_minor": 0
      },
      "text/plain": [
       "  0%|          | 0/3 [00:00<?, ?it/s]"
      ]
     },
     "metadata": {},
     "output_type": "display_data"
    }
   ],
   "source": [
    "dataset = load_dataset(\"allenai/prosocial-dialog\")\n"
   ]
  },
  {
   "cell_type": "code",
   "execution_count": 7,
   "id": "751df40c",
   "metadata": {},
   "outputs": [],
   "source": [
    "label_to_id = {\"__casual__\":0,\"__needs_caution__\":1,\"__needs_intervention__\":2,\"__probably_needs_caution__\":3,\"__possibly_needs_caution__\":4}"
   ]
  },
  {
   "cell_type": "markdown",
   "id": "54d235b3",
   "metadata": {},
   "source": [
    "### Data preparation"
   ]
  },
  {
   "cell_type": "code",
   "execution_count": 8,
   "id": "6c748ebb",
   "metadata": {},
   "outputs": [],
   "source": [
    "\n",
    "from torch.utils.data import Dataset\n",
    "class ProSocialDataset(Dataset):\n",
    "    \n",
    "    def __init__(self,split):\n",
    "        \n",
    "        super().__init__()\n",
    "        self.tokenizer = AutoTokenizer.from_pretrained(MODEL)\n",
    "        self.sep_token  = self.tokenizer.sep_token\n",
    "        self.dataset = dataset[split]\n",
    "        self.label2id = label_to_id\n",
    "        self.id2label = {v:k for k,v in label_to_id.items()}\n",
    "    \n",
    "    def __len__(self):\n",
    "        return len(self.dataset)\n",
    "    \n",
    "    def __getitem__(self,idx):\n",
    "        \n",
    "        context = self.dataset[idx]\n",
    "        idx_start = idx \n",
    "        end = self.dataset[max(0,idx_start-1)][\"episode_done\"]\n",
    "        while ((not end) and (idx_start>0)):\n",
    "            end = self.dataset[max(0,idx_start-2)][\"episode_done\"]\n",
    "            idx_start -= 1\n",
    "        idx_start = max(0,idx_start)\n",
    "        \n",
    "        prev_context = [f'{self.dataset[i][\"context\"]}' for i in range(idx_start,idx)]\n",
    "        rots = self.dataset[idx][\"rots\"]\n",
    "        context = f'{self.dataset[idx][\"context\"]}' + self.sep_token + \"\".join(prev_context) + self.sep_token + \"\".join(rots)\n",
    "        \n",
    "        encoding = self.tokenizer(\n",
    "                    context,\n",
    "                    max_length=MAXLEN, \n",
    "                    add_special_tokens=True,\n",
    "                    truncation=True, \n",
    "                    padding='max_length')\n",
    "        \n",
    "        encoding[\"labels\"] = self.label2id[self.dataset[idx][\"safety_label\"]]\n",
    "        \n",
    "        return encoding\n",
    "        \n",
    "        \n",
    "        "
   ]
  },
  {
   "cell_type": "markdown",
   "id": "569494a8",
   "metadata": {},
   "source": [
    "### Load Model"
   ]
  },
  {
   "cell_type": "code",
   "execution_count": 9,
   "id": "30e5661b",
   "metadata": {},
   "outputs": [
    {
     "name": "stderr",
     "output_type": "stream",
     "text": [
      "Some weights of the model checkpoint at roberta-base were not used when initializing RobertaForSequenceClassification: ['lm_head.dense.bias', 'lm_head.layer_norm.bias', 'lm_head.dense.weight', 'lm_head.layer_norm.weight', 'roberta.pooler.dense.bias', 'lm_head.bias', 'roberta.pooler.dense.weight', 'lm_head.decoder.weight']\n",
      "- This IS expected if you are initializing RobertaForSequenceClassification from the checkpoint of a model trained on another task or with another architecture (e.g. initializing a BertForSequenceClassification model from a BertForPreTraining model).\n",
      "- This IS NOT expected if you are initializing RobertaForSequenceClassification from the checkpoint of a model that you expect to be exactly identical (initializing a BertForSequenceClassification model from a BertForSequenceClassification model).\n",
      "Some weights of RobertaForSequenceClassification were not initialized from the model checkpoint at roberta-base and are newly initialized: ['classifier.out_proj.bias', 'classifier.dense.weight', 'classifier.out_proj.weight', 'classifier.dense.bias']\n",
      "You should probably TRAIN this model on a down-stream task to be able to use it for predictions and inference.\n"
     ]
    }
   ],
   "source": [
    "tokenizer = AutoTokenizer.from_pretrained(MODEL)\n",
    "model = AutoModelForSequenceClassification.from_pretrained(MODEL,num_labels=len(label_to_id))"
   ]
  },
  {
   "cell_type": "code",
   "execution_count": 10,
   "id": "171d237b",
   "metadata": {},
   "outputs": [],
   "source": [
    "train_dataset = ProSocialDataset(\"train\")\n",
    "eval_dataset = ProSocialDataset(\"validation\")"
   ]
  },
  {
   "cell_type": "markdown",
   "id": "a2729b39",
   "metadata": {},
   "source": [
    "### Define eval metric "
   ]
  },
  {
   "cell_type": "code",
   "execution_count": 13,
   "id": "afe55b0b",
   "metadata": {},
   "outputs": [],
   "source": [
    "def compute_metrics(eval_pred):\n",
    "    logits, labels = eval_pred\n",
    "    predictions = np.argmax(logits, axis=-1)\n",
    "    return {\"f1\":f1_score(labels,predictions,average=\"micro\")}"
   ]
  },
  {
   "cell_type": "markdown",
   "id": "f4ea4618",
   "metadata": {},
   "source": [
    "### Set trainer"
   ]
  },
  {
   "cell_type": "code",
   "execution_count": 14,
   "id": "28cf8165",
   "metadata": {},
   "outputs": [],
   "source": [
    "training_args = TrainingArguments(output_dir=\"test_trainer\",\n",
    "                                  overwrite_output_dir = True,\n",
    "                                  per_device_train_batch_size = 128,\n",
    "                                  per_device_eval_batch_size= 128,\n",
    "                                  learning_rate=3e-5,\n",
    "                                  weight_decay = 0.01,\n",
    "                                  evaluation_strategy=\"epoch\",\n",
    "                                  #lr_scheduler_type=\"cosine\",\n",
    "                                  num_train_epochs=5,\n",
    "                                  load_best_model_at_end=True,\n",
    "                                  save_strategy=\"epoch\")\n",
    "trainer_bert = Trainer(\n",
    "    model=model,\n",
    "    args=training_args,\n",
    "    train_dataset=train_dataset,\n",
    "    eval_dataset=eval_dataset,\n",
    "    compute_metrics=compute_metrics,\n",
    ")"
   ]
  },
  {
   "cell_type": "markdown",
   "id": "d84ffb7e",
   "metadata": {},
   "source": [
    "### Train model"
   ]
  },
  {
   "cell_type": "code",
   "execution_count": 16,
   "id": "1c484325",
   "metadata": {},
   "outputs": [],
   "source": [
    "trainer_bert.train()"
   ]
  },
  {
   "cell_type": "markdown",
   "id": "7eca0b1d",
   "metadata": {},
   "source": [
    "### Save and push to hub"
   ]
  },
  {
   "cell_type": "code",
   "execution_count": 2,
   "id": "730f0bd4",
   "metadata": {},
   "outputs": [],
   "source": [
    "model = AutoModelForSequenceClassification.from_pretrained(\"./test_trainer/checkpoint-940\")"
   ]
  },
  {
   "cell_type": "code",
   "execution_count": 15,
   "id": "1f65c147",
   "metadata": {},
   "outputs": [
    {
     "name": "stderr",
     "output_type": "stream",
     "text": [
      "Saving model checkpoint to safety-cls\n",
      "Configuration saved in safety-cls/config.json\n",
      "Model weights saved in safety-cls/pytorch_model.bin\n"
     ]
    }
   ],
   "source": [
    "model.push_to_hub(\"shahules786/prosocial-classifier\")"
   ]
  },
  {
   "cell_type": "code",
   "execution_count": null,
   "id": "c205afed",
   "metadata": {},
   "outputs": [],
   "source": []
  }
 ],
 "metadata": {
  "kernelspec": {
   "display_name": "OpenAssistant",
   "language": "python",
   "name": "openassistant"
  },
  "language_info": {
   "codemirror_mode": {
    "name": "ipython",
    "version": 3
   },
   "file_extension": ".py",
   "mimetype": "text/x-python",
   "name": "python",
   "nbconvert_exporter": "python",
   "pygments_lexer": "ipython3",
   "version": "3.10.8"
  }
 },
 "nbformat": 4,
 "nbformat_minor": 5
}
