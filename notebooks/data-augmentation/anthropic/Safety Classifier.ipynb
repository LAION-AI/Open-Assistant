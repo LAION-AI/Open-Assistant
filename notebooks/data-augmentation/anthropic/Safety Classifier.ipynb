{
 "cells": [
  {
   "cell_type": "markdown",
   "id": "a442e038",
   "metadata": {},
   "source": [
    "## Imports"
   ]
  },
  {
   "cell_type": "code",
   "execution_count": 1,
   "id": "39655e52",
   "metadata": {},
   "outputs": [],
   "source": [
    "from datasets import load_dataset\n",
    "import numpy as np\n",
    "from sklearn.metrics import f1_score\n",
    "from transformers import AutoTokenizer,AutoModelForSequenceClassification,TrainingArguments, Trainer"
   ]
  },
  {
   "cell_type": "code",
   "execution_count": 2,
   "id": "c64ebdc2",
   "metadata": {},
   "outputs": [],
   "source": [
    "import torch"
   ]
  },
  {
   "cell_type": "code",
   "execution_count": 3,
   "id": "cffdc79e",
   "metadata": {},
   "outputs": [
    {
     "data": {
      "text/plain": [
       "True"
      ]
     },
     "execution_count": 3,
     "metadata": {},
     "output_type": "execute_result"
    }
   ],
   "source": [
    "torch.cuda.is_available()"
   ]
  },
  {
   "cell_type": "code",
   "execution_count": 4,
   "id": "d7333530",
   "metadata": {},
   "outputs": [
    {
     "name": "stderr",
     "output_type": "stream",
     "text": [
      "Using custom data configuration allenai--prosocial-dialog-ebbad39ca08b6d44\n",
      "Found cached dataset json (/home/shahul/.cache/huggingface/datasets/allenai___json/allenai--prosocial-dialog-ebbad39ca08b6d44/0.0.0/0f7e3662623656454fcd2b650f34e886a7db4b9104504885bd462096cc7a9f51)\n"
     ]
    },
    {
     "data": {
      "application/vnd.jupyter.widget-view+json": {
       "model_id": "71463ada4bd44b498029b067c596c223",
       "version_major": 2,
       "version_minor": 0
      },
      "text/plain": [
       "  0%|          | 0/3 [00:00<?, ?it/s]"
      ]
     },
     "metadata": {},
     "output_type": "display_data"
    }
   ],
   "source": [
    "dataset = load_dataset(\"allenai/prosocial-dialog\")\n"
   ]
  },
  {
   "cell_type": "code",
   "execution_count": 5,
   "id": "63e91f85",
   "metadata": {},
   "outputs": [],
   "source": [
    "MODEL = 'roberta-base'"
   ]
  },
  {
   "cell_type": "code",
   "execution_count": 6,
   "id": "751df40c",
   "metadata": {},
   "outputs": [],
   "source": [
    "label_to_id = {\"__casual__\":0,\"__needs_caution__\":1,\"__needs_intervention__\":2,\"__probably_needs_caution__\":3,\"__possibly_needs_caution__\":4}"
   ]
  },
  {
   "cell_type": "code",
   "execution_count": 7,
   "id": "6c748ebb",
   "metadata": {},
   "outputs": [],
   "source": [
    "MAXLEN = 128\n",
    "from torch.utils.data import Dataset\n",
    "class ProSocialDataset(Dataset):\n",
    "    \n",
    "    def __init__(self,split):\n",
    "        \n",
    "        super().__init__()\n",
    "        self.tokenizer = AutoTokenizer.from_pretrained(MODEL)\n",
    "        self.sep_token  = self.tokenizer.sep_token\n",
    "        self.dataset = dataset[split]\n",
    "        self.label2id = label_to_id\n",
    "        self.id2label = {v:k for k,v in label_to_id.items()}\n",
    "    \n",
    "    def __len__(self):\n",
    "        return len(self.dataset)\n",
    "    \n",
    "    def __getitem__(self,idx):\n",
    "        \n",
    "        context = self.dataset[idx]\n",
    "        idx_start = idx \n",
    "        end = self.dataset[max(0,idx_start-1)][\"episode_done\"]\n",
    "        while ((not end) and (idx_start>0)):\n",
    "            end = self.dataset[max(0,idx_start-2)][\"episode_done\"]\n",
    "            idx_start -= 1\n",
    "        idx_start = max(0,idx_start)\n",
    "        \n",
    "        prev_context = [f'{self.dataset[i][\"context\"]}' for i in range(idx_start,idx)]\n",
    "        rots = self.dataset[idx][\"rots\"]\n",
    "        context = f'{self.dataset[idx][\"context\"]}' + self.sep_token + \"\".join(prev_context) + self.sep_token + \"\".join(rots)\n",
    "        \n",
    "        encoding = self.tokenizer(\n",
    "                    context,\n",
    "                    max_length=MAXLEN, \n",
    "                    add_special_tokens=True,\n",
    "                    truncation=True, \n",
    "                    padding='max_length')\n",
    "        \n",
    "        encoding[\"labels\"] = self.label2id[self.dataset[idx][\"safety_label\"]]\n",
    "        \n",
    "        return encoding\n",
    "        \n",
    "        \n",
    "        "
   ]
  },
  {
   "cell_type": "code",
   "execution_count": 8,
   "id": "30e5661b",
   "metadata": {},
   "outputs": [
    {
     "name": "stderr",
     "output_type": "stream",
     "text": [
      "Some weights of the model checkpoint at roberta-base were not used when initializing RobertaForSequenceClassification: ['roberta.pooler.dense.bias', 'lm_head.bias', 'lm_head.dense.bias', 'lm_head.dense.weight', 'lm_head.decoder.weight', 'roberta.pooler.dense.weight', 'lm_head.layer_norm.bias', 'lm_head.layer_norm.weight']\n",
      "- This IS expected if you are initializing RobertaForSequenceClassification from the checkpoint of a model trained on another task or with another architecture (e.g. initializing a BertForSequenceClassification model from a BertForPreTraining model).\n",
      "- This IS NOT expected if you are initializing RobertaForSequenceClassification from the checkpoint of a model that you expect to be exactly identical (initializing a BertForSequenceClassification model from a BertForSequenceClassification model).\n",
      "Some weights of RobertaForSequenceClassification were not initialized from the model checkpoint at roberta-base and are newly initialized: ['classifier.out_proj.weight', 'classifier.out_proj.bias', 'classifier.dense.bias', 'classifier.dense.weight']\n",
      "You should probably TRAIN this model on a down-stream task to be able to use it for predictions and inference.\n"
     ]
    }
   ],
   "source": [
    "tokenizer = AutoTokenizer.from_pretrained(MODEL)\n",
    "model = AutoModelForSequenceClassification.from_pretrained(MODEL,num_labels=len(label_to_id))"
   ]
  },
  {
   "cell_type": "code",
   "execution_count": 10,
   "id": "171d237b",
   "metadata": {},
   "outputs": [
    {
     "name": "stderr",
     "output_type": "stream",
     "text": [
      "Loading cached shuffled indices for dataset at /home/shahul/.cache/huggingface/datasets/allenai___json/allenai--prosocial-dialog-ebbad39ca08b6d44/0.0.0/0f7e3662623656454fcd2b650f34e886a7db4b9104504885bd462096cc7a9f51/cache-6988ddb0c4ced9f9.arrow\n",
      "Loading cached shuffled indices for dataset at /home/shahul/.cache/huggingface/datasets/allenai___json/allenai--prosocial-dialog-ebbad39ca08b6d44/0.0.0/0f7e3662623656454fcd2b650f34e886a7db4b9104504885bd462096cc7a9f51/cache-bf21e449abb2f575.arrow\n"
     ]
    }
   ],
   "source": [
    "train_dataset = ProSocialDataset(\"train\")\n",
    "eval_dataset = ProSocialDataset(\"validation\")"
   ]
  },
  {
   "cell_type": "code",
   "execution_count": 12,
   "id": "afe55b0b",
   "metadata": {},
   "outputs": [],
   "source": [
    "def compute_metrics(eval_pred):\n",
    "    logits, labels = eval_pred\n",
    "    predictions = np.argmax(logits, axis=-1)\n",
    "    return {\"f1\":f1_score(labels,predictions,average=\"micro\")}"
   ]
  },
  {
   "cell_type": "code",
   "execution_count": 13,
   "id": "28cf8165",
   "metadata": {},
   "outputs": [],
   "source": [
    "# Training\n",
    "training_args = TrainingArguments(output_dir=\"test_trainer\",\n",
    "                                  overwrite_output_dir = True,\n",
    "                                  per_device_train_batch_size = 128,\n",
    "                                  per_device_eval_batch_size= 128,\n",
    "                                  learning_rate=3e-5,\n",
    "                                  weight_decay = 0.01,\n",
    "                                  evaluation_strategy=\"epoch\",\n",
    "                                  #lr_scheduler_type=\"cosine\",\n",
    "                                  num_train_epochs=5,\n",
    "                                  load_best_model_at_end=True,\n",
    "                                  save_strategy=\"epoch\")\n",
    "trainer_bert = Trainer(\n",
    "    model=model,\n",
    "    args=training_args,\n",
    "    train_dataset=train_dataset,\n",
    "    eval_dataset=eval_dataset,\n",
    "    compute_metrics=compute_metrics,\n",
    ")"
   ]
  },
  {
   "cell_type": "code",
   "execution_count": 14,
   "id": "1c484325",
   "metadata": {},
   "outputs": [
    {
     "name": "stderr",
     "output_type": "stream",
     "text": [
      "The following columns in the training set don't have a corresponding argument in `RobertaForSequenceClassification.forward` and have been ignored: safety_label, dialogue_id, rots, response, source, response_id, safety_annotation_reasons, etc, safety_annotations, episode_done, context. If safety_label, dialogue_id, rots, response, source, response_id, safety_annotation_reasons, etc, safety_annotations, episode_done, context are not expected by `RobertaForSequenceClassification.forward`,  you can safely ignore this message.\n",
      "/home/shahul/anaconda3/envs/OA/lib/python3.10/site-packages/transformers/optimization.py:306: FutureWarning: This implementation of AdamW is deprecated and will be removed in a future version. Use the PyTorch implementation torch.optim.AdamW instead, or set `no_deprecation_warning=True` to disable this warning\n",
      "  warnings.warn(\n",
      "***** Running training *****\n",
      "  Num examples = 1000\n",
      "  Num Epochs = 3\n",
      "  Instantaneous batch size per device = 8\n",
      "  Total train batch size (w. parallel, distributed & accumulation) = 8\n",
      "  Gradient Accumulation steps = 1\n",
      "  Total optimization steps = 375\n",
      "  Number of trainable parameters = 124649477\n"
     ]
    },
    {
     "data": {
      "text/html": [
       "\n",
       "    <div>\n",
       "      \n",
       "      <progress value='375' max='375' style='width:300px; height:20px; vertical-align: middle;'></progress>\n",
       "      [375/375 02:47, Epoch 3/3]\n",
       "    </div>\n",
       "    <table border=\"1\" class=\"dataframe\">\n",
       "  <thead>\n",
       " <tr style=\"text-align: left;\">\n",
       "      <th>Epoch</th>\n",
       "      <th>Training Loss</th>\n",
       "      <th>Validation Loss</th>\n",
       "      <th>Accuracy</th>\n",
       "    </tr>\n",
       "  </thead>\n",
       "  <tbody>\n",
       "    <tr>\n",
       "      <td>1</td>\n",
       "      <td>No log</td>\n",
       "      <td>1.486423</td>\n",
       "      <td>0.423000</td>\n",
       "    </tr>\n",
       "    <tr>\n",
       "      <td>2</td>\n",
       "      <td>No log</td>\n",
       "      <td>1.484509</td>\n",
       "      <td>0.423000</td>\n",
       "    </tr>\n",
       "    <tr>\n",
       "      <td>3</td>\n",
       "      <td>No log</td>\n",
       "      <td>1.485051</td>\n",
       "      <td>0.423000</td>\n",
       "    </tr>\n",
       "  </tbody>\n",
       "</table><p>"
      ],
      "text/plain": [
       "<IPython.core.display.HTML object>"
      ]
     },
     "metadata": {},
     "output_type": "display_data"
    },
    {
     "name": "stderr",
     "output_type": "stream",
     "text": [
      "The following columns in the evaluation set don't have a corresponding argument in `RobertaForSequenceClassification.forward` and have been ignored: safety_label, dialogue_id, rots, response, source, response_id, safety_annotation_reasons, etc, safety_annotations, episode_done, context. If safety_label, dialogue_id, rots, response, source, response_id, safety_annotation_reasons, etc, safety_annotations, episode_done, context are not expected by `RobertaForSequenceClassification.forward`,  you can safely ignore this message.\n",
      "***** Running Evaluation *****\n",
      "  Num examples = 1000\n",
      "  Batch size = 8\n",
      "The following columns in the evaluation set don't have a corresponding argument in `RobertaForSequenceClassification.forward` and have been ignored: safety_label, dialogue_id, rots, response, source, response_id, safety_annotation_reasons, etc, safety_annotations, episode_done, context. If safety_label, dialogue_id, rots, response, source, response_id, safety_annotation_reasons, etc, safety_annotations, episode_done, context are not expected by `RobertaForSequenceClassification.forward`,  you can safely ignore this message.\n",
      "***** Running Evaluation *****\n",
      "  Num examples = 1000\n",
      "  Batch size = 8\n",
      "The following columns in the evaluation set don't have a corresponding argument in `RobertaForSequenceClassification.forward` and have been ignored: safety_label, dialogue_id, rots, response, source, response_id, safety_annotation_reasons, etc, safety_annotations, episode_done, context. If safety_label, dialogue_id, rots, response, source, response_id, safety_annotation_reasons, etc, safety_annotations, episode_done, context are not expected by `RobertaForSequenceClassification.forward`,  you can safely ignore this message.\n",
      "***** Running Evaluation *****\n",
      "  Num examples = 1000\n",
      "  Batch size = 8\n",
      "\n",
      "\n",
      "Training completed. Do not forget to share your model on huggingface.co/models =)\n",
      "\n",
      "\n"
     ]
    },
    {
     "data": {
      "text/plain": [
       "TrainOutput(global_step=375, training_loss=1.4957096354166666, metrics={'train_runtime': 167.936, 'train_samples_per_second': 17.864, 'train_steps_per_second': 2.233, 'total_flos': 197338606848000.0, 'train_loss': 1.4957096354166666, 'epoch': 3.0})"
      ]
     },
     "execution_count": 14,
     "metadata": {},
     "output_type": "execute_result"
    }
   ],
   "source": [
    "# trainer_bert.train()"
   ]
  },
  {
   "cell_type": "code",
   "execution_count": 17,
   "id": "730f0bd4",
   "metadata": {},
   "outputs": [
    {
     "name": "stderr",
     "output_type": "stream",
     "text": [
      "loading configuration file safety-cls/config.json\n",
      "Model config RobertaConfig {\n",
      "  \"_name_or_path\": \"safety-cls\",\n",
      "  \"architectures\": [\n",
      "    \"RobertaForSequenceClassification\"\n",
      "  ],\n",
      "  \"attention_probs_dropout_prob\": 0.1,\n",
      "  \"bos_token_id\": 0,\n",
      "  \"classifier_dropout\": null,\n",
      "  \"eos_token_id\": 2,\n",
      "  \"hidden_act\": \"gelu\",\n",
      "  \"hidden_dropout_prob\": 0.1,\n",
      "  \"hidden_size\": 768,\n",
      "  \"id2label\": {\n",
      "    \"0\": \"LABEL_0\",\n",
      "    \"1\": \"LABEL_1\",\n",
      "    \"2\": \"LABEL_2\",\n",
      "    \"3\": \"LABEL_3\",\n",
      "    \"4\": \"LABEL_4\"\n",
      "  },\n",
      "  \"initializer_range\": 0.02,\n",
      "  \"intermediate_size\": 3072,\n",
      "  \"label2id\": {\n",
      "    \"LABEL_0\": 0,\n",
      "    \"LABEL_1\": 1,\n",
      "    \"LABEL_2\": 2,\n",
      "    \"LABEL_3\": 3,\n",
      "    \"LABEL_4\": 4\n",
      "  },\n",
      "  \"layer_norm_eps\": 1e-05,\n",
      "  \"max_position_embeddings\": 514,\n",
      "  \"model_type\": \"roberta\",\n",
      "  \"num_attention_heads\": 12,\n",
      "  \"num_hidden_layers\": 12,\n",
      "  \"pad_token_id\": 1,\n",
      "  \"position_embedding_type\": \"absolute\",\n",
      "  \"problem_type\": \"single_label_classification\",\n",
      "  \"torch_dtype\": \"float32\",\n",
      "  \"transformers_version\": \"4.26.1\",\n",
      "  \"type_vocab_size\": 1,\n",
      "  \"use_cache\": true,\n",
      "  \"vocab_size\": 50265\n",
      "}\n",
      "\n",
      "loading weights file safety-cls/pytorch_model.bin\n",
      "All model checkpoint weights were used when initializing RobertaForSequenceClassification.\n",
      "\n",
      "All the weights of RobertaForSequenceClassification were initialized from the model checkpoint at safety-cls.\n",
      "If your task is similar to the task the model of the checkpoint was trained on, you can already use RobertaForSequenceClassification for predictions without further training.\n"
     ]
    }
   ],
   "source": [
    "model = AutoModelForSequenceClassification.from_pretrained(\"safety-cls\")"
   ]
  },
  {
   "cell_type": "code",
   "execution_count": 15,
   "id": "1f65c147",
   "metadata": {},
   "outputs": [
    {
     "name": "stderr",
     "output_type": "stream",
     "text": [
      "Saving model checkpoint to safety-cls\n",
      "Configuration saved in safety-cls/config.json\n",
      "Model weights saved in safety-cls/pytorch_model.bin\n"
     ]
    }
   ],
   "source": [
    "model.push_to_hub(\"shahules786/prosocial-classifier\")"
   ]
  },
  {
   "cell_type": "code",
   "execution_count": null,
   "id": "c205afed",
   "metadata": {},
   "outputs": [],
   "source": []
  }
 ],
 "metadata": {
  "kernelspec": {
   "display_name": "OpenAssistant",
   "language": "python",
   "name": "openassistant"
  },
  "language_info": {
   "codemirror_mode": {
    "name": "ipython",
    "version": 3
   },
   "file_extension": ".py",
   "mimetype": "text/x-python",
   "name": "python",
   "nbconvert_exporter": "python",
   "pygments_lexer": "ipython3",
   "version": "3.10.8"
  }
 },
 "nbformat": 4,
 "nbformat_minor": 5
}
