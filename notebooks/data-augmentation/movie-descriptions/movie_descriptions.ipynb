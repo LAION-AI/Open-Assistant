{
  "cells": [
    {
      "cell_type": "code",
      "execution_count": null,
      "metadata": {
        "id": "HTNVpcYyUmOF"
      },
      "outputs": [],
      "source": [
        "!pip install pandas\n",
        "!pip install scrapy\n",
        "!pip install wikipedia"
      ]
    },
    {
      "cell_type": "code",
      "execution_count": 5,
      "metadata": {},
      "outputs": [],
      "source": [
        "import requests\n",
        "from scrapy import Selector\n",
        "from urllib.parse import urljoin\n",
        "import re\n",
        "import pandas as pd\n",
        "from random import choice\n",
        "import wikipedia"
      ]
    },
    {
      "cell_type": "code",
      "execution_count": 6,
      "metadata": {
        "colab": {
          "background_save": true
        },
        "id": "Mmb6GNTzUssD"
      },
      "outputs": [],
      "source": [
        "def number_filtering(texto: str):\n",
        "    numeros = re.findall(r'\\d+', texto)\n",
        "    resultado = ''.join(numeros)\n",
        "    return resultado"
      ]
    },
    {
      "cell_type": "code",
      "execution_count": 7,
      "metadata": {
        "id": "hbTDxPlNs2uk"
      },
      "outputs": [],
      "source": [
        "questions = [\n",
        "      \"Write a description of the film\",\n",
        "      \"Write a description about the film\",\n",
        "      \"I would like you to summarise the film\",\n",
        "      \"Can you write a summary of the film\",\n",
        "      \"Summarises the film\"\n",
        "      # ...\n",
        "  ]\n",
        "\n",
        "home_url = \"https://letterboxd.com\"\n",
        "response = requests.get(\"https://letterboxd.com/films/ajax/popular/?esiAllowFilters=true\")\n",
        "df = pd.DataFrame(columns=['INSTRUCTION', 'RESPONSE', 'SOURCE'], index=None)\n",
        "wikipedia.set_lang(\"en\")"
      ]
    },
    {
      "cell_type": "code",
      "execution_count": null,
      "metadata": {
        "id": "NF_mdubFsohr"
      },
      "outputs": [],
      "source": [
        "while True:\n",
        "    # The process can take hours or days, so I recommend setting a limit on the number -\n",
        "    # of data to be obtained. Example:\n",
        "    # if df.shape[0] > 5000:\n",
        "    #    break\n",
        "    \n",
        "    selector1 = Selector(text=response.text)\n",
        "    # Get film urls (72 per page)\n",
        "    films_urls = selector1.css(\".listitem.poster-container div::attr(data-target-link)\").getall()\n",
        "    for url in films_urls:\n",
        "        response = requests.get(urljoin(home_url, url))\n",
        "        selector = Selector(text=response.text)\n",
        "        film_title = selector.css(\"h1.headline-1.js-widont.prettify ::text\").get()\n",
        "        try:\n",
        "            # You can specify 'sentences: int' keyword to get less film description text\n",
        "            film_description = wikipedia.summary(f\"{film_title} film\", auto_suggest=True)\n",
        "        except wikipedia.DisambiguationError as e:\n",
        "           \n",
        "            print(e)\n",
        "            results = wikipedia.search(film_title, 10, False)\n",
        "            for res in results[0]:\n",
        "                if film_title in res:\n",
        "                    film_description = wikipedia.summary(f\"{res}\", auto_suggest=False)\n",
        "        except wikipedia.PageError as e:\n",
        "            film_description = None\n",
        "        \n",
        "        if film_description:\n",
        "            df = df.append(\n",
        "                {\n",
        "                        'INSTRUCTION': f\"{choice(questions)} {film_title}\",\n",
        "                        'RESPONSE': film_description,\n",
        "                        'SOURCE': 'Wikipedia & Letterbox'\n",
        "                },\n",
        "                ignore_index=True)\n",
        "        print(df)\n",
        "        \n",
        "    next_p_number = number_filtering(selector1.css(\".paginate-nextprev a.next::attr(href)\").get())\n",
        "    if next_p_number:\n",
        "        next_page = f\"https://letterboxd.com/films/ajax/popular/page/{next_p_number}?esiAllowFilters=true\"\n",
        "        response = requests.get(urljoin(home_url, next_page))\n",
        "    else:\n",
        "        break"
      ]
    },
    {
      "cell_type": "code",
      "execution_count": null,
      "metadata": {},
      "outputs": [],
      "source": [
        "df"
      ]
    },
    {
      "cell_type": "code",
      "execution_count": null,
      "metadata": {
        "id": "M-oczi97ssHO"
      },
      "outputs": [],
      "source": [
        "# df.to_json(\"films.jsonl\", orient='records', lines=True)\n",
        "# df.to_parquet(\"films.parquet\", row_group_size=100, engine=\"pyarrow\")"
      ]
    }
  ],
  "metadata": {
    "colab": {
      "provenance": []
    },
    "kernelspec": {
      "display_name": "Python 3",
      "language": "python",
      "name": "python3"
    },
    "language_info": {
      "codemirror_mode": {
        "name": "ipython",
        "version": 3
      },
      "file_extension": ".py",
      "mimetype": "text/x-python",
      "name": "python",
      "nbconvert_exporter": "python",
      "pygments_lexer": "ipython3",
      "version": "3.9.0"
    },
    "vscode": {
      "interpreter": {
        "hash": "45797abf7cde6e9fd30a1bbf2712169c227f9ea75bcc0b0a4c5a4ecdb26b0eba"
      }
    }
  },
  "nbformat": 4,
  "nbformat_minor": 0
}
