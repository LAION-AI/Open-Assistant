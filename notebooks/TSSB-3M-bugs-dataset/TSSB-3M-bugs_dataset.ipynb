{
 "cells": [
  {
   "attachments": {},
   "cell_type": "markdown",
   "metadata": {
    "id": "JHqH51O5_ejS"
   },
   "source": [
    "[![Open In Colab](https://colab.research.google.com/assets/colab-badge.svg)](https://colab.research.google.com/github/LAION-AI/Open-Assistant/blob/main/notebooks/TSSB-3M-bugs-dataset/TSSB-3M-bugs_dataset.ipynb)\n"
   ]
  },
  {
   "cell_type": "markdown",
   "metadata": {
    "id": "6JHd6FzFA2Ba"
   },
   "source": [
    "# ManySStuBs4J Dataset\n",
    "\n",
    "The [ManySStuBs4J corpus](https://zenodo.org/record/3653444#.Y_P429LMKV4) is a collection of simple fixes to Java bugs, designed for evaluating program repair techniques. We collect all bug-fixing changes using the SZZ heuristic, and then filter these to obtain a data set of small bug fix changes."
   ]
  },
  {
   "cell_type": "markdown",
   "metadata": {
    "id": "dFx9i_8p_hWv"
   },
   "source": [
    "# Download and unzip dataset"
   ]
  },
  {
   "cell_type": "code",
   "execution_count": null,
   "metadata": {
    "colab": {
     "base_uri": "https://localhost:8080/"
    },
    "id": "JX30EGFCovSb",
    "outputId": "b0850115-bd3d-4dc8-af15-fe0a69a88458"
   },
   "outputs": [
    {
     "name": "stdout",
     "output_type": "stream",
     "text": [
      "--2023-02-09 22:24:48--  https://zenodo.org/record/5845439/files/tssb_data_3M.zip?download=1\n",
      "Resolving zenodo.org (zenodo.org)... 188.185.124.72\n",
      "Connecting to zenodo.org (zenodo.org)|188.185.124.72|:443... connected.\n",
      "HTTP request sent, awaiting response... 200 OK\n",
      "Length: 912363356 (870M) [application/octet-stream]\n",
      "Saving to: ‘tssb_data_3M.zip?download=1’\n",
      "\n",
      "tssb_data_3M.zip?do 100%[===================>] 870.10M  25.1MB/s    in 1m 43s  \n",
      "\n",
      "2023-02-09 22:26:33 (8.46 MB/s) - ‘tssb_data_3M.zip?download=1’ saved [912363356/912363356]\n",
      "\n"
     ]
    }
   ],
   "source": [
    "!wget https://zenodo.org/record/5845439/files/tssb_data_3M.zip?download=1"
   ]
  },
  {
   "cell_type": "code",
   "execution_count": null,
   "metadata": {
    "id": "4vNnhMVuoyiX"
   },
   "outputs": [],
   "source": [
    "!mv tssb_data_3M.zip?download=1 tssb_data_3M.zip"
   ]
  },
  {
   "cell_type": "code",
   "execution_count": null,
   "metadata": {
    "colab": {
     "base_uri": "https://localhost:8080/"
    },
    "id": "UcB_YY42pXBW",
    "outputId": "d34d42c5-d2ad-43b9-a87f-1e7b52d56a89"
   },
   "outputs": [
    {
     "name": "stdout",
     "output_type": "stream",
     "text": [
      "Archive:  tssb_data_3M.zip\n",
      "   creating: tssb_data_3M/\n",
      "  inflating: tssb_data_3M/file-14.jsonl.gz  \n",
      "  inflating: tssb_data_3M/file-15.jsonl.gz  \n",
      "  inflating: tssb_data_3M/file-20.jsonl.gz  \n",
      "  inflating: tssb_data_3M/file-21.jsonl.gz  \n",
      "  inflating: tssb_data_3M/file-7.jsonl.gz  \n",
      "  inflating: tssb_data_3M/file-6.jsonl.gz  \n",
      "  inflating: tssb_data_3M/file-0.jsonl.gz  \n",
      "  inflating: tssb_data_3M/file-1.jsonl.gz  \n",
      "  inflating: tssb_data_3M/file-30.jsonl.gz  \n",
      "  inflating: tssb_data_3M/file-31.jsonl.gz  \n",
      "  inflating: tssb_data_3M/file-13.jsonl.gz  \n",
      "  inflating: tssb_data_3M/file-12.jsonl.gz  \n",
      "  inflating: tssb_data_3M/file-19.jsonl.gz  \n",
      "  inflating: tssb_data_3M/file-18.jsonl.gz  \n",
      "  inflating: tssb_data_3M/file-27.jsonl.gz  \n",
      "  inflating: tssb_data_3M/file-26.jsonl.gz  \n",
      "  inflating: tssb_data_3M/README.md  \n",
      "  inflating: tssb_data_3M/file-4.jsonl.gz  \n",
      "  inflating: tssb_data_3M/file-5.jsonl.gz  \n",
      "  inflating: tssb_data_3M/file-23.jsonl.gz  \n",
      "  inflating: tssb_data_3M/file-22.jsonl.gz  \n",
      "  inflating: tssb_data_3M/file-17.jsonl.gz  \n",
      "  inflating: tssb_data_3M/file-16.jsonl.gz  \n",
      "  inflating: tssb_data_3M/file-29.jsonl.gz  \n",
      "  inflating: tssb_data_3M/file-28.jsonl.gz  \n",
      "  inflating: tssb_data_3M/statistics.txt  \n",
      "  inflating: tssb_data_3M/file-24.jsonl.gz  \n",
      "  inflating: tssb_data_3M/file-25.jsonl.gz  \n",
      "  inflating: tssb_data_3M/file-10.jsonl.gz  \n",
      "  inflating: tssb_data_3M/file-11.jsonl.gz  \n",
      "  inflating: tssb_data_3M/file-3.jsonl.gz  \n",
      "  inflating: tssb_data_3M/file-2.jsonl.gz  \n",
      "  inflating: tssb_data_3M/file-33.jsonl.gz  \n",
      "  inflating: tssb_data_3M/file-32.jsonl.gz  \n",
      "  inflating: tssb_data_3M/file-9.jsonl.gz  \n",
      "  inflating: tssb_data_3M/file-8.jsonl.gz  \n"
     ]
    }
   ],
   "source": [
    "!unzip tssb_data_3M.zip"
   ]
  },
  {
   "cell_type": "markdown",
   "metadata": {
    "id": "GhWY81uy_j64"
   },
   "source": [
    "# Read dataset with pandas and show it as a table"
   ]
  },
  {
   "cell_type": "code",
   "execution_count": null,
   "metadata": {
    "colab": {
     "base_uri": "https://localhost:8080/",
     "height": 818
    },
    "id": "-ESBQae-pczf",
    "outputId": "4e7bf4e9-8cc4-4f4f-c5f5-26abccfd0065"
   },
   "outputs": [
    {
     "data": {
      "text/html": [
       "\n",
       "  <div id=\"df-360fca4a-889e-477f-a599-b85a9f0ca006\">\n",
       "    <div class=\"colab-df-container\">\n",
       "      <div>\n",
       "<style scoped>\n",
       "    .dataframe tbody tr th:only-of-type {\n",
       "        vertical-align: middle;\n",
       "    }\n",
       "\n",
       "    .dataframe tbody tr th {\n",
       "        vertical-align: top;\n",
       "    }\n",
       "\n",
       "    .dataframe thead th {\n",
       "        text-align: right;\n",
       "    }\n",
       "</style>\n",
       "<table border=\"1\" class=\"dataframe\">\n",
       "  <thead>\n",
       "    <tr style=\"text-align: right;\">\n",
       "      <th></th>\n",
       "      <th>project</th>\n",
       "      <th>commit_sha</th>\n",
       "      <th>parent_sha</th>\n",
       "      <th>file_path</th>\n",
       "      <th>project_url</th>\n",
       "      <th>likely_bug</th>\n",
       "      <th>comodified</th>\n",
       "      <th>in_function</th>\n",
       "      <th>diff</th>\n",
       "      <th>before</th>\n",
       "      <th>after</th>\n",
       "      <th>sstub_pattern</th>\n",
       "      <th>edit_script</th>\n",
       "    </tr>\n",
       "  </thead>\n",
       "  <tbody>\n",
       "    <tr>\n",
       "      <th>0</th>\n",
       "      <td>ZZ-FORK-cpython</td>\n",
       "      <td>c146b96d89558aad74d1dbf6cc1b1d17eb8fa672</td>\n",
       "      <td>8b790ac635ae1bab0f7e0d006977687753ae8017</td>\n",
       "      <td>Lib/SocketServer.py</td>\n",
       "      <td>https://github.com/marwahaha/ZZ-FORK-cpython</td>\n",
       "      <td>True</td>\n",
       "      <td>False</td>\n",
       "      <td>True</td>\n",
       "      <td>@@ -570,7 +570,7 @@ class DatagramRequestHandl...</td>\n",
       "      <td>self . wfile = StringIO . StringIO ( self . pa...</td>\n",
       "      <td>self . wfile = StringIO . StringIO ( )</td>\n",
       "      <td>SAME_FUNCTION_LESS_ARGS</td>\n",
       "      <td>[[\"Delete\", [\"identifier:self\", 3, 40, 3, 44]]...</td>\n",
       "    </tr>\n",
       "    <tr>\n",
       "      <th>1</th>\n",
       "      <td>ZZ-FORK-cpython</td>\n",
       "      <td>24ef3c8f644d7883912333c9cf6fd7e6b495b0b0</td>\n",
       "      <td>6a83f4b89019f83584d88b42a76ada5331b15209</td>\n",
       "      <td>Lib/warnings.py</td>\n",
       "      <td>https://github.com/marwahaha/ZZ-FORK-cpython</td>\n",
       "      <td>True</td>\n",
       "      <td>False</td>\n",
       "      <td>True</td>\n",
       "      <td>@@ -139,7 +139,7 @@ def filterwarnings(action,...</td>\n",
       "      <td>\"\"\"Reset the list of warnings filters to its d...</td>\n",
       "      <td>\"\"\"Clear the list of warning filters, so that ...</td>\n",
       "      <td>CHANGE_STRING_LITERAL</td>\n",
       "      <td>[[\"Update\", [\"string:\\\"\\\"\\\"Reset the list of w...</td>\n",
       "    </tr>\n",
       "    <tr>\n",
       "      <th>2</th>\n",
       "      <td>ZZ-FORK-cpython</td>\n",
       "      <td>8da0dedc7811b6fdf7e94fe95aa7a7dec3517ef2</td>\n",
       "      <td>443f27cd846aca4d4373ac724bfd5d39fb6ea705</td>\n",
       "      <td>Tools/bgen/bgen/bgenObjectDefinition.py</td>\n",
       "      <td>https://github.com/marwahaha/ZZ-FORK-cpython</td>\n",
       "      <td>True</td>\n",
       "      <td>False</td>\n",
       "      <td>True</td>\n",
       "      <td>@@ -123,7 +123,7 @@ class ObjectDefinition(Gen...</td>\n",
       "      <td>Output ( \"PyMem_DEL(self);\" )</td>\n",
       "      <td>Output ( \"PyObject_Del(self);\" )</td>\n",
       "      <td>CHANGE_STRING_LITERAL</td>\n",
       "      <td>[[\"Update\", [\"string:\\\"PyMem_DEL(self);\\\"\", 3,...</td>\n",
       "    </tr>\n",
       "    <tr>\n",
       "      <th>3</th>\n",
       "      <td>ZZ-FORK-cpython</td>\n",
       "      <td>d367c410c03a9d9c8afb5fa335f8d25c9d0bdf18</td>\n",
       "      <td>423a883803f6daf026476d90c14d0117a6a3fb0d</td>\n",
       "      <td>Lib/idlelib/IOBinding.py</td>\n",
       "      <td>https://github.com/marwahaha/ZZ-FORK-cpython</td>\n",
       "      <td>True</td>\n",
       "      <td>False</td>\n",
       "      <td>True</td>\n",
       "      <td>@@ -178,7 +178,7 @@ class IOBinding:\\n        ...</td>\n",
       "      <td>chars = self . text . get ( \"1.0\" , \"end-1c\" )</td>\n",
       "      <td>chars = str ( self . text . get ( \"1.0\" , \"end...</td>\n",
       "      <td>ADD_FUNCTION_AROUND_EXPRESSION</td>\n",
       "      <td>[[\"Insert\", [\"call\", 3, 21, 3, 51], [\"identifi...</td>\n",
       "    </tr>\n",
       "    <tr>\n",
       "      <th>4</th>\n",
       "      <td>ZZ-FORK-cpython</td>\n",
       "      <td>635506640f9ec5ba96b146b042660b2031ed6650</td>\n",
       "      <td>3c74d10b5445d202e247702fae241f3aa7008506</td>\n",
       "      <td>Mac/scripts/gensuitemodule.py</td>\n",
       "      <td>https://github.com/marwahaha/ZZ-FORK-cpython</td>\n",
       "      <td>True</td>\n",
       "      <td>False</td>\n",
       "      <td>True</td>\n",
       "      <td>@@ -498,7 +498,7 @@ def compileevent(fp, event...</td>\n",
       "      <td>fp . write ( \"\\t\\tif _arguments.has_key('errn'...</td>\n",
       "      <td>fp . write ( \"\\t\\tif _arguments.get('errn', 0)...</td>\n",
       "      <td>CHANGE_STRING_LITERAL</td>\n",
       "      <td>[[\"Update\", [\"string:\\\"\\\\t\\\\tif _arguments.has...</td>\n",
       "    </tr>\n",
       "    <tr>\n",
       "      <th>...</th>\n",
       "      <td>...</td>\n",
       "      <td>...</td>\n",
       "      <td>...</td>\n",
       "      <td>...</td>\n",
       "      <td>...</td>\n",
       "      <td>...</td>\n",
       "      <td>...</td>\n",
       "      <td>...</td>\n",
       "      <td>...</td>\n",
       "      <td>...</td>\n",
       "      <td>...</td>\n",
       "      <td>...</td>\n",
       "      <td>...</td>\n",
       "    </tr>\n",
       "    <tr>\n",
       "      <th>99995</th>\n",
       "      <td>square1-frappe</td>\n",
       "      <td>6f04ae4264ed4e4a191f3ece9e3c6657724ddd29</td>\n",
       "      <td>76d5cb2bda8dd4024b8a3f49c6c191536977cbb6</td>\n",
       "      <td>frappe/model/bean.py</td>\n",
       "      <td>https://github.com/sagar30051991/square1-frappe</td>\n",
       "      <td>True</td>\n",
       "      <td>False</td>\n",
       "      <td>True</td>\n",
       "      <td>@@ -89,7 +89,7 @@ class Bean:\\n \\t\\tself.docli...</td>\n",
       "      <td>if self . doc . get_meta ( ) . issingle : self...</td>\n",
       "      <td>if self . doc . meta . issingle : self . doc ....</td>\n",
       "      <td>SINGLE_STMT</td>\n",
       "      <td>[[\"Move\", [\"attribute\", 3, 6, 3, 34], [\"attrib...</td>\n",
       "    </tr>\n",
       "    <tr>\n",
       "      <th>99996</th>\n",
       "      <td>square1-frappe</td>\n",
       "      <td>c6bbc1c06d72378de4dcadbbbb92f74d628b3197</td>\n",
       "      <td>385d02873cc3bacfaf54c99d71ebc8300ca9fb20</td>\n",
       "      <td>frappe/model/doctype.py</td>\n",
       "      <td>https://github.com/sagar30051991/square1-frappe</td>\n",
       "      <td>True</td>\n",
       "      <td>False</td>\n",
       "      <td>True</td>\n",
       "      <td>@@ -302,7 +302,7 @@ def add_custom_script(doc)...</td>\n",
       "      <td>doc . fields [ \"__js\" ] = ( doc . fields . get...</td>\n",
       "      <td>doc . fields [ \"__js\" ] = ( doc . fields . get...</td>\n",
       "      <td>SINGLE_STMT</td>\n",
       "      <td>[[\"Insert\", [\"binary_operator\", 3, 23, 3, 75],...</td>\n",
       "    </tr>\n",
       "    <tr>\n",
       "      <th>99997</th>\n",
       "      <td>square1-frappe</td>\n",
       "      <td>c08e9cb8880dd4c887377ee15178114187ba5ac2</td>\n",
       "      <td>9e9713b7938c6e41f4c1c0001382bf88cc92219c</td>\n",
       "      <td>frappe/utils/backups.py</td>\n",
       "      <td>https://github.com/sagar30051991/square1-frappe</td>\n",
       "      <td>True</td>\n",
       "      <td>False</td>\n",
       "      <td>True</td>\n",
       "      <td>@@ -145,7 +145,7 @@ def scheduled_backup(older...</td>\n",
       "      <td>odb = BackupGenerator ( frappe . db . cur_db_n...</td>\n",
       "      <td>odb = BackupGenerator ( frappe . conf . db_nam...</td>\n",
       "      <td>SINGLE_STMT</td>\n",
       "      <td>[[\"Update\", [\"identifier:cur_db_name\", 3, 34, ...</td>\n",
       "    </tr>\n",
       "    <tr>\n",
       "      <th>99998</th>\n",
       "      <td>square1-frappe</td>\n",
       "      <td>c1bb57c12571cb3db3c58dd1571b1d1824410c2f</td>\n",
       "      <td>96c2d92153e1eea1489b339ca9ef74798d42c223</td>\n",
       "      <td>frappe/desk/doctype/todo/todo.py</td>\n",
       "      <td>https://github.com/sagar30051991/square1-frappe</td>\n",
       "      <td>True</td>\n",
       "      <td>False</td>\n",
       "      <td>True</td>\n",
       "      <td>@@ -14,7 +14,7 @@ sender_field = \"sender\"\\n cl...</td>\n",
       "      <td>self . add_assign_comment ( frappe . _ ( \"Assi...</td>\n",
       "      <td>self . add_assign_comment ( frappe . _ ( \"Assi...</td>\n",
       "      <td>SINGLE_STMT</td>\n",
       "      <td>[[\"Insert\", [\"argument_list\", 3, 62, 3, 88], [...</td>\n",
       "    </tr>\n",
       "    <tr>\n",
       "      <th>99999</th>\n",
       "      <td>square1-frappe</td>\n",
       "      <td>0c646bf5eaa258520f1f1d9f8e0920dc9af41883</td>\n",
       "      <td>1aca8fd98b932f9c8a2695cd64ab4d09252037e2</td>\n",
       "      <td>frappe/core/page/data_import_tool/data_import_...</td>\n",
       "      <td>https://github.com/sagar30051991/square1-frappe</td>\n",
       "      <td>True</td>\n",
       "      <td>False</td>\n",
       "      <td>True</td>\n",
       "      <td>@@ -89,7 +89,7 @@ def import_doc(path, overwri...</td>\n",
       "      <td>frappe . modules . import_file . import_file_b...</td>\n",
       "      <td>frappe . modules . import_file . import_file_b...</td>\n",
       "      <td>SAME_FUNCTION_MORE_ARGS</td>\n",
       "      <td>[[\"Insert\", [\"argument_list\", 3, 50, 3, 71], [...</td>\n",
       "    </tr>\n",
       "  </tbody>\n",
       "</table>\n",
       "<p>100000 rows × 13 columns</p>\n",
       "</div>\n",
       "      <button class=\"colab-df-convert\" onclick=\"convertToInteractive('df-360fca4a-889e-477f-a599-b85a9f0ca006')\"\n",
       "              title=\"Convert this dataframe to an interactive table.\"\n",
       "              style=\"display:none;\">\n",
       "        \n",
       "  <svg xmlns=\"http://www.w3.org/2000/svg\" height=\"24px\"viewBox=\"0 0 24 24\"\n",
       "       width=\"24px\">\n",
       "    <path d=\"M0 0h24v24H0V0z\" fill=\"none\"/>\n",
       "    <path d=\"M18.56 5.44l.94 2.06.94-2.06 2.06-.94-2.06-.94-.94-2.06-.94 2.06-2.06.94zm-11 1L8.5 8.5l.94-2.06 2.06-.94-2.06-.94L8.5 2.5l-.94 2.06-2.06.94zm10 10l.94 2.06.94-2.06 2.06-.94-2.06-.94-.94-2.06-.94 2.06-2.06.94z\"/><path d=\"M17.41 7.96l-1.37-1.37c-.4-.4-.92-.59-1.43-.59-.52 0-1.04.2-1.43.59L10.3 9.45l-7.72 7.72c-.78.78-.78 2.05 0 2.83L4 21.41c.39.39.9.59 1.41.59.51 0 1.02-.2 1.41-.59l7.78-7.78 2.81-2.81c.8-.78.8-2.07 0-2.86zM5.41 20L4 18.59l7.72-7.72 1.47 1.35L5.41 20z\"/>\n",
       "  </svg>\n",
       "      </button>\n",
       "      \n",
       "  <style>\n",
       "    .colab-df-container {\n",
       "      display:flex;\n",
       "      flex-wrap:wrap;\n",
       "      gap: 12px;\n",
       "    }\n",
       "\n",
       "    .colab-df-convert {\n",
       "      background-color: #E8F0FE;\n",
       "      border: none;\n",
       "      border-radius: 50%;\n",
       "      cursor: pointer;\n",
       "      display: none;\n",
       "      fill: #1967D2;\n",
       "      height: 32px;\n",
       "      padding: 0 0 0 0;\n",
       "      width: 32px;\n",
       "    }\n",
       "\n",
       "    .colab-df-convert:hover {\n",
       "      background-color: #E2EBFA;\n",
       "      box-shadow: 0px 1px 2px rgba(60, 64, 67, 0.3), 0px 1px 3px 1px rgba(60, 64, 67, 0.15);\n",
       "      fill: #174EA6;\n",
       "    }\n",
       "\n",
       "    [theme=dark] .colab-df-convert {\n",
       "      background-color: #3B4455;\n",
       "      fill: #D2E3FC;\n",
       "    }\n",
       "\n",
       "    [theme=dark] .colab-df-convert:hover {\n",
       "      background-color: #434B5C;\n",
       "      box-shadow: 0px 1px 3px 1px rgba(0, 0, 0, 0.15);\n",
       "      filter: drop-shadow(0px 1px 2px rgba(0, 0, 0, 0.3));\n",
       "      fill: #FFFFFF;\n",
       "    }\n",
       "  </style>\n",
       "\n",
       "      <script>\n",
       "        const buttonEl =\n",
       "          document.querySelector('#df-360fca4a-889e-477f-a599-b85a9f0ca006 button.colab-df-convert');\n",
       "        buttonEl.style.display =\n",
       "          google.colab.kernel.accessAllowed ? 'block' : 'none';\n",
       "\n",
       "        async function convertToInteractive(key) {\n",
       "          const element = document.querySelector('#df-360fca4a-889e-477f-a599-b85a9f0ca006');\n",
       "          const dataTable =\n",
       "            await google.colab.kernel.invokeFunction('convertToInteractive',\n",
       "                                                     [key], {});\n",
       "          if (!dataTable) return;\n",
       "\n",
       "          const docLinkHtml = 'Like what you see? Visit the ' +\n",
       "            '<a target=\"_blank\" href=https://colab.research.google.com/notebooks/data_table.ipynb>data table notebook</a>'\n",
       "            + ' to learn more about interactive tables.';\n",
       "          element.innerHTML = '';\n",
       "          dataTable['output_type'] = 'display_data';\n",
       "          await google.colab.output.renderOutput(dataTable, element);\n",
       "          const docLink = document.createElement('div');\n",
       "          docLink.innerHTML = docLinkHtml;\n",
       "          element.appendChild(docLink);\n",
       "        }\n",
       "      </script>\n",
       "    </div>\n",
       "  </div>\n",
       "  "
      ],
      "text/plain": [
       "               project                                commit_sha  \\\n",
       "0      ZZ-FORK-cpython  c146b96d89558aad74d1dbf6cc1b1d17eb8fa672   \n",
       "1      ZZ-FORK-cpython  24ef3c8f644d7883912333c9cf6fd7e6b495b0b0   \n",
       "2      ZZ-FORK-cpython  8da0dedc7811b6fdf7e94fe95aa7a7dec3517ef2   \n",
       "3      ZZ-FORK-cpython  d367c410c03a9d9c8afb5fa335f8d25c9d0bdf18   \n",
       "4      ZZ-FORK-cpython  635506640f9ec5ba96b146b042660b2031ed6650   \n",
       "...                ...                                       ...   \n",
       "99995   square1-frappe  6f04ae4264ed4e4a191f3ece9e3c6657724ddd29   \n",
       "99996   square1-frappe  c6bbc1c06d72378de4dcadbbbb92f74d628b3197   \n",
       "99997   square1-frappe  c08e9cb8880dd4c887377ee15178114187ba5ac2   \n",
       "99998   square1-frappe  c1bb57c12571cb3db3c58dd1571b1d1824410c2f   \n",
       "99999   square1-frappe  0c646bf5eaa258520f1f1d9f8e0920dc9af41883   \n",
       "\n",
       "                                     parent_sha  \\\n",
       "0      8b790ac635ae1bab0f7e0d006977687753ae8017   \n",
       "1      6a83f4b89019f83584d88b42a76ada5331b15209   \n",
       "2      443f27cd846aca4d4373ac724bfd5d39fb6ea705   \n",
       "3      423a883803f6daf026476d90c14d0117a6a3fb0d   \n",
       "4      3c74d10b5445d202e247702fae241f3aa7008506   \n",
       "...                                         ...   \n",
       "99995  76d5cb2bda8dd4024b8a3f49c6c191536977cbb6   \n",
       "99996  385d02873cc3bacfaf54c99d71ebc8300ca9fb20   \n",
       "99997  9e9713b7938c6e41f4c1c0001382bf88cc92219c   \n",
       "99998  96c2d92153e1eea1489b339ca9ef74798d42c223   \n",
       "99999  1aca8fd98b932f9c8a2695cd64ab4d09252037e2   \n",
       "\n",
       "                                               file_path  \\\n",
       "0                                    Lib/SocketServer.py   \n",
       "1                                        Lib/warnings.py   \n",
       "2                Tools/bgen/bgen/bgenObjectDefinition.py   \n",
       "3                               Lib/idlelib/IOBinding.py   \n",
       "4                          Mac/scripts/gensuitemodule.py   \n",
       "...                                                  ...   \n",
       "99995                               frappe/model/bean.py   \n",
       "99996                            frappe/model/doctype.py   \n",
       "99997                            frappe/utils/backups.py   \n",
       "99998                   frappe/desk/doctype/todo/todo.py   \n",
       "99999  frappe/core/page/data_import_tool/data_import_...   \n",
       "\n",
       "                                           project_url  likely_bug  \\\n",
       "0         https://github.com/marwahaha/ZZ-FORK-cpython        True   \n",
       "1         https://github.com/marwahaha/ZZ-FORK-cpython        True   \n",
       "2         https://github.com/marwahaha/ZZ-FORK-cpython        True   \n",
       "3         https://github.com/marwahaha/ZZ-FORK-cpython        True   \n",
       "4         https://github.com/marwahaha/ZZ-FORK-cpython        True   \n",
       "...                                                ...         ...   \n",
       "99995  https://github.com/sagar30051991/square1-frappe        True   \n",
       "99996  https://github.com/sagar30051991/square1-frappe        True   \n",
       "99997  https://github.com/sagar30051991/square1-frappe        True   \n",
       "99998  https://github.com/sagar30051991/square1-frappe        True   \n",
       "99999  https://github.com/sagar30051991/square1-frappe        True   \n",
       "\n",
       "       comodified  in_function  \\\n",
       "0           False         True   \n",
       "1           False         True   \n",
       "2           False         True   \n",
       "3           False         True   \n",
       "4           False         True   \n",
       "...           ...          ...   \n",
       "99995       False         True   \n",
       "99996       False         True   \n",
       "99997       False         True   \n",
       "99998       False         True   \n",
       "99999       False         True   \n",
       "\n",
       "                                                    diff  \\\n",
       "0      @@ -570,7 +570,7 @@ class DatagramRequestHandl...   \n",
       "1      @@ -139,7 +139,7 @@ def filterwarnings(action,...   \n",
       "2      @@ -123,7 +123,7 @@ class ObjectDefinition(Gen...   \n",
       "3      @@ -178,7 +178,7 @@ class IOBinding:\\n        ...   \n",
       "4      @@ -498,7 +498,7 @@ def compileevent(fp, event...   \n",
       "...                                                  ...   \n",
       "99995  @@ -89,7 +89,7 @@ class Bean:\\n \\t\\tself.docli...   \n",
       "99996  @@ -302,7 +302,7 @@ def add_custom_script(doc)...   \n",
       "99997  @@ -145,7 +145,7 @@ def scheduled_backup(older...   \n",
       "99998  @@ -14,7 +14,7 @@ sender_field = \"sender\"\\n cl...   \n",
       "99999  @@ -89,7 +89,7 @@ def import_doc(path, overwri...   \n",
       "\n",
       "                                                  before  \\\n",
       "0      self . wfile = StringIO . StringIO ( self . pa...   \n",
       "1      \"\"\"Reset the list of warnings filters to its d...   \n",
       "2                          Output ( \"PyMem_DEL(self);\" )   \n",
       "3         chars = self . text . get ( \"1.0\" , \"end-1c\" )   \n",
       "4      fp . write ( \"\\t\\tif _arguments.has_key('errn'...   \n",
       "...                                                  ...   \n",
       "99995  if self . doc . get_meta ( ) . issingle : self...   \n",
       "99996  doc . fields [ \"__js\" ] = ( doc . fields . get...   \n",
       "99997  odb = BackupGenerator ( frappe . db . cur_db_n...   \n",
       "99998  self . add_assign_comment ( frappe . _ ( \"Assi...   \n",
       "99999  frappe . modules . import_file . import_file_b...   \n",
       "\n",
       "                                                   after  \\\n",
       "0                 self . wfile = StringIO . StringIO ( )   \n",
       "1      \"\"\"Clear the list of warning filters, so that ...   \n",
       "2                       Output ( \"PyObject_Del(self);\" )   \n",
       "3      chars = str ( self . text . get ( \"1.0\" , \"end...   \n",
       "4      fp . write ( \"\\t\\tif _arguments.get('errn', 0)...   \n",
       "...                                                  ...   \n",
       "99995  if self . doc . meta . issingle : self . doc ....   \n",
       "99996  doc . fields [ \"__js\" ] = ( doc . fields . get...   \n",
       "99997  odb = BackupGenerator ( frappe . conf . db_nam...   \n",
       "99998  self . add_assign_comment ( frappe . _ ( \"Assi...   \n",
       "99999  frappe . modules . import_file . import_file_b...   \n",
       "\n",
       "                        sstub_pattern  \\\n",
       "0             SAME_FUNCTION_LESS_ARGS   \n",
       "1               CHANGE_STRING_LITERAL   \n",
       "2               CHANGE_STRING_LITERAL   \n",
       "3      ADD_FUNCTION_AROUND_EXPRESSION   \n",
       "4               CHANGE_STRING_LITERAL   \n",
       "...                               ...   \n",
       "99995                     SINGLE_STMT   \n",
       "99996                     SINGLE_STMT   \n",
       "99997                     SINGLE_STMT   \n",
       "99998                     SINGLE_STMT   \n",
       "99999         SAME_FUNCTION_MORE_ARGS   \n",
       "\n",
       "                                             edit_script  \n",
       "0      [[\"Delete\", [\"identifier:self\", 3, 40, 3, 44]]...  \n",
       "1      [[\"Update\", [\"string:\\\"\\\"\\\"Reset the list of w...  \n",
       "2      [[\"Update\", [\"string:\\\"PyMem_DEL(self);\\\"\", 3,...  \n",
       "3      [[\"Insert\", [\"call\", 3, 21, 3, 51], [\"identifi...  \n",
       "4      [[\"Update\", [\"string:\\\"\\\\t\\\\tif _arguments.has...  \n",
       "...                                                  ...  \n",
       "99995  [[\"Move\", [\"attribute\", 3, 6, 3, 34], [\"attrib...  \n",
       "99996  [[\"Insert\", [\"binary_operator\", 3, 23, 3, 75],...  \n",
       "99997  [[\"Update\", [\"identifier:cur_db_name\", 3, 34, ...  \n",
       "99998  [[\"Insert\", [\"argument_list\", 3, 62, 3, 88], [...  \n",
       "99999  [[\"Insert\", [\"argument_list\", 3, 50, 3, 71], [...  \n",
       "\n",
       "[100000 rows x 13 columns]"
      ]
     },
     "execution_count": 24,
     "metadata": {},
     "output_type": "execute_result"
    }
   ],
   "source": [
    "import pandas\n",
    "\n",
    "FILENUM = 32\n",
    "table = pandas.read_json(f\"tssb_data_3M/file-{FILENUM}.jsonl.gz\", lines=True)\n",
    "table"
   ]
  },
  {
   "cell_type": "markdown",
   "metadata": {
    "id": "UDv581b_kg5C"
   },
   "source": [
    "# Getting the urls of the repositories, useful to get commits from SHA"
   ]
  },
  {
   "cell_type": "code",
   "execution_count": null,
   "metadata": {
    "colab": {
     "base_uri": "https://localhost:8080/"
    },
    "id": "VUgXeHQljcbz",
    "outputId": "c61958e7-5dbd-4338-c92a-5b1d7b19fd8d"
   },
   "outputs": [
    {
     "name": "stdout",
     "output_type": "stream",
     "text": [
      "8266\n",
      "total rows 3300000\n",
      "{'spack', 'mpf', 'poet', 'zhihu_crawler', 'wikipedia-cs1cleanup', 'pymetadatamanager', 'svndumpfilterIN', 'nude.py', 'pentest_scripts', 'okdataset', 'rpibotics', 'assignment_plugin', 'odoo-russia', 'bold', 'FUNGuild', 'supplement', 'tkGAME', 'ckanext-wotkit', 'chat', 'termgraph-ext', 'csclub', 'DoSOCSv2', 'django-dynamic-image', 'mysql_maintenance_gizmo', 'mask_rcnn_ros', 'upy', 'OctoprintKlipperPlugin', 'sequence-bias-adjustment', 'STS13', 'artoflife', 'WavExtractor', 'PyAPNs2', 'context', 'atto', 'McGruff', 'got-your-back', 'SlicerQAExtension', 'topotext', 'NI-Jam-Information-System', 'jasper-client', 'PJP2016', 'dca', 'python3-oauth2', 'np', 'pythonYoutubeFinder', 'roadSignsNN', 'connect4', 'uflacs-deprecated', 'erpnext', 'sharks-butts', 'sklearn-expertsys', 'ljson', 'earthshaker-aftershock', 'apogee', 'check-growth', 'mt940', 'ganglia-plugin-varnish', 'django-corsheaders', 'tools-iuc', 'django-json-rpc', 'git-change', 'sso-frontend', 'niconverter', 'ceph-qa-suite', 'sc.base.uploader', 'cep-python', 'WeatherBletherBot', 'spur.py', 'fabfile', 'lanshark', 'peanut', 'twisted-gears', 'gvgen', 'ferris-framework', 'bucky', 'l10n-brazil', 'Sublime-Sound', 'byte_me', 'GAMA', 'DesOptPy', 'rosinterface_handler', 'jc2li', 'compute-image-packages', 'serenata-toolbox', 'jenni', 'churnalism_us', 'workbook', 'ZombieSunday', 'snacks-flask', 'Minimal-Bag-of-Visual-Words-Image-Classifier', 'RPi_twitterbot', 'octohatrack', 'django-rest-marshmallow', 'nc-listener', 'gioppygio-settings-and-picons', 'google-maps-services-python', 'geomloss', 'netshow-linux-lib', 'public', 'mozilla-sync-server-full', 'trac-datefield-plugin', 'tabun_feed', 'Rsswala', 'raspinetwork', 'python_for_tests', 'edc-lab', 'tox', 'stocks-deep-learning', 'pypot_herkulex', 'django_NelsonDB', 'test-frappe', 'trishula', 'stagecraft', 'testflo', 'PaperTime', 'BerryPI', 'bill', 'marcout', 'pywws2mysql', 'Hydras', 'sopel', 'SkipStep', 'proj', 'cc1', 'Mobile-Security-Framework-MobSF', 'webpymail', 'kombinat.decogrid', 'gifcombiner', 'gxgk-wechat-server', 'yamllint', 'cheshire3', 'davidshen84-blog', 'locust', 'OregonState_DLM', 'Cerulean_Tracking', 'library', 'distinct', 'SpockBot', 'pyLR1', 'vk', 'WebsitePolling', 'droop', 'asset-bundle-analyzer', 'django-mongoengine', 'requestsediting', 'login-and-pay-with-amazon-sdk-python', 'python-for-android', 'sonata', 'form_designer', 'zabbix-apache-stats', 'python-proofchains', 'mozbase-testing-temp', 'qhar', 'update-rds', 'goodreads', 'TeachingUtilities', 'SOresponse_Py', 'lakesuperior', 'AudioKnigi.bundle', 'rez', 'dlxsudoku', 'Herd', 'mrc', 'eqip', 'anki-search-inside-add-card', 'word2vec-tutorial', 'dryreport', 'ironic', 'ani_compare_dag', 'anaconda', 'DraculaBot', 'rettina-server', 'ahvl', 'pyzfs', 'niux2_hermit_player', 'parajuku-ls', 'isa-api', 'NekExamples', 'openid-provider', 'random', 'GeoSmoothing', 'switsol_bench', 'robotstreamer', 'bgtasks', 'ipfwlogparser-GUI-v0.1-', 'novaksam-recipes', 'pywesome', 'adminbots', 'guitar-note-recognition', 'python-docs-samples', 'nsmaps', 'spherical_cloudy', 'django-purge', 'bfh', 'payeezy', 'python-swiftclient', 'check_log_ng', 'contentmine', 'matasano', 'coursera', 'nebree8', 'AKASHIC-BUILD', 'ycad', 'api-python', 'ec_logster', 'aapy', 'autotest-menu', 'sip_plugins', 'p2pool-litecoincash', 'CS1122_Final_Project', 'nn4nlp2017-code', 'appscale', 'getopinionated', 'Sasila', 'watchkeeper', 'ROSE', '1chan_django', 'eppu', 'acsone-addons', 'sudoku-solver.py', 'otree-core', 'redturtle.importer.rer', 'catan-py', 'crypto-signal', 'ispaq', 'matplotcheck', 'getoffmylawn', 'zelenik', 'todo.python', 'mpnum', 'STAT525-SISPER', 'wavemoth', 'loonflow', 'configtune', 'django-mailchimp', 'antismash2', 'report-print-send', 'IM_project', 'google-chartwrapper', 'pipelinewise-tap-postgres', 'networking-oneview', 'django-tenant-schemas', 'Pymol-script-repo', 'dramatiq', 'diyHue', 'pytest-focus', 'bpy', 'spell-examples', 'python_shortener', 'NLP_project1', 'kernelci-core-staging', 'KBOPrediction', 'NTUSTISC-scoreboard', 'pyanihttp', 'deepchem', 'RangeMinQuery', 'ci-diff-helper', 'Pixel-Interpreter-Framework', 'SmokerLog', 'YAPyPy', 'wxInfo', 'tapiriik', 'wrfy', 'netatmo-api-python', 'website', 'Metaforge', 'cloudberry-updated', 'ckanext-stadtzh-import', 'pre-commit-python-sorter', 'python-u2flib-host', 'aiosolr', 'production-ready-django-oscar', 'sage-numerical-backends-coin', 'LeetCode-1', 'matomatpy', 'ElasticBatch', 'unisubs', 'django-authtools', 'imagr', 'invisibleroads-uploads', 'buildbot', 'wheelodex', 'myuw', 'service.subtitles.subscenter', 'pymax', 'LanBox-JSONRPC', 'BlendMotion', 'youtube2mediawiki', 'wit_ros', 'django-friendship', 'c_out', 'Meowth', 'pyserial', 'Data-Structures', 'ReaControl24', 'apns-client', 'pylabelme', 'validatehttp', 'Hyberpay', 'Creative-Adversarial-Networks', 'ironic-integration-tests', 'PNT', 'shareabouts-api', 'bokeh', 'chainer-benchmark', 'git-repo', 'trellosa', 'pysyncthing', 'firmware-extract', '3vilTwinAttacker-1', 'reveries-config', 'pycipapi', 'UmonsITListener', 'aukro', 'telemeter-reporter', 'python-cloudlb', 'tc4', 'yumsync', 'Python-Projects', 'django-connection-url', 'tkcalendar', 'mconf-aggr', 'subdomain3', 'qpsphere', 'saa', 'bimmer_connected', 'bootcamp-7', 'facerec', 'OFF-RISAPP', 'ANN-dehazing', 'pygexf', 'isNaoko', 'handelsregister', 'LibRadar', 'scrapy-loader-upkeep', 'rattlesnake', 'WikidPad', 'sphinx_rtfd', 'ogamebot', 'upgrade_venv', 'glance-driver', 'ml-final', 'nodewatcher', 'sattrak-cat', 'dnsftp', 'leetcode-python', 'geocoders', 'MetaLearning', 'Seed-Counting', 'powerline-shell', 'gevent', 'swift', 'extract', 'snail-cogs', 'InteractiveProgramming', 'krutils', 'addons', 'waterbutler', 'Servicios15-16', 'TD-VAE', 'car-workshop', 'microeukaryotic_diversity', 'dune-xt-super', 'st2', 'BotTest', 'TFFRCNN', 'anagram', 'ScriptureEngineIII', 'INF123-VVPilot', 'ros-nxt', 'dho-backup', 'StarcorServer', 'mothpy', 'slackbridge', 'thetaleapipy', 'openeducat_erp', 'pyarchey', 'hindsight', 'python-gdrive', 'tagging-performance', 'ads-pt-comments', 'git-vuln-finder', 'stats_archive', 'Hiren-Disk', 'MagnoliaHouseShows', 'cobol-spa', 'TM-STREAMYX-RIGER-ROUTER-BRUTE', 'INF3331', 'uiautomator', 'pyfacebook', 'kaggle', 'xhtml2pdf', 'kotta_client', 'battray', 'sanji', 'acad-hub', 'mensa_parser', 'knovabot', 'rssbot', 'oekit', 'vi', '2016-03-31-uw', 'executive_smach', 'tgschedulebot', 'StreamProx', 'display_xml', 'letsecretsout', 'apertag', 'driver2200087', 'mu_build', 'FROGS', 'hg-stable', 'pasv-agrsv', 'python-trezor', 'azure-sdk-for-python', 'InstrumentKit', 'hal1320', 'code_taboo', 'django-oauth-toolkit', 'Neuraxle', 'omaha-server', 'solgen4k', 'dashboard-skeleton', 'mehdix.ir', 'EM_Bright', 'python-rpm-spec', 'pyfirebirdsql', 'FlaskExperiment', 'ck-qiskit', 'atc-tools', 'beacon-registry', 'cnn-facial-landmark', 'py-mysql-elasticsearch-sync', 'pylint-django', 'lojban-teachparse', 'cloud-portal-client', 'compGraf-2017-1', 'openwsn-sw', 'Arpeggio', 'redhat-upgrade-tool', 'flask-hmac', 'python-oauth2', 'ros_simple_follower', 'polkadots', 'sugar-build', 'commix', 'veronicakackse-app', 'halp', 'LifeGame', 'cs378', 'Autorize', 'PyExchangeRates', 'scansound', 'foodbank-campaign', 'taskcluster-jobqueue', 'plone.protect', 'sample-platform', 'autoencoder_frames', 'phd3-hawq-aws', 'fpaxos', 'osqa', 'system-testing', 'ds4drv', 'zc.zk', 'kur', 'dropbox', 'event', 'helping_hands_rl_envs', 'otm-core', 'terraform-aws-lambda-kinesis-to-s3', 'draftjs_exporter_markdown', 'polychromatic', 'verisure-mqtt', 'ansible-later', 'tower-cli', 'cs168fall17_student', 'caffe2keras', 'nikola', 'ticket', 'blognajd', 'nwalsdev', 'cccatalog-api', 'invenio-oaiserver', 'txi2p', 'feeds', 'freespeech', 'tailon', 'git_generated_files', 'phue', 'airflow', 'xknx', 'odooDingDing', 'more.webassets', 'l10n-spain', 'TopicModeling', 'pytyrant', 'vnf-template-library', 'TreyLearningPython', 'pyfinder', 'mousestyles', 'pip', 'Anaconda', 'SarcasmDetection', 'CTFsubmitter', 'BrowserHistoryAnalyzer-475-2161_Anthony_Schade', 'www.melvin.la', 'ganesha', 'pytest-deltacov', 'IGCViewer', 'wintenApps', 'fast_gpu_voronoi', 'pyclit.py', 'transformer-pointer-generator', 'Sushi', 'swotsimulator', 'git-ctm', 'libtorrent-conan', 'asset_tracker', 'find_pennapps_hackers', 'Projects', 'hdl-make', 'dsgx-converter', 'Scrapazhon', 'quasar', 'Diceroller', 'SummitEditor', 'NMTGMinor', 'socksipy-branch', 'lithium-python-sdk', 'targendapi', 'store-manager-api-v2-revisted', '3000-01-01-sample', 'bbsearch', 'PyMISP', 'HyperboleBot', 'pin', 'mezzanine-references', 'OpenTabulate', 'pets', 'fig', 'incremental_counter', 'task-boot', 'pp', 'growberry_pi', 'Selenium2Library', 'scrapd', 'RCA-Phone', 'atados', 'multiglom-model', 'python-ant', 'taxonomy-matcher', 'frequent-itemset-mining', 'django-money', 'gunicorn-console', 'datman', 'pyems', 'django-qshop', 'rfcat', 'script_tools', 'validol', 'ssh-proxy', 'mu-repo', 'interviews', 'booru-grabber', 'silx', 'gerardo', 'UpLoad', 'sale_margins_in_form', 'PoGoServer', 'professor_oak', 'imagehelper', 'sportmaster-bonus', 'metaconfig', 'Bithead', 'PBintegrall', 'cnaas-nms', 'SuperNNova', 'liber', 'utils', 'Galileo-dockyard', 'sejongapi-v1', 'qexpy', 'snake_pygame', 'PersonalBlockBot', 'cpplint', 'pynmea2', 'reparse', 'chkit.old', 'volttron', 'init', 'Hereby', 'messages', 'cookiecutter-django-rest-babel', 'twitterbot_heroku_ebooks', 'OpenCL-RPC-Example', 'ade25.widgets', 'KoreanTrainSet', 'tcc-room-reservation', 'tetris-ai', 'ImageSearch', 'transitions', 'zhihu-python', 'pytnam', 'DDLify', 'futgui', 'python-livereload', 'tqdm', 'django-groupon-clone', 'iSniff-GPS', 'python-bugspad', 'DataSearch_script', 'vodscrepe', 'klonor-kicad', 'Elite-Music', 'IEEE2015', 'planetwars', 'BroverwatchBot', 'Floored-Square-Simple-Synth', 'automation-tools', 'SCD-OpenStack-Utils', 'murder', 'public-cloud-cli', 'sdu_bkjws', 'gapipy', 'clis', 'AWS-IDS', 'python-cloudatcost', 'pychroot', 'cloudbrain.old', 'eosfactory', 'OCR', 'goto-alert', 'django-localflavor-it', 'sol', 'janus', 'bscli', 'java-sqs-worker', 'Meta-SR-Pytorch', 'spielernoten', 'data-tools', 'ProbeGenerator', 'bnpy', 'reminders', 'cs207project', 'selfstoredict', 'gitcheck', 'source', 'cxxtest', 'Splango', 'pelita_player_2015', 'NoSQLMap', 'gmaillabelpurge', 'brain4k', 'django_rest_test', 'QuoteGenerator', 'straight.plugin', 'werkzeug', 'ip_diffim', 'glideinwms', 'pyasn1', 'bifrost', 'instagram-scraper', 'koan', 'CoolBox', 'djangoblog', 'galaxy', 'surrealism', 'open_ref', 'instagram-bomber', 'wydomain', 'st', 'hexchat', 'android-project-combine', 'react-journal-api', 'pyv8', '6loweather', 'sentry-1', 'agate', 'grpc_plugin', 'autokey', 'pycnc', 'PangeaDealer', 'Seed', 'geocamMapSet', 'telegram-motion-detector', 'PyXRF', 'pyjo_mongo', 'crdf-extra', 'vindinium-curses_ui', 'male', 'RecuperaBit', 'soil', 'xcolors', 'autossh-python', 'expensor_personal', 'hendrix', 'django-bitcoin', 'tpot', 'pi-notification-app', 'trk', '2019-04-25-rosario', 'fanout', '2013.djangocon.eu', 'bactopia', 'django-schedule', 'gitcmd', 'emonoda', 'pclean', 'NoobSecToolkit', 'TWTools', 'p2pdb', 'Pysher', 'grass-gis-workshop-jena-2018', 'createrepo', 'spectrogram', 'python-feedback', 'english_words_battle', 'dishonomoics', 'NAO-Communication-server', 'iam-identity-pdp', 'aiomysql', 'stackS-api', 'cleverhans', 'spyrit', 'tornado-smtp-client', 'OREBot', 'fabtools', 'django-youtubeembedfield', 'robots', 'toys', 'skflow', 'DigitalGreenApp', 'ApolloStore', 'burnham', 'upkern', 'nursev2', 'EdgePPR', 'keywordextractor', 'sfcb', 'mopidy-soundcloud', 'protean-flask', 'Twitch-Utils', 'timebank', 'gmlib', 'bf-blender-manual', 'getsentry-ldap-auth', 'html5', 'iotools', 'typish', 'python-novice-inflammation', 'replay_team_balance', 'JeffBot', 'nbdiff', 'bam_to_bigwig', 'mesh', 'lazyprogrammer_machine_learning_examples', 'RTGraph', 'kicad-python', 'aion', 'SpfAudit', 'pip-accel', 'unicode-slugify', 'autoproxy', 'spectral', 'drawbot', 'rpy2', 'heroku-valar', 'Buggybot', 'totc_draw', 'brew', 'Flask-User', 'Tweet-poem', 'predictprotein-webserver-common-backend', 'pycmdtools', 'core_engine', 'NTHUOJ_web', 'Prass', 'navidile4', 'aulosplayer', 'transwarp', 'joinmarket', 'Redfish-Mockup-Creator', 'NaiveBayesSpamFilter', 'seq-annot', 'inflect.py', 'script.episodeHunter', 'infa', 'WebPush', 'petadmin', 'harvest', 'django-dynamic-initial-data', 'isitupbot', 'Snavi', 'edc-pharmacy', 'pytest-blame', 'Git-Auto-Deploy', 'RobochallengeV2', 'python-escpos', 'activity-streams-lite', 'PyPDF2', 'ughub', 'fundingapi', 'pyxll-utils', 'makeflake8again', 'iplinux-python-redis', 'ryu', 'KonFoo', 'papertalk', 'Deep-Reinforcement-Learning-in-Large-Discrete-Action-Spaces', 'qgrid', 'tontobot', 'exodus', 'MW_SGH', 'python-bibtexparser', 'schedule', 'pywebview', 'pybitcoin', 'nacculator', 'portage', 'pretzel-old', 'kernel_hmc', 'Encryption', 'mock', 'dlnap', 'monasca-agent', 'vcd-cli', 'pygmap_ext', 'hyperloglog', 'cadquery', 'Best-Practices-for-Processing-HTS-Data', 'atoll', 'gaffer', 'pyxmpp', 'premailer', 'alexa-vera-bridge', 'penedroid', 'python3-mingus', 'poe_tracker', 'manticore', 's-watch-alexa-skill', 'robertalab-ev3dev', 'ihatemoney', 'cs224n', 'inferno', 'pyigm', 'dewyatochka2', 'Med-Control', 'switsol_frappe', 'ruffus', 'WhatsappMonitor', 'street-agitation-telegram-bot', 'contracts', 'XlinkAnalyzer', 'pyxmongo', 'dashing_client', 'pyart', 'multilayer-examples', 'bin', 'btc.kvikshaug.no', 'molo.commenting', 'nasa_robot_teleop', 'django-nose', 'kantele', 'django-activity-stream', 'django-redis-sessions', 'sith', 'circus', 'gdcdatamodel', 'mmq', 'rtcb-backend', 'furry-bear', 'piuml', 'tdd-with-python-book', 'ittc-server-django', 'connection', 'Comix', 'tools.kickstarter', 'sofia-toolbox-py', 'oppia', 'mark2', 'timelock', 'coda', 'reducer', 'mypy', 'qubits', 'papyrus_mapnik', 'mong', 'pixel_to_8bithex', 'frenchfry', 'square1-frappe', 'luigi', 'redis-py', 'group_ghost_project', 'data-view', 'django-datatable-view', 'eopayment', 'perf-timer', 'uvotpy', 'JugheadBot', 'Net', 'pyoos', 'training-noodles', 'django-appdata', 'pybusmap', 'django-robokassa', 'oz', 'python-powerconsul', 'spreadsheet-ecology-lesson', 'pywg', 'django-airports-legacy', 'bb_fb_stitcher', 'cvl-massive-preferences-utility', 'python-mysql-query', 'pdf_split', 'spotpy', 'ddSMT', 'qubes-mgmt-salt-base-topd', 'pysonic', 'work.py', 'DS_Project', 'django-elastic-migrations', 'python-mini-lambda', 'irida-galaxy-importer', 'assayist', 'sugar-toolkit', 'instabott.py', 'hackathon-app', 'tensorboard-pytorch-examples', 'WeixinBot', 'vypolni', 'django-zebra', 'LifelongVAE_pytorch', 'dropserver', 'PyCasper', 'Thrawn', 'staticpy', 'tacotron-2', 'bluecop-xbmc-repo', 'goxtool', 'morituri-plugin-eaclogger', 'TextGAN-PyTorch', 'MachineLearning_Python', 'j5test', 'modbus-tk', 'django-polls', 'localwiki', 'TunnelFeatureExtractor', 'deis', 'chutney', 'reddittohtml-with-python', 'uni-scripts', 'SKNet-tensorflow', 'reprepro-updater', 'curator', 'pytorch-image-models', 'search', 'SocialMaster', 'git-python-project', 'minejar_dispatcher', 'reformat-gherkin', 'cielo24-python', 'django-pipeline', 'preparations-for-the-2-teamwork-week-in-python-imremeszesan', 'ITEA', 'protozfitsreader', 'qgis-cartodb', 'django-popularity', 'enumdb', 'circuits', 'penny-for-your-thoughts', 'pootle', 'BigData-LA3', 'django-uuslug', 'renpy', 'intervals', 'papyon', 'py-junos-eznc', 'qotd', 'RootTheBox', 'furk_tool', 'grs', 'python-lambda', 'docs-cloud-images', 'BillCipher', 'web2py-book', 'treestream', 'greenview', 'FlaskTemplateSite', 'apicall', 'whereami', 'django-hgwebproxy', 'training-florida-2016-01-21', 'bottle-config', 'bmon', 'hulten-big-five', 'nao_writing', 'dndtools', 'keras', 'django-actions', 'Pelican_scripts', 'ODM', 'pyffi', 'django-dev-server', 'pyvbox-1', 'Proximity', 'ExpandTabsOnLoad', 'MCM2017', 'python-statsd-client', 'hexago', 'musicbrainz-isrcsubmit', 'AIDungeon', 'tree-gen', 'ocvu', 'gitflow', 'urssus', 'DRK', 'dynamixel_joint_state_publisher', 'django-tenancy', 'PyCPython', 'kipple', 'ansibullbot', 'wechat-spider', 'nlang', 'clickmodels', 'virtual-storage-manager', 'data-quality', 'sct-communitydraft', 'dicttoxml', 'BentoML', 'pypy', 'server-tools', 'margen', 'es', 'can-v2-bricklet', 'cmsplugin-contact', 'community', 'stx-heat', 'youtubeaudio', 'iplinux-redis-py', 'poio-corpus', 'cwcom', 'Falcon-PostgreSQL-API-Seed', 'tensorflow_object_counting_api', 'django-notify-x', 'Airline', 'flask-dash', 'mbs', 'pyrit', 'doqu', 'data-repository', 'scikit-CP', 'existential_rick_bot', 'python-es', 'pi3d', 'StoryBook', 'vostools', 'qlivestats', 'DistributedMarket', 'ML_KGP', 'NetApps_forty-two', 'mqttwarn', 'scoutfile', 'Unicorn', '170proj', 'CRRLpy', 'sympy', 'fpdjango', 'anybox.recipe.odoo', 'OctoPrint-flashArduino', 'behave', 'tele-erpnext', 'pytorch-CartoonGAN', 'stock', 'qsoft', 'smashggpy', 'dmf_control_board_plugin', 'Galileo-pyut', 'jhbuild', 'Semantic-Segmentation-Suite', 'applepy', 'ecl-django', 'pentestly', 'tech-testing-ha1', 'toc_erp_web2py', 'xfluo', 'moviefs', 'osm-analytic-tracker', '3000-01-01-test-workshop', 'bkms', 'Node', 'AngularJS-sublime-package', 'bson', 'scipy-lecture-notes', 'pilbox', 'fearload', 'style-transfer', 'SublimeBlockCursor', 'aces', 'django-historicalrecords', 'trio', 'w8-group-assignment-2-team-shuffle', 'appengine-ndb-experiment', 'supervisor-plus-cron', 'pandas', 'android-market-api-py', 'Videomass', 'gofed', 'dirty_cat', 'CHILES-pipeline', 'odoo-addons', 'python-openni', 'django-taggit', 's3nb', 'meliae', 'mycroft-wifi-setup', 'neodym', 'python-otr', 'AdvancedMockupStringExtractor', 'TracAdvancedSearchPlugin', 'bookscannerprinter', 'python-script', 'tg', 'periscope', '2017-10-11-amity', 'streusle', 'onetimepass', 'aiocouchdb', 'robotframework-selenium2library', 'imagestore', 'chronolapse', 'b3-plugin-callvote', 'imagetaggerDownloader', 'mods', 'taucmdr', 'tethercalc', 'Limnoria-plugins', 'sentences-similarity-cluster', 'skallel-stats', 'pokealarm', 'msc-chatbot', 'biostar-central', 'cdap-ambari-service', 'django-simplesshkey', 'ClothesRecommend', 'googlecl', 'python-img2pdf', 'sentry-auth-gitlab', 'ella-flatcomments', 'h', 'nse-tools-custom', 'releases', 'suitable', 'remotec', 'pyth', 'conan-protobuf', 'gym-donkeycar', 'EyeWitness', 'Titan', 'deep-fonts', 'image_copy', 'cookiecutter-mopidy-ext', 'pheme-sdqc-gaussian', 'qcinv', 'pyethapp', 'django-fsm', 'sjcl', 'django-scrum', 'featurestream-client', 'Paris_orientation-decoding', 'featherduster', 'treeomics', 'PandwaRF', 'plugin.video.ufcfightpass', 'sky', 'modoboa', 'BioPhysics', 'bombRoom', 'ptproxy', 'pyparse', 'kivy', 'Zeus2-cycle-box', 'BookNCart-Django-Backend', 'dogfooter', 'r2p2', 'pycrypto', 'Optimization', 'noesis-plugins-official', 'GAM-Scripts3', 'bite-project.build', 'textvisdrg', 'maskrcnn-pytorch', 'bui', 'Currency_Watcher', 'zulip-gci', 'cielo24-fsm', 'python-certifi', 'agape.policy', 'dicey', 'bench-repo', 'svtools', 'trac', 'bx-python', 'Transmogrify', 'aeroo_reports', 'wineapi', 'hoax-analyzer-ml', 'sterowanie24pl-python-ws-client', 'pokemongo-api-demo', 'gazebo-models', 'itviec', 'virtual__alpine-apache', 'bitex', 'DAO', 'zhone', 'rfcs_organizer', 'pyblish-kredenc', 'javalang', 'SmartReader', 'cushion-project', 'dd-trace-py', 'Quoranan', 'pocker', 'fogonobarraco', 'ether', 'bandwagon', 'rum', 'epiphany-py', 'AgriMarketWatcher', 'cookiecutter-pytest-plugin', 'gemino', 'Viscid', 'django-extra-views', 'zign', 'django-pushwhoosh', 'django-staff-toolbar', 'completor.vim', 'oca-social', 'dingdang-robot', 'iutbm', 'Tinamit', 'PyKrige', 'QuLab', 'Ariafred', 'ticker', 'ecspy', 'astor', 'peregrine', 'beak_api', 'lunasync', 'tgbot', 'thermeq3', 'CSC184', 'rasp_routing', 'legos', 'cs695-Shehu-Li-A3', 'ra-blog', 'nose-html-output', 'misc-scripts', 'django-shop-simplevariations', 'blender-dev-tools', 'ansible-modules-core', 'MySQL-for-Python-3', 'WWWoman', 'crontabber', 'PetShare', 'sql-to-graphite', 'openerp-extra-bundle', 'django-rest-scaffold', 'indivo_problems', 'REST-APIs-with-Flask-and-Python---Udemy', 'muffin-classy', 'py2llvm', 'erpnext-kts', 'Temperature-Sensor', 'ghidonations', 'Math-Programming', 'protonvpn-cli-ng', 'social-engine', 'Dischord', 'gerardkok-recipes', 'coach', 'wheel', 'plone.app.content', 'weixin-sdk', 'packaging', 'foodies_back', 'piwheels', 'PSense', 'simplecoin_multi_20171208', 'duvet', 'collective.clipboard', 'DeepLearning', 'pyallris', 'galaxy_hackathon', 'lmfdb', 'spike', 'timeview', 'beets-vtalbumartist', 'jgutils', 'iceburger', 'sqlalchemy-qubit', 'django-SplitJSONWidget-form', 'orange3', 'django-passbook', 'progetto_db', 'kodi-addondev', 'MySQLdb1', 'oertutor', 'thumbor_aws', 'collective.nitf', 'Python', 'django-unsigned-fields', 'sslyze', 'Winpayloads', '596acres', 'appi', 'cookiecutter-django', 'squotter', 'gtbhdsiggen', 'musicman', 'pre-commit', 'frontend', 'SICER2', 'Pyquan', 'backup_my_drives', 'Servery', 'storm', 'amncore', 'pyphi', 'django-filter', 'liverpool-events-scrapers', 'thunder', 'pyplot_helper', 'python-zuora', 'painless', 'DIE', 'meld', 'vialectrum-obsolete', 'rabbitmq-cluster', 'jdog', 'cltk', 'stomp.py', 'isbnlib', 'pyomicron', 'OSQA', 'py-evm', 'hdbits-rss-dl', 'mcQA', 'peacock', 'PyTrustCnab240', 'vaa3d-api', 'fjfnaranjo-bot', 'archival', 'py-statsd', 'django-banner-rotator', 'dicomDB', 'Base_flask_project', 'tvsort_sl', 'royalpack', 'mos-iso-status', 'yubico-yubiserve', 'django-sphinx', 'scriptbox', 'Portfolio-Site', 'NetFlow-Collector', 'django-taggit-autocomplete-jqueryui', 'ITech', 'zds-site', 'fabric-scripts', 'flask-oauthlib', 'shade', 'maintainer-onboarding', 'kitty', 'term2048', 'Information-Extraction-Chinese', 'btcpy', 'albion-api-client', 'distchecker', 'grevillea', 'image-building-poc', 'data-science-from-scratch', 'gybote', 'spidey-supybot-plugins', 'vocal_analysis', 'caffe-tensorflow', 'croniter', 'barometer_drivers', 'BanditLand', 'starcraft', 'tablib', 'odoo-brazil-eletronic-documents', 'samsungctl', 'FPN', 'pyramid_selectauth', 'napalm-eos', 'Cactus', 'export-csv-to-influx', 'openfda', 'pkp-xmlps-api', 'carlae', 'view-helpers', 'decbilling', 'Iris', 'bst.pygasus.core', 'mriqcwebapi', 'gblog', 'HistomicsTK', 'alligator', 'mythril', 'ersa', 'ngs', 'python-nut2', 'Chrome-STS', 'pl-simpledsapp', 'bloodhound', 'passyunk', 'wcpan.worker', 'MTaManagementSystem', 'stencil_code', 'DumpFixIt', 'kawal-pemilu-capture', 'autoslide', 'sparked', 'vindula.tile', 'profile_collection', 'dmxbackend', 'bp-enigma2', 'mongodb-engine', 'adventofcode', 'sugar-toolkit-gtk3', 'rulebook', 'pykilosort', 'dnsping', 'fattura-elettronica-reader', 'send-mms-python-s3', 'radremedy', 'KHBOLessenroosterAPI', 'python-cellaserv2', 'word_cloud', 'pybliotecario', 'planet-client-python', 'ctail', 'wateronmars', 'populartwitterbot', 'converse', 'gh-issues-channel-router', 'pgbackman', 'Xposition', 'velruse', 'django-pulseware', 'axon-pipeline', 'lang', 'new_shit', 'TestFiles', 'ti-export', 'mgm-node', 'RDFDatabank', 'django-paginated', 'edna', 'npc', 'NewlineJSON', 'django-oscar-paypal', 'broker', 'Pext', 'single-beat', 'Duplex-Sequencing', 'deep-improvisation', 'Qcodes', 'modkit', 'parsimony', 'newSmellie', 'pgf2img', 'xpdAcq', 'holmium.core', 'pylearn_classifier_gdl', 'beets', 'Segmentum', 'ortoloco', 'oca-account-fiscal-rule', 'css_lb_configurator', 'emencia-django-newsletter', 'favorshare', 'm2agro-script', 'TAMA', 'quarry', 'levitation', 'sti-test', 'PyAthena', 'RespoTool', 'DFD', 'korman', 'convertdate', 'qstrader', 'pyramid_restler', 'BosvogelWebPlatform', 'qgeric', 'pycurlbrowser', 'elasticsearch-raven', 'RHEL7-STIG', 'django-simpleimages', 'inasafe-doc', 'micropython_max7219', 'dwrandomizer', 'django-naqsh', 'Book-SocialMediaMiningPython', 'raspberry_pi', 'raven-python', '2015-04-16-imperial', 'ksiga', 'ckanext-stadtzh-geodropzone', 'ai-chatbot-framework', 'badguyidentifier', 'elastalert-k8s-automation', 'practice', 'mist_archive', 'minejar_adjacentpairs_dispatcher', 'CiscoConfigParser', 'Multilayer-perceptron', 'website-rubric', 'pyEX', 'discord_svn_webhook', 'dplython', 'flask-boilerplate', 'Site', 'Advent-of-Code', 'nagios-nsca', 'Pyvolution', 'django-tables2', 'setoran_santri_engine', 'flask_posts_api', 'velocyto.py', 'web3.py', 'electrum-nogui', 'openvpn-monitor', 'politkarma', 'Supybot', 'mod_wsgi-metrics', 'freezegun', 'SenseHatLogger', 'bts-ce-database', 'proteus-mprans', 'pytzwhere', 's3cmd', 'ax25xmpp', 'carrier-delivery', 'mongomock', 'pypinfo', 'pyasr', 'impact_function_registry', 'raptor', 'sanity-test', 'satpy', 'tatarin', 'mailinabox', 'openprocurement.client.python', 'import-trello-github', 'masters_thesis_code', 'clone-git', 'honeybee', 'open-synthesis', 'ERICA_road_shuttle', 'unison-recsys', 'astara-appliance', 'vpython-wx', 'git-lit', 'ip-navigator', 'vimms', 'galaxycat', 'vasp_scripts', 'hubo_valve_turning_planner', 'p0sX-server', 'lykos', 'python-transloadit', 'ShallowLearn', 'raiden', 'k8s', 'appPinboard', 'ChatterBot', 'getTOP250info', 'ChibiOS_docgenerator', 'Adf04ToStout', 'logtools', 'bcodmo_processors', 'cor-asv-fst', 'perigee_health_plots', 'cpm', 'django-banish', 'dataModels', 'FreeCADFrontPanelSimulation', 'dirtools', 'fbmq', 'Red_Star_Plugins', 'rpi-collector', 'preprocess', 'gyp', 'fab', 'djoser', 'deep_keypoints', 'cohort-matcher', 'vocabularyTool', 'dju-intranet', 'django-timezone-field', 'AI-TicTacToe', 'COMP361Project', 'odoo_report_change_downloaded_file_name', 'pypex', 'slaveDriverDaemon', 'urllib3', 'ida_ea', 'stopmo_preview', 'sysy', 'SimpleCV', 'jackfrost', 'radioedit', 'atmosphere', 'python-gpiozero', 'jsonpickle', 'JMLWebsite', 'ArcREST', 'collectd-mesos', 'fsnd-item_catalog', 'slask', 'INSA-4IF-PLD-SmartCity', 'simsurvey', 'networkx', 'objccheckstyle', 'revere', 'django-fluo-coupons', 'rdss-preservica-adaptor', 'batterymon-clone', 'parserutils', 'algoritme-bioinformatika', 'py-knowledge-center', 'Watero_Go', 'pls', 'alex', 'Flask-Authorize', 'django-charitychecker', 'Stock-Portfolio', 'social-listener', 'flask-api-endpoints', 'CSE498-LRS', 'batch', 'WeeWX-MQTTSubscribe', 'kobocat', 'softlayer-python', 'cinema-crawler', 'pyxl4', 'python', 'Project-Shell', 'cs207project-1', 'spikesorters', 'pbc032015', 'cassandra-dbapi2', 'Thruster', 'sevenseconds', 'cs168_proj4', 'entropy-practical', 'tceh-python', 'pysatadif', 'chide', 'tflearn', 'bitbake', 'llvm-lit', 'Kiyukii-Bot', 'dvbapp2-gui', 'cloudwatch-logs-expiry-set', 'GDAN', 'scrapy-logentries-extension', 'Get-Terra-Server', 'grader', 'herokutom', 'wellbook', 'flyingsnake', 'ckantest', 'nn', 'flask-rabmq', 'edc-export', 'requests-docs-nl', 'checkloc', 'edc-reference', 'rasmadeus.ru', 'cesgen', 'script.skin.helper.service', 'fabricio', 'github-backup', 'abandoned_ospfm', 'ipmt', 'lucrezia', 'ffd-info-exchange', 'ross', 'PyPass-Multi', 'nixstatsagent', 'Senbonzakura', 'alkjsdfkljdslk', 'pysc2', 'visual-qa', '2017TOC_ChatBot', 'yakc', 'OTSun', 'face-detection', 'pdbparse', 'DCSS-Forensics', 'molo.profiles', 'deepmedic', 'taxcalc_ghost', 'paradox', 'tileops', 'omnisync', 'mysolr', 'flask-redis', 'django-flatblocks', 'imposm2', 'active-learning', 'AI-Project', 'cqlsh_standalone', 'ontheside', 'P2PShare', 'local_ancestry', 'foreman-ansible-modules', 'BachNet', 'ebooklib', 'weibo_terminater', 'hashcode-2019', 'aioazure', 'deepin-notifications', 'blender-cod', 'hedp', 'hydra', 'secret-todo-list', 'brewtils', 'pymatgen', 'security_monkey', 'python-grader', 'pyannote-db-prism', 'handbook', 'AlignmentPipe', 'hjlog', 'JuliaDoc', 'pytorch_fft', 'pinax-cohousing', 'mxnet', 'boolean-logic-interpreter', 'teachingpythontokwan', 'OIR-Wellesley', 'pypcap', 'char-rnn-tensorflow', 'XuetangXAPI', 'perunKeystoneAdapter', 'Contiguity', 'Lek_app', 'communication_evolution', 'django-granular-permissions-redux', 'YoutubeChannelClient', 'mountain_tapir', 'django-email-phone-user', 'django-oauth2-provider', 'S2F', 'ocfweb', 'scmigrator', 'Steamer-Duck', 'python-with-python', 'LSH', 'odenkiapi', 'til', 'the_seed_backend', 'iterative_cleaner', 'Vizwall-Website', 'Dinette', 'surface-locations', 'COBBI', 'mpi4py', 'django_compressor', 'moneywagon', 'validictory', 'varnishHostStat', 'GetHSPages', 'odpdown', 'teachpython', 'geneflow', 'exif-date', 'tai5-uan5_gian5-gi2_hok8-bu7', 'bottledaemon', 'asorti', 'anchorhub', 'bst.pygasus.scaffolding', 'pyCity', 'WumpusBump', 'ObsAssistant', 'coq_jupyter', 'pyAVG', 'dovecot', 'pyrobot', 'pytodoist', 'Getchu', 'Gooey', 'CNN-RelationExtraction', 'localization_tools', 'appium-old', 'voyager-py', 'python_drivers', 'SURF-Face-Detection', 'python.tmbundle', 'massento', 'lambda-uploader', 'abl.vpath', 'PyrooFit', 'strider-book', 'power-hour', 'feubot', '2048-rl', 'CodeJamHelper', 'jeikkaus', 'choose-next', 'pyfo', 'croo', 'obspy', 'who-data', 'fabric8-gemini-server', 'loss-landscape', 'simplesocks', 'computator', 'ja892i', 'repacked', 'request_threader', 'scholar.py', 'dnla-playlists', 'django-site-maintenance', 'bitly-api-python', 'tangent', 'mininet', 'mxwst', 'TeslaCrack', 'scapy', 'sickbeard', 'sublime-text-shell-command', 'data-carpentry-workshop', 'autograder', 'tclambda', 'geshem', 'splash_screen_controller_demo', 'NUR', 'pyinstaller', 'Parsinator', 'degas', 'hyperbolic', 'scout_statsd_django', 'Afya', 'qml', 'dez', 'c2cgeoform', 'OpenRefine-ecology-lesson', 'armstrong.hatband', 'irc-spark-streaming', 'sauce-connect', 'socialccnsim', 'gff3toembl', 'kimchi', 'rc4', 'Rpg', 'python-iview', 'boilerplate', 'Iridium', 'lstm-char-cnn-tensorflow', 'OSR-discord-bot', 'TrafficMonitor', 'django-fost-authn', 'mamba-image', 'GasLeakProject', 'flent', 'pca3dvis', 'arcli', 'ghost', 'UserLixo', 'python-rest', 'object-recognition', 'state_chain.py', 'request402-django-framework', 'sd2xmltv', 'rpc-openstack', 'QuCumber', 'zbeanz', 'logincounter', 'GoogleIssueTrackerDownload', 'Crawler', 'network-programming-project', 'robotframework-dynamodbsqllibrary', 'public_drown_scanner', 'pelican', 'product-bot', 'XlsxWriter', 'baxter_examples', 'deep_rl_experiments', 'olefile', 'django-modeltranslation', 'tf-idf', 'rdflib-appengine', 'freelancing-solutions', 'tlsscout', 'reinforcement-learning-an-introduction', 'chromite', 'django-ajax', 'qirest', 'decision-alpha', 'auqa', 'pyradex', 'onega', 'tapioca-wrapper', 'logAnalysis', 'django-eav', 'errant', 'WeasyPrint', 'wal-e-1', 'RecoLuminosity-LumiDB', 'BacktestingTool', 'pygirl', 'pi-scan', 'computational-investing-part-i', 'r-novice-inflammation', 'adsws', 'AtomSegNet', 'hyper', 'python-artifactory', 'python-qrcode', 'plata', 'haipproxy', 'django-parler', 'runbot', 'mkwheelhouse', 'cpar1-bot', 'mediasort', 'scout', 'LaZagneForensic', 'Algorithms', 'facebook-sdk', 'TDDPython', 'warehouse', 'toppy', 'django-rest-framework-mongoengine', 'pydynamics', 'twill', 'concord-py', 'PhDSample', 'pyfim', 'unicorn', 'easy-thumbnails', 'ZeroMailProxy', 'fastsnmp', 'MIDS-W205-FINAL-PROJECT', 'dhmon', 'ai3202', 'newlesson', 'test', 'ureport-web-participation', 'adutils', 'buscatrabajo', 'TelegramExerciseManager', 'test-semantic-release', 'waifu-bot', 'timekpr', 'source-code-pro', 'travis-cargo', 'AIAss2', 'weixinpy', 'ngxtop', 'uhd_ofdm', 'greg', 'pyflyby', 'gennyc', 'obnam', 'stack-updater', 'flanker', 'ttd-api', 'motion-api-bot', 'SupremeManualBot', 'oh-mainline', 'linux-guest-loader', 'Seriation', 'lcaarch', 'bookstore', 'nodal', 'glue', 'TAP-Droid', 'mopidy_plex', 'game', 'meta-pi', 'pycarbon', 'scwrap', 'skypy', 'PearSend', 'gender-guesser', 'movement-service', 'HTML', 'growth-in-action-code', 'django-db-locale', 'requests-aws4auth', 'check_forbidden', 'c2c-rd-addons', 'shotglass', 'git-bigstore', 'pbs_bullet', 'olin-biofilm', 'splash', 'trac-irclogs-plugin', 'samr', 'git-test1', 'shldn', 'trytond-sale-channel', 'dask', 'beqdesigner', 'battlegrounds', 'pybotvac', 'invenio-db', 'sudoku', 'Groupe2', 'foliantcontrib.mkdocs', 's3patterns', 'alchemie', 'koppepann_testroom', 'svnedwllreptracwiki', 'tvb-recon', 'toolbx_vs', 'Cocoamphoactate_backend', 'cors-python', 'bit', 'gsoc2016', 'rpmfab', 'matrix', 'aaa', 'birdhousebuilder.recipe.solr', 'assignment-1-dmanola', 'blenderaddons', 'regreg', 'MIRCH', 'market-analyzer', 'DeepSwarm', 'dandelyon', 'bedrock', 'object_labelImg', 'debatesim', 'valenok', 'haloEvent_connector', 'DailyPythonScripts', 'retext', 'python-mqlight', 'sopel-etymology', 'play', 'The-Void', 'whsongbook', 'Tor2web', 'python-pni', 'python-montage', 'isbnlib-porbase', 'SCGCancerPipeline', 'CoffeeMachine', 'pyensae', 'pgproxy', 'pym', 'CSC495', 'ufl', 'inspire-service-orcid', 'Pillow', 'nosedjango', 'meera_bhardwaj', 'django-admincommand', 'emig-reimplemented', 'hackthon-rearend', 'pyapple2disk', 'samurai-x', 'cms-bot', 'mailman-subscribers', 'heppy', 'MetaboLightsLabs-PythonCLI', 'aplpy', 'CSnake', 'OG-Bot', 'chinese-segmenter', 'Sublime_ConEmuOpen', 'SuperSurvey', 'connector-prestashop', 'NLS', 'ssg_pymeans', 'django-solr', 'People-Counter-1', 'TypeRig', 'django-toolkit', 'DL-NC', 'lago', 'GMusicFS', 'dev-wine-helper', 'Cinema', 'ParallelChessAI', 'P4-ConferenceApp', 'temboard-agent', 'bepy', 'HighlightWhitespaces', 'Pytoad', 'djangotest', 'collectionish', 'akanda-rug', 'gentools', 'clustergit', 'uploader', 'crits_services', 'RecQ', 'djangocms-getaweb-topstory', 'groupme_stats', 'csnotifier', 'nightMiner', 'plexstuff', 'wallsch', 'azure-cli', 'anewlesson', 'black-magic', 'blob_storage', 'swift_rpc', 'qiutil', 'DomainSearch', 'dredge', 'turtle', 'tlib', 'fusql', 'cinnabot', 'mela', 'returns', 'poky', 'OpsManage', 'microblog_flasklearn', 'autopush-loadtester', 'portfoliyo', 'riemann-sumd', 'lifegame', 'pyshell', 'backdoorme', 'modnoemesto', 'docs', 'TorrentSearch', 'feedhq', 'shnake', 'pyjokes', 'veusz', 'WhiskiWrap', 'invenio', 'Chess', 'WebSocket-for-Python', 'cloud-custodian', 'cOS', 'tasker', 'ambition-metadata-rules', 'kbdgen', 'esa_sentinel', 'DataTables', 'ebs-trac', 'avionics', 'django-admin-flexselect', 'pentest-wiki', 'django-locking', 'napalm-logs', 'mobile_detector', 'py-wave-runup', 'offregister-go', 'participant-template', 'deep-insight-tensorflow', 'ts_MTAOS', 'funf-open-sensing-framework.inabox', 'push-dev-dashboard', 'CtareApp', 'DNSLog', 'oa-nextgen', 'ScrumDo', 'OWSLib', 's1ren', 'mcpack-manifest-creator', 'try', 'django-enumchoicefield', '2018-03-06-stanford', 'pyperry', 'VFR-Flight-Planner', 'mopidy-mqtt', 'mysql-postgresql-converter', 'fb-connector', 'char2image.py', 'Kimnd', 'organilab', 'MulticraftApi', 'ELEKTRONN2', 'FLFBot', 'pysis', 'meterssh', 'learnsewithpython', 'raspberry-pi-sensor-rest', 'lumina', 'cola', 'python-qdatamatrix', 'tutorials', 'akanda-quantum', 'OCR4all_helper-scripts', 'SolutionGambling', 'crud', 'maltrail', 'modulepickle', 'django-zarinpal', '2017-10-11-fake', 'kodi.six', 'server', 'counsyl-pyads', 'revex', 'OASYS1-ALS-ShadowOui', 'idle-rpg', 'pyknx', 'studfest', 'crmsh', 'labelImg', 'mongoengine', 'ossapi', 'constructive-layout-synthesis', 'git-webhook', 'flickrsmartsync', 'ChipSeq', 'MORAN_v2', 'pyk8s-controller', 'scitextool', 'keras-retinanet', 'OpenBazaar-Server', 'aiohttp', 'python-coralogix-sdk', 'ambition-subject', 'faker', 'BOT.2', 'platyutil', 'HdbitsSubtitles.bundle', 'OpSys_HW4', 'conda-builder-affiliated', 'meaculpas-printer', 'maat', 'pretix-telephone', 'pyethereum', 'authentication_sms', 'gofish', 'jimi', 'bucephalus', 'kadenza', 'django-rsvp', 'pyes', 'Unpossibly_Twitter_Challenge', 'chat_robot', 'THUMT', 'tackpy', 'mooncrete', 'django-admin-sortable', 'uludag', 'pmu-tools', 'tempest', 'pysaml2', 'saltfppipe', 'mongodb-backup', 'Sublime-Colorcoder', 'PLTable', 'btp_major', 'rhasspy-nlu', 'parsefec', 'pyculiarity', 'josiah-patron-accounts', 'pokehunter', 'DirectoryTools', 'mapapi', 'pyPardy', 'behave-parallel', 'python-inotify', 'kancolle_echor', 'django-messages', 'python-ceilometerclient', 'MovieStats', 'django-subscription', 'cmpe273-project', 'paraphrase-id-tensorflow', 'sublime-crystal', 'awesometts-anki-addon', 'ConcertHelper', 'POC-T', 'gitee_trigger', 'heat', 'satoyama-api', 'pybedtools', 'cinder', 'onadata', 'url_shortening', 'AirBnB_clone_v2', 'peps', 'kylie', 'b3-plugin-translator', '786ms-web', 'atlassian_permissions', 'unstdlib.py', 'gwpy', 'txpostgres', 'ida-xtensa', 'Reusables', 'dreampie', 'yModel', 'xinmeispiders', 'DeepLearningVideoGames', 'sysdetails', 's17.organizationalunit', 'sopel-chanlogs', 'LnkParse3', 'beacon', 'simplechrome', 'celery-imapsync', 'labelxml', 'EmailTank', 'GenieManager-erpnext', 'Misaka-Mikoto-Meme-Machine-100-567', 'tddd80', 'flask-admin', 'PyAdaGram', 'orderman', 'vindula.chat', 'easy_lightmap', 'Circular-genome-visualizer', 'mwtools', 'rontgen', 'disvis', 'mimec', 'ods-scraper', 'pyvcloud', 'music-flyer-VR', 'baidupcsapi', 'stingray', 'treesicle_music_bot', 'agilefant_logger', 'kojicert', 'reconfigure', 'openfisca-france', 'NJParcelTools', 'npsm-scripts', 'moj', 'spoting', 'Flask-AppBuilder', 'OSCARf-public', 'student-application', 'specview', 'jayhawk', 'bcbio-nextgen', 'python-nvd3', 'django-bitfield', 'tictactoe', 'BetterUDP', 'Caesar_Cipher', 'pyArduControl', 'python-ivi', 'flauschiversum', 'ypc', 'birthday-web', 'wetsaw', 'gensim', 'Twitch-Chat-Downloader', 'edx-analytics-data-api', 'wildfire', 'OmniMarkupPreviewer', 'stupidsheet', 'ProjectX', 'liac-arff', 'sensor_simulation', 'HTPC-Manager', 'flocka', 'aqualid', 'Jarvis', 'raspberrypi-sensors', 'ggpyjobs', 'pytime', 'kiosk-redis-consumer', 'SP_2019_210A_classroom', 'time', 'genometools', 'Charsor', 'ambari-eventdb-service', 'archinfo', 'OSINT-3', 'linkchecker', 'econsensus', 'flask-cloudy', 'bitetheballot', 'BoilerPy3', 'Battleships', 'mosen-recipes', 'maas-server', 'tracerbull', 'DataScientist', 'python-mini-utils', 'risky-aging-model', 'pew2', 'GDGAjuBot', 'ege_acesso', 'python-terraform', 'dcmstack', 'coursebuilder-core', 'pytest-cov', 'sofia2d1d', 'prose-wc', 'minecraft-server_wrapper', 'graph-explorer', 'aepp-faucet', 'ResNeXt.pytorch', 'pytools', 'zombietracker', 'sphinxcontrib-dashbuilder', 'geocamMapFasten', 'graphics_service', 'TheanoConciseMLP', 'hakkuframework', 'Soccer-Jersey-Scraper', 'account_voucher_supplier_invoice_number', 'bench-alec', 'ez_univ', 'django-import-export', 'craftly', 'PythonCodes4Linux', 'partialsmiles', 'gfunc2D', 'InstagramDjango', 'jrc-profile', 'pyluach', 'weixin_checkin', 'message2chat', 'test-api', 'sms-center', 'dragonsofmugloar', 'momo', 'openbadge-server', 'shaderman', 'spelt', 'examle_python_website', 'botowraps', 'Diego', 'schematics-flexible', 'utexer', 'uopy-koans', 'solrcraft', 'treeinterpreter', 'PyTextalyzer', 'NonlinearML', 'schemathesis', 'aima-python', 'tensorflow', 'buddha-django', 'construct-selection', 'stix-to-misp', 'morphsnakes', 'wrfxpy', 'OldTimeRadio', 'aptos', 'steam_idle_qt', 'numeter', 'mpradio-py', 'pyrabbit', 'graphication', 'python-heatclient', 'service.subtitles.22min', 'surf12adam', 'apitools', 'VKMP', 'InfraRed', 'variety', 'MINI-DNS-Server', 'django-brazilian-addresses', 'udemy-dl', 'smush', 'flock', 'nrckiclient', 'DCGAN-tensorflow', 'fah-tools', 'AIF360', 'inception_v1.pytorch', 'django-media-tree', 'scanpy_recipes', 'ssh-wp-backup', 'essentia_docs', 'Books', 'pydub', 'django-rest-documentation-sample', 'django-littlebro', 'python-jsonpath-rw', 'ox-dashboard', 'Sloth', 'quagga', 'django-azurite', 'NIR', 'keras-one-cycle', 'lunafind', 'spynl', 'django-icybackup', 'whipper', 'django-social-auth', 'random-scripts', 'brain', 'python-v2-sdk', 'SocialSpace', 'MediaFiler', 'somatic', 'LISA', 'djutils', 'net_monitor', '2019-01-15-uw', 'aircloak', 'flaskify', 'visual-followme', 'Computer-Architecture', 'randpass', 'highfive', 'theft-market', 'sdk-python', 'mdanalysis', 'adcc', 'etraining-course-finder-heroku', 'heroku_ebooks_public', 'learn-to-cluster', 'AppUniverse_Server', 'spawn_oop', 'django-bitly', 'weasyl', 'ExchangeRates', 'graphserver', 'MpdPi', 'store', 'py-gocd', 'androguard', 'clang-cindex-python3', 'lexonexo', 'gpaw-rtxs', 'clang-in-the-cloud', 'wsadminlib', 'ajenti', 'TosKeriser', 'Programming-Semester-1', 'DamProject', 'python_lib', 'wwqLyParse', 'photograbber', 'jeolm', 'rlb_aws', 'NfQuery', 'carte-util', 'SleekXMPP', 'mybitbank', 'summarizer', 'glideinWMS', 'pyStRe', 'trafilatura', 'djangae', 'churchbot', 'django-staticgen', 'django-extjs', 'Pokemon_Go_API', 'haystack-snippet', 'quickfinder', 'lyabao', 'MSMARCO', 'PyMAF', 'coala', 'XX-Net', 'rosdoc_lite', 'isa-rwval', '101Pong', 'snv-processing', 'hangups', 'adaptive_lm', 'uct-maths-competition', 'qscan', 'ZWave', 'lastwill_backend', 'pyrallel', 'wrftools', 'pipeline-scheduler', 'django-simple-email-confirmation', 'gmail-indicator', 'mod_security_importer', 'zero_buffer', 'west313-bot', 'plumbum', 'airplaylib', 'synt', 'dcode', 'rodi-plugin-turtlebots', 'markets', 'poor-smime-sign', 'cutst', 'fixofx', 'CleanSlips-Django', 'pyflakes-1', 'pake', 'ungoogled-chromium', 'CarND_P3-Behavioral-Cloning', 'casu-arena-configuration', 'Dru', 'scoreit-handball', 'ICS3U-2016-Group1', 'moe-data', 'simplisafe-python', 'attrs', 'githubdl', 'livelex', 'carnival', 'trajectory_planner', 'ubike-appier', 'erp-cloudbi', 'scraper', 'flask-bearychat', 'ginga', 'SEATSAT', 'omero-fenton', 'ursadb-cli', 'python_traning', 'VideoComposer', '2018-08-27-UA', 'lettuce', 'GomBot', 'cybergis-scripts', 'asyncssh', 'launcher', 'bzr', 'gp_extras', 'bots.v210', 'pygeo', 'swganh', 'blastdbget', 'adsabs-webservices-blueprint', 'c3nav', 'insiderer', 'lite-rate', 'PoloniexAnalyzer', 'TensorFlowOnSpark', 'Runner', 'rubix-cube', 'MaLTPyNT', 'inviddl', 'jnp-dset-converter', 'django-campaign', 'sklearn-porter', 'pyFIMM', 'tornado-smtpclient', 'kalel', 'BMAT', 'sample-swcarpentry-workshop', 'registeredeventlistener', 'larva-lang', 'olympia', 'python-pulseaudio', 'gnucash-rest', 'tmpnb', 'hierarchical-vae', 'weblabdeusto', 'opencloud', 'solutions_examples', 'sage', 'rer.pubblicazioni', 'zoloto', 'tap', 'Data_Structures', 'job-matcher-server', 'tempo_hr', 'ZenStates-Linux', 'TOMs', 'django-haystack', 'nba_py', 'logagg', 'PHP-Vuln-test-suite-generator', 'vfatqc-python-scripts', 'definition-finder', 'HardDriveMonitor', 'Alice-Mugi-Bot', 'yunoacme', 'cnn-benchmarks', 'EventProducer', 'sengfs19-group12', 'grampa', 'package-extract', 'plugin.video.pelisalacarta', 'jenkins-job-builder', 'GRB_myCode', 'pyleus', 'LanideNN', 'scopemanager', 'frontera', 'slot-machine', 'ta4', 'PyAlpha', 'MicroPython', 'SolidPython', 'dopy', 'CaptureBate', 'fastidious', 'veh', 'mrjob', 'django-boilerplate', 'pkg_tools', 'jsonfromschema', 'syringe', 'flask-oidc-ex', 'BigData-LA4', 'numexpr', 'django-qrcode', 'DicePuzzle', 'terraform-anygen', 'couchdiscover', 'WEatherSample-Trial', 'toollabs', 'streamparse', 'skunky-hangprocessor', 'scikit-optimize', 'Normtags', 'cs650', 'wikisonnet', 'py3status', 'voeventdb', 'taia_final_project', 'hackday-myob-2016', 'action-hero', 'dj-stripe', 'pyrcws', 'Cortex-Analyzers', 'python-jenkins', 'ReproNim', 'edc-model-admin', 'openaps-predict', 'elder-scrolls-legends-sdk-python', 'yolo_tensorflow', 'XBlock', 'ursula', 'djangocms-translations', 'optimize_assembler', 'django_sns', 'infracheck', 'esession-testsuite', 'mpl_animate', 'terminator', 'sugar-datastore', 'multidiff', 'noma', 'matplotlib', 'FlaskAPP', 'cmsplugin-pygments', 'omgircd', 'portia', 'd3ploy', 'django-money-rates', 'schifftszbaern2', 'Griffith', 'python-simpledaemonlog', 'matplotlib-attempt-', 'perfexp', 'firefox_decrypt', 'GithubDown', 'mad2', 'keimpx', 'evil-squared', 'python-ecs-logger', 'gremlinrestclient', 'le', 'vlab_onefs', 'revealseattle', 'github-summarizer', 'big-brother-bot', 'OlympicTracker', 'utm', 'cheml', 'lottysBartlett', 'querycontacts', 'pdfrw', 'akep-framework', 'ntokloapi-python', 'MusicBot', 'endpoints-tools', 'loanbot', 'gym-gazebo2', 'IPRS', 'slumber', 'Tensorflow-Segmentation-Toolkit', 'django-gerencianet', 'f5-openstack-lbaasv2-driver', 'assisipy', 'tsadm-webapp', 'ElasticBigQuery', 'openxenmanager', 'pqaut', 'mrf_dl', 'sockdump', 'proxy_pool', 'sale', 'pytconf', 'AlphaZero_Gomoku', 'pg_view', 'home-assistant-config', 'python-virtualenv-packager', 'curio', 'teaching-equivalencies', 'ECLI', 'requests', 'PySPED', 'urc.py', 'mef_eline', 'core9', 'recipie-server', 'swift-account-caretaker', 'asp-old', 'drones-289a', 'ml-hw', 'django-shannon', 'Elevator', 'invenio-rest', 'cv_reconstructor', 'facebook-page-post-scraper', 'cypari2', 'noisicaa', 'pypi-cli', 'Web_Register_page_app', 'hijinks', 'analytics-utils', 'plugin-video-irishtv', 'NeuralEDUSeg', 'python-client', 'bitio', 'TweetStockR', 'iso-20275-python', 'vimeo-xbmc-plugin', 'med_Icaps', 'nmrfit', 'cBinder', 'client-sdk-python', 'trac-plugin-eventum', 'jack', 'neurolab', 'football-calendar', 'py-beward', 'seeker', 'mycelyso', 'DetectorController', 'scicfg', 'certbot', 'repo', 'xbmc', 'interactions', 'phrasemachine', 'pypanda', 'freezing-night-4818', 'log-analysis', 'sphinx-modern-theme', 'Twitch-on-Kodi', 'ocra_selenium_tests', 'GitGutter', 'Python3-ScarletLDAP', 's3-multipart', 'KPI-ERP', 'wirenboard', 'twilix', 'danapeerlab', 'owasp-volunteer-portal', 'trainbot', 'paradocx', 'python-dblog', 'ScoutingData2018', 'aspyrobotmx', 'AccessControl', 'mnemosyne', 'django-mongoadmin', 'pypet', 'QualysReporting', 'mutpy', 'Uranium', 'odi-tools', 'fermi-virgo', 'diamond-framework', 'heat-scratch', 'cquery', 'wazo-admin-ui-schedule', 'vim-yaposting', 'stochastic_depth_keras', 'yjl', 'connector-telephony', 'django-filebrowser-no-grappelli', 'trading-with-python', 'cvcalib', 'openprocurement.tender.core', 'mturk-manager', 'maraschino', 'mscdec', 'h5md', 'Trend_Analysis_tool', 'shakesbeer', 'simDHT', 'django-queued-storage', 'pyqode.qt', 'HackK-State-2017', 'gitea-auto-update', 'Overlay', 'cmv', 'SBEMimage', 'DB2RestRunner', 'sandhi-splitter', 'pacifica-metadata', 'botleague-helpers', 'cnn-rnn-siamese-video-similarity', 'spinnaker', 'container-cloud-config', 'nomansky', 'socialhome', 'ArbiterBot', 'PyJodel', 'hyperspec_unmix', 'tilecloud', 'scrapyd', 'dwarf', 'councilmatic', 'TelegramBot', 'speller', 'stock_selection', 'creepy-1', 'spyder', 'pgcli', 'couchdb-documentation', 'PyKMIP', 'django-ios-notifications', 'package-template', 'OctoPrint-DisplayProgress', 'aioimaplib', 'pyonepassword', 'ASP', 'resin-edison-monitoring-artik', 'scipy-data_fitting', 'edc-navbar', 'Team-Practice', 'mustachify', 'scrapefm', 'vagoth', 'HeaderBidding', 'ganeti', 'drchrono_bday_greeter', 'refl1d', 'cobmo', 'Flask-SimplePay', 'sublime-text-seed', 'badgeyay', 'qmk_pybox', 'easy_sqlite', 'plugin.video.reddit', 'saleor', 'EECS-371', 'ucrc', 'BBScan', 'https-github.com-brilee-MuGo', 'predictions', 'solaris', 'FoodRecommendation', 'PI-TLC5940', 'autoweather', 'SC_dMRI', 'books', 'Cloud2016', 'mobi-dash', 'acbs', 'django-analytics', 'ZMD', 'temperature-sensors', 'aghast', 'cairocffi', 'collective.sendaspdf', 'PDielec', 'dasshio', 'snf-ganeti', 'lindblad_phasepoints', 'w4111-proj1-artdb', 'hermes-server', 'image_utilities', 'entrez', 'sncosmo', 'tsbarnes', 'hugin.haproxy', 'ckanext-validation', 'WechatSogou', 'pytumblr', 'pyspark-sugar', 'LearnGraphDiscovery', 'tictactoe-python', 'authlete-python', 'Hellion', 'py-wsgi-db-app', 'notify', 'PyExcelerate', 'fampipeline', 'pymods', 'Concordia', 'amp-1', 'apt', 'Victor.spaceAPI', 'PyZDDE', 'Astronomy', 'yum-utils', 'python_bucket', 'tornado-es', 'rthrift', 'obsio', 'tensorboardX', 'pipeline2.0', 'SnowAlert', 'PyEasyRPC', 'pysows', 'Oblivion-Chat', 'qsub', 'django-sendgrid-v5', 'Chess-Notation', 'maggy', 'gluster-nagios-addons', 'DcDump', 'guacamole', 'jsh', 'babelsubs', 'django-test-plus', 'splonebox-client', 'verktyg-sqlalchemy', 'resume', 'csvutils', 'tomd', 'denite.nvim', 'django-simplestatic', 'manuskript', 'alidron-archiver-influxdb', 'pyws', 'krauss_misc', 'QQH5Test', 'pydm', 'google-app-engine-ranklist', 'pycloudinary', 'python-speech', 'balena-sense', 'python-irodsclient', 'preupgrade-assistant', 'nccp-data', 'skyflash', 'b3-plugin-jumper', 'Penn-haptics-bolt', 'pycarwings2', 'htcondor-sysview', 'galaxycloudrunner', 'goeffel', 'pyblish-base', 'nemubot', 'riak-python-client', 'Machine-Learning', 'melange', 'pierone-cli', 'docker-oxtrust', 'snr2dem', 'margy', 'PCA', 'mezzanine', 'spacebot', 'jacobian.org', 'RollBot', 'AndroidPythonTools', 'ALMA_SV', 'siesta', 'scrapeDA', 'pbs', 'nose-parameterized', 'Arrival_information_of_large_military_vessels', 'speedtest-cli', 'inettopology', 'creamas', 'pysplice', 'pex', 'Templates', 'pr_syncthing', 'AdHoc', 'CAFA3', 'nbbot', 'django-floppyforms', 'PyX-svn', 'sotodlib', 'thefuck', 'cloudpassage-halo-python-sdk', 'imgnow-helper', 'toil-lib', 'geocamCoreWeb', 'nlpsandbox', 'bank-statement-reconcile', 'biopython', 'prettytable', 'Indigo-lifx-bridge', 'eth-testrpc', 'CS4243-Labs', 'pytest-santa', 'cartouche', 'onsemy_bot', 'sensor-test', 'sync', 'docker-MPI', 'wig', 'tdc_vis', 'lda', 'ecstest', 'crawtext', 'pdfupload', 'moola', 'SlackBot_utkapp', 'seva', 'python-chess', 'Vintager', 'za-parliament-scrapers', 'OpenRenderManagement', 'quaverloss', 'bebop', 'NeuroRDanal', 'OpenPenguin', 'restccnu', 'magenta', 'Hitman', 'GithubDataWebAPI', 'spitter', 'armada', 'fingo-backend', 'Twitter-Supervisor', 'tree_of_code_2016', 'social-engineer-toolkit', 'Reconhecimento-Facial', 'allianceauth', 'python-feedgen', 'armstrong.core.arm_wells', 'camayoc', 'counterpoise-J', 'pyforrst', 'elastic-stack-0-to-1-demo', 'MongoLite', 'sphinxcontrib-asyncio', 'identity', 'command-set', 'cle', 'AutoRemote', 'docs-generator', 'django-ratings', 'subliminal', 'mysql-connector-python', 'chisel', 'flask-passwordless', 'django-faq', 'Comp-Material-Physics-HA4', 'papuanewguinea', 'extractors', 'treeio', 'djfirebirdsql', 'webassets', 'multi_IMU', 'ClusterRunner', 'marshmallow-jsonschema', 'tensorsignatures', 'windsurf', 'Connector', 'hummingbot', 'graph-ryder-api', 'python-tests', 'inbus.client.python', 'websleydale', 'pynocchio', 'SetupServer', 'cobrascript', 'rps-alpha', 'torstream', 'Bob', 'console-tools', 'Comrade', 'intranet', 'countryrestapi', 'fruitex', 'webcouturier.dropdownmenu', 'calico', 'spring-replay-site', 'oca-contract', 'pyalgotrade', 'pyPasteSpreader', 'neutron', 'gsconfig', 'quac', 'gitwig-package', 'dulwich', 'sr-manipulation', 'gtk-mac-bundler', 'MD_Scripts', 'frosted', 'httplib2', 'twobit-git-poller', 'pinoon', 'transitfeed', 'communist_scrap', 'appsync', 'electrum-dash', 'symposion', 'roundrobin', 'Project-I', 'pyrax', 'battlecon-ai', 'lnf-tools', 'lsum', 'EchoQuilt', 'builds', 'maslab-2012-team-6', 'sale-reporting', 'klupu', 'eslab', 'proxysiphon', 'SemSeg', '2DGame', 'OCA-product-attribute', 'mockernaut', 'mona', 'confluencer', 'ele440_labo4', 'oneapi-python', 'tiddlywebplugins.bfw', 'spirit', 'flit', 'into-dbus-python', 'edx_xblock_scorm', 'python-goose', 'Lost-Photos-Found', 'python-sdk', 'wikiart-classifier', 'quix.django.contact', 'pibot', 'h5py', 'rstblog', 'va_course_2015', 'pymq', 'ba1', 'STDPOscillations', 'Spider', 'SimpleReaderServer', 'pyjade', 'nairaland-api', 'stacktracker', 'django-custom-user', 'Astrollaneous', 'easywebdav', 'wgkits', 'adsb', 'next-train', 'wsgidav', 'johnny-cache', 'phial', 'converters', '2016-07-21-sfwmd', 'Baseline2015', 'reddit', 'kytos', 'git-svnmodule', 'vimap', 'fpga-programming', 'urbansim', '2018-04-16-nas', 'korean', 'i3Twitterbot', 'MPExpertAdjust', 'advene', 'python-etcd', 'trac-watchlist-plugin', 'TextBlob', 'scanless', 'assurity', 'djorm-pgarray', 'convert-mediawiki-to-gh-pages', 'ddf_utils', 'autonetkit', 'hmi', 'pyPEPA', 'covest', 'chopsticks', 'python-application', 'WikiCode', 'ftp_admin_bot', 'ML-From-Scratch', 'Serpent', 'sucks', 'scikit-bio', 'edc', 'requests-toolbelt', 'Network-Display-On-Pi', 'm3-python', 'ALIS', 'NEXT', 'github3.py', 'catalysis', 'controller', 'vsTAAmbk', 'liberapay.com', 'guild', 'sublime-q', 'aws-ec2-update-tags', 'Panoptic', 'timeComplexityCalculation', 'ov6', 'PYT-TwitterWall', 'jitcsde', 'redash', 'Tornado-RESTful', 'python-flask-socket_io_demo', 'yara-ctypes', 'MRFSimpleFlux', 'ECS-Game', 'Penguin-Backend', 'pydes', 'depth_video', 'isign', 'ComicStreamer', 'ChessAdvicer', 'shift', 'tcollector', 'ponyFiction', 'sale-workflow', 'DeepSpeech', 'scRNA-Seq', 'gomatic', 'wsp', 'python-linkedin', 'python-libs', 'tingyun-agent-python', 'earthquake-preparedness', 'ndinterval', 'distribute_crawler', 'logsearch-service', 'wifiphisher', 'trombi', 'ueb-analysis', 'troposphere', 'qgis2leaf', 'dwebsocket', 'django-atlas', 'Profiles', 'sqlalchemy_fdw', 'smsircgw', 'nyuki', 'openebs', 'example-app-for-half-pipe', 'para_api', 'cause-effect', 'https-github.com-sqlmapproject-sqlmap', 'SeattleRedditBot', 'python-demo', 'mattflow', 'python-trading', 'pyelftools', 'multi-speaker-tacotron-tensorflow', 'namebench', 'bbctl', 'la_forge', 'great-international-ui', 'BasicDB', 'Website-Environment-Generator', 'crab', 'workerbee', 'PyUpdater', 'queue', 'collectd-ceph', 'clixx.io', 'rebased-pdbpp', 'CDRental', 'bbqsql', 'flare-floss', 'TagLab', 'fun-apps', 'rattle', 'trimtrailingwhitespaces', 'convertbng', 'python-krux-cloud-health', 'MydealzScrapper', 'Fabulous', 'dbm', 'plugin.video.online-files', 'RUIANToolbox', 'perzoot', 'yggdrasil-py', 'dynamite', 'thedoorman', 'price_prediction_airbnb_tokyo', 'termineter', 'python-sprintly', 'genesys-xblock', 'sgpublish', 'gitinspector', 'django-cors-middleware', 'cronurl', 'plugin.video.jeuxvideo.com', 'RedBot', 'cbc-validator-rotation', 'sendgrid-python', 'AsanaToGithub', 'loan_eligibilty_determinator', 'reganalysis', 'exercism.io', 'dh-python-dh', 'devpi-rss', 'i3wm-configuration', 'node-stats', 'slackbot', 'cells', 'Gayle_Python_Solve', 'dive', 'hunger-games', 'pyasp', 'pytest_sauce', 'rpm-spec-dependency-analyzer', 'openstack-dashboard', 'imgur-album-downloader', 'BadHaikuBot', 'arango-python', 'keras-nalu', 'quora-api', 'philter', 'django-blog-zinnia', 'FFFS', 'Drangon', 'freezer-monitor', 'shairport-decoder', 'smartkeg', 'cornfield', 'temperature-sensor-reader', 'OSOL.Extremum', 'cryptopals-challenges', 'ext2rdf', 'pycbc', 'uPMU-daemon', 'chainer-tensorboard-example', 'cherrypy_auth', 'team-metrics', 'emesene', 'Kaggles', 'colabtools', 'Steam', 'locomouseion', 'lab11', 'rebecca.login', 'pyilper', 'bouncerpy', 'eventize', 'ha-hpprinter', 'hyperopt', 'HorusGroundStation', 'dataflows-workflow', 'Introduction-to-HipChat', 'internetarchive', 'turbofan', 'vikoverflow-backend', 'supervisor', 'ridenum', 'flask-couchdbkit', 'hammr', 'edc-pharmacy-dashboard', 'ShaniXBMCWork', 'discogs-xml2db', 'continue', 'frameworking', 'ckanext-themeSmartStreets', 'repraptoolbox', 'Digenpy', 'TabCloseOrder', 'PyBayes', 'itworkshop-scripts', 'facebooklogin', 'ROS_LaserScan_Obstruction_Detection', 'capsoplot', 'sstsne', 'yp', '30-seconds-of-python', 'meerkat_libs', 'EDIlib', 'Blender-Utilities', 'browserinfo', 'netpyne', 'mintapi', 'PyETo', 'openisms', 'pywrds', 'spark-tk', 'Adafruit_Python_LSM303', 'python-pvx-client', 'asgi_ipc', 'django-enumfield', 'alfateh_fleet_management', 'openassistant', 'itracker_beta', 'waf-tools', 'gnucash_magical_importer', 'Customer-Develop', 'getComic', 'tunasync', 'DAT3', 'audioread', 'RISC-721-Assembler', 'minos', 'indexer', 'sculpt-ajax', 'openeo-openshift-driver', 'ISP-Tweeter', 'rssr-daemon', 'sanic', 'sortrpms', 'HiPy', 'osg_tools', 'voila', 'spatialtree', 'dicomsort', 'reprise', 'flashbake', 'buzz-python-client', 'aioxmpp', 'shell-novice-es-old', 'LabelImgTool', 'LAB_TOOLS', 'django-orghierarchy', 'PushOverPy', 'nti.schema', 'robotframework-snmplibrary', 'cloudkeeper-os', 'president_watson', 'C3PO', 'smallslive-metrics-djangoapp', 'cli-tables', 'Eden', 'Compiler-AsciiC', 'notifications-template-preview', 'skyline', 'golos_sync', 'docker-machine-py', 'tensorpack', 'LSTM_analysis', 'VLAB', 'django-model-utils', 'Homebrain', 'django-fiber', 'samlkeygen', 'numpydoc', 'pylotro', 'Dshell', 'WikiBotSite', 'django-notifications', 'Nitrate', 'flask-restful', 'oauth2client', 'gitmate-2', 'django-icetea', 'pip-helpers', 'socialhack13', 'imgaug', 'datapusher', 'test-av2', 'akanda-neutron', 'letsencrypt', 'summer_game_theory_repo', 'vm-easy-deploy', 'vulnDBGen', 'pupy', 'raskle', 'ProcessMappingScanner', 'django-cc', 'tornado-celery', 'c2c-randd-tmp', 'DCpython', 'animation_nodes', 'pgoapi-Py', '425MP2', 'vboxweb', 'urquell', 'pydocx', 'framework', 'pianobar-skill', 'apts', 'pyramid_debugtoolbar', 'boggle-bot', 'scivis', 'congress', 'daily-article', 'cue-csgo', 'okan_scripts', 'sugar', 'merge-gpx', 'chronos', 'pytest-assassin', 'django-simplethumb', 'FunkLoad', 'charm-ubuntu', 'poirot', 'CoverMi', 'wand', 'music_essentials', 'IowaAirFlask', 'DeepFried2', 'rw_texter', 'yocto-iot', 'tripleo-heat-templates', 'switch_checker', 'ueceapi', 'pyenchant', 'torngithub', 'django-vies', 'kedb', 'edc-visit-schedule', 'buoyantPimpleFlux', 'python-jumpstart', 'django-france-express', 'cnn-text-classification-pytorch', 'node-gyp', 'wqaa', 'Phaser', 'Melopy', 'flyer', 'django-wiki', 'kddcup2015', 'libcloud', 'mongo-python-driver', 'avatar-script', 'pygnokii', 'pssi', 'KGen', 'extractive-summarizer', 'whiteblocker', 'erpnext_smart', 'bell', 'cython-hidapi', 'stormtroopers', 'pyfunct', 'pystache', 'pleasance', 'cmsplugin-pagebreaks', 'plaso', 'Memoria', 'stravamous', 'conda', 'obo', 'deepspeech-pkguploadworker', 'iec60063', 'tensorboard-pytorch', 'mol_cp19', 'sift-python-sdk', 'libswervedrive', 'docker-py', 'django-cms', 'beThere-api', 'Moving_list', 'Qt.py', 'TaskWorker', 'pymumps', 'hospital_erp', 'hera_pspec', 'hellinet-server', 'PyPure-CMS', 'New_Theme_Erp', 'pdf-table-extract', 'disaster-preparedness', 'crypto-class', 'ignite-simple', 'karas', 'tldextract', 'safe-build-infrastructure', 'tic-tac-toe', 'fragastaten_se', 'urlscan', 'openmm-forcefields', 'semeval', 'my-slack-bot', 'django-massmailer', 'turnkey-pylib', 'networking-infoblox', 'setuper', 'BillSplitter-Server', 'blender_nif_plugin', 'fiftystates', 'dragonfly-scripts', 'mau_mau_bot', 'coinhub', 'forepycast', 'udacity-nd004-p4-conference-organization-app', 'git-imerge', 'desparchado', 'arduino-mass-builder', 'autosubs', 'LanPP', 'pbcommand', 'midas', 'beaker-notebook', 'oca-carrier-delivery', 'django-dps', 'heppy_fcc', 'bjrobot', 'django-userena', 'funf-open-sensing-framework.scripts', 'django-tinymce', 'squerm', 'orpha-tools', 'Anaheim-Ducks-Bot', 'AutoEssayGrader', 'python-consul', 'raspberryio', 'django-uuidfield', 'CryptoEVoting', 'Noriben', 'scikit-learn', 'api_wot_proxy', 'twistedstream', 'oftest', 'doorman', '2017-12-06-Southampton', 'MyPlot', 'Cnc25D', 'cellom2tif', 'SublimeLinter-pycodestyle', 'ansible-common-f5bigip', 'p2pooldoge-all', 'wmt2014-scripts', 'NetEase-MusicBox', 'Game', 'LosTorreros', 'django-permission-backend-nonrel', 'oy-cms', 'sandplotter', 'social-media-data-scripts', 'staticdhcpd', 'minimalcp', 'watermarker-cli', 'sahana_shelter_worldbank', 'guilesstwitter', 'Compiler', 'rpm2python', 'xbrltpl', 'django-moderator', 'bindibot', 'bottle-wiki', 'proxieme-api', 'wiki', 'ak', 'eswitchd', 'numix-core', 'uws-client', 'apt-rollback', 'SentimentResearch-Motivation', 'mdm-server', 'django-pin-passcode', 'MagPySV', 'nyc_restaurant_task', 'BiblioDB', 'tally-ho', 'python-mode', 'repository_direct', 'hyperspy', 'Seng371-Worker', 'pulp', 'fcb', 'titan', 'Vellumbot', 'FiveTwelve', 'ssb', 'PyCharmProjects', 'alipay-python-sdk', 'NmPkg', 'micronaet7', 'rdopts', 'Artificial-Intelligence-Deep-Learning-Machine-Learning-Tutorials', 'sibin', 'buildfarm', 'slixmpp', 'django-salmonella', 'scientific_computing_cholesky', 'robotframework-crypto', 'KotatsuKid', 'python-driver', '2019-04-29-ttt-hutchinson_uw', 'pyiur', 'aneris', 'rtfm', 'skplumber', 'project.pocketsniffer.server', 'meresco-owlim', 'ud330', 'proxy-manager', 'MLAlgorithms', 'GSEApy', 'pymemcache', 'translate', 'qudi', 'pyan', 'manila', 'keras-reid', 'smmry-api-wrapper', 'tf-Faster-RCNN', 'music_repo', 'GCMCworkflow', 'geocamTrackWeb', 'python-digitalocean', 'signal-transformation', 'alf', 'pvHelpers', 'SquareSampling', 'BlogPostingReminder', 'wissensmanagement', 'rasp-pi-udp-control', 'channelpy', 'hrl-lib', 'falcon', 'tea-python', 'MD-TASK', 'user-profiling', 'learners', 'raghavan10-authorship-attribution-PCFG', 'game-engine-detector', 'euler', 'Olympus', 'faa-dof-gp', 'OnlineJudge', 'PyApex', 'opencl4py', 'drown', 'PracticePy', 'bookgame', 'psdash', 'git-Rstudio-course', 'Scavenger', 'bookhub', 'Adafruit_CircuitPython_VL6180X', 'toggle.sg-download', 'cmaq_forcing', 'subtypes', 'surge-examples', 'AWSInteractiveUtils', 'wikiton', 'Monguo', 'Ventas-Ingadhoc', 'stringutils', 'magento', 'pygpar', 'django-tables2-reports', 'v2ex', 'paperearth.net', 'nginxify', 'Roboism', 'aleph', 'swidGenerator', 'emperor', 'sage-patchbot', 'navboxplus', 'django-rest-auth', 'ParticlePy', 'willie', 'nlup', 'poll-lti', 'pypdfocr', 'edc-lab-dashboard', 'smasher-stats', 'poseidon', 'SMALR', 'pin3DNS', 'JunNMT', 'starpy', 'django2', 'tools', 'PyTables', 'swagger-parser', 'transito', 'invenio-oaiharvester', 'pip-tools', 'newton-raphson', 'sense2vec', 'comparativeAnnotator', 'addonpayments-Python-SDK', 'pywit', 'optfunc', 'absolutely-proprietary', 'python-paillier', 'biomaj-cron', 'redirect_maker', 'oerebLader', 'ns-3-dev', 'python-can', 'md5s3stash', 'libcloudcore', 'egor045_trav_client', 'opentuner-1', 'class-nlp-project', 'dogonlanguages', 'sevent', 'explore-city-server', 'EHTplots', 'rpki-read', 'django-easy-news', 'CANBadger-Server', 'zookeeper_monitor', 'pygerrit', 'Danish-XBMC-addons', 'downspout', 'Kropyvaba', 'pyglet', 'toml', 'inasafe', 'SMBEdit', 'llp', 'python-sample-auth', 'snowlinux-installer', 'borderlandsoft201620', 'r2s-act', 'skrish', 'myrpg', 'takeover', 'rrees-kata', 'FeelUOwn', 'ssea', 'mynt', 'pwi', 'django-admin-tools-stats', 'ds3_python_sdk', 'doob_bot', 'quora', 'tombo', '7dtd-chrani-bot', 'pyproxyhunter', 'DIRAC', 'Products.ExternalEditor', 'buildbot_travis', 'Watcher', 'healthsites', 'notebooks', 'PIV_LDV_KULITE', 'aiorosapi', 'pysdl-gpu', 'aiops-insights-clustering', 'asyncmongo', 'PyEMD', 'datalad', 'googleplay-api', 'pitivi', 'IronDomo', 'zaqar', 'latex.tmbundle', 'airmozilla', 'pyjsonselect', 'eada', 'flask-skeleton', 'svgis', 'tulsa-transit-google', 'gsconfig-py3', 'blender-asset-manager', 'brasil.gov.vlibrasnews', 'aioredis', 'wv2-processing', 'py-hcl', 'tournament-admin-tool', 'lutorpy', 'Maltego-Recorded_Future-TDS', 'openstack-formula', 'virtuoso-python', 'django-auth-lti', 'aws-cli', 'Erfgoedstats', 'curly-quack', 'mapboxgl-jupyter', 'SACHI-Showcase', 'dpxdt', 'imageSeg', 'plugin.video.zoneminder', 'TimeFlex-cloud', 'django-storages', 'dnd1', 'pykafka', 'robokop-interfaces', 'openstack-bareon', 'fyp-uottawa', 'mongodb-graphite-metrics', 'oauth-proxy', 'SOF13', 'Cnchi', 'lektor-1', 'ideamine', '1234-05-06-LLNL-Sample', 'missing_builds', 'cbh_chembl_ws_extension', 'jinja2', 'autolog', 'emailcenterpro', 'documentation', 'udb', 'easybuild-easyblocks', 'django-photologue', 'ttcgtk', 'management-system', 'OASYS-SYNED', 'haavarot', 'pg_export', 'sot-application', 'PSO2es-Translation', 'TadsPad', 'hsdeploy', 'Terminal_Worm', 'CID', 'Glacier-Analyser', 'python-memcached', 'yandex-tank', 'edc-reports', 'django-timezones', 'AM_Analysis', 'git-tf', 'RESTdev', 'b3-plugin-chatlogger', 'ansible-cloudstack', 'erp_medica', 'pyboard_sync', 'MD-Structure-Factor', 'happy_wedding', 'django-mailer-2', 'fonts-tweak-tool', 'antispoofing.verification.gmm', 'odoo_modules', 'ros', 'py-timeexecution', 'pydane', 'fail2ban', 'pyret', 'QCG-PilotJob', 'reporter', 'nltk', 'deluge', 'pysatisfaction', 'gnome15', 'GradientMethods', 'Chinese-Font-Generation', 'microservices-in-action', 'ssai-cnn', 'marc2bib', 'MLaaS4HEP', 'gremlin-python', 'Glyphs-Scripts', 'spacemaster', 'ekitag-backend', 'watcher', 'selen_kaa', 'gambly', 'ddiscord', 'kipp', 'stechec2', 'videoposter', 'argparse', 'mssh-copy-id', 'indi-python', 'Handy', 'pycaption', 'Adafruit_Python_PlatformDetect', 'zipline', 'py_clickhouse_aio', 'elastalert', 'django-test-utils', 'cookiecutter-pypackage', 'KGCN', 'roshammer', 'sao-case-management', 'tk102-server', 'oohembed', 'Afloat', 'match-ticker', 'osg-build', 'tgisispuj', 'TumblrArchivr', 'pytest-vcr', 'repub', 'Wave', 'django-follow', 'lingq', 'get-tweets', 'projects-edx-platform-extensions', 'blender-lsystem-addon', 'graygram-web', 'Theano', 'django-endless-pagination', 'ckanext-discourse', 'otm-legacy', 'pPub', 'Tensorflow_rewreu', 'resolver', 'dolfin-tape', 'RTagsComplete', 'VariousParsers', 'edx-ora2', 'dlhub_cli', 'dump-parser', 'pyramid', 'edc-rule-groups', 'openprocurement.tender.openua', 'redis_bus_python', 'lcoTCC', 'cognite-replicator', 'collectd-elasticsearch', 'debian-statsmodels', 'label-lookup', 'bloodflow', 'VasirSite-Flask', 'GoodVibes', 'better-exceptions', 'ChromaAutomationSuite', 'sal', 'simplefb', 'imbalanced-learn', 'gdb-plot', 'mesh-align-plus', 'pythia', 'digitales-bench', 'edc-metadata', 'cell-based-RC-control', 'sortableclasses.py', 'monitoring', 'xunfeng', 'upwork-feed-notifier', 'photo-survey', 'bundle-apache-ingestion-kafka', 'glycan_detection', 'soldat-pymapper', 'arctic', 'testinfra', 'mtgdeck', 'core-apis', 'data_tool', '24Hducode2015', 'copernicus-api', 'pannenkoek', 'MS17-010', 'zenodo', 'django-kvisits', 'nationalparks-py', 'dateutil', 'sms2csv', 'run_jnb', 'aiops-incoming-listener', 'ss-quick', 'postman', 'batchelor', 'vcoclient', 'appdeps', 'RVfunctions', 'ipa-docker-test-runner', 'nanomsg-python', 'helpers', 'appdailysales', 'social-api', 'maya', 'py-de', 'derp', 'edc-model-wrapper', 'mailgun-mail-viewer', 'virtualenv-tools', 'NiftyNet', 'ccf', 'mud_py', 'Golfram-Alpha', 'django-baker', 'classifier', 'PersonalizationService', 'esptool', 'Pyxie', 'cvstats', 'sand_box', 'serial_bridge', 'lawliet-dashboard', 'Stock-Price-Telegram-Bot', 'tomsup', 'CloudRobot', 'autobahn-python', 'DoorSensor', 'pgl4rbl', 'cherry', 'ScreenRotator', 'edc-notification', 'Task-Allocation', 'RETAIN', 'HonoursProject', 'datalad-revolution', 'ocxsect', 'cloudmesh.openapi', 'Testing-this-out', 'bookshelf', 'pypiserver', 'climstats', 'openfisca-aotearoa', 'buildout', 'finite-element-method-py', 'snimpy', 'doc11', 'LocusPocus', 'CoreTardis', 'vmmaster', 'vumi-http-retry-api', 'bigchaindb', 'StarryPy3k', 'fordocs', 'veil', 'docker-config-init', 'scrapy', 'douban_spider_kit', 'wouso', 'base_prj', 'hejbot', 'pacman-mirrors', 'seminar-emails-processing', 'blacksalt', 'django-avatar', 'cqlengine', 'easybuild-framework', 'whereToApi', 'ice9', 'OsakkeetScraper', 'salt', 'html5lib-python', 'Veil-Evasion', 'InnoLinksBot', 'discord-transporter', 'iloot', 'crontrack', 'rtmplite-s3-integration', 'kalturaHackathon', 'meterstick', 'luxinema', 'LambdaSubstitution', 'dhitools', 'hosts', 'openfire-cli', 'USTC-Course', 'Line_BOT', 'django-admin-json-editor', 'handsomely', 'django-forms-builder', 'fabric8-analytics-stack-analysis', 'Pykit-Learn', 'cc_dynamodb3', 'numpy_pandas_tushare_learning', 'splunk-thehive', 'fishtest', 'mkdocs', 'lxmls-toolkit', 'beet-amazon', 'ItemCatalogApp', 'NVDARemoteServer', 'slackblocks', 'tornado_skeleton', 'django-cymysql', 'LaCie-Vanilla', 'mots-vides', 'kepler-mapper', 'piJukebox', 'wordhop-python', 'docs-style-guide', 'pulse2percept', 'groselha', 'huurspy', 'jem', 'recpermissions', 'STC', 'cacus', 'spyder-notebook', 'tutorons-server', 'conary-policy', 'cove', 'python-recsys', 'trio-util', 'PyCNL', 'libeuler', 'Book_project', 'track_maker', 'jtranslate', 'TDA_Python', 'pet', 'intellicoder', 'edc-configuration', 'krill', 'mods_generator', 'pascali-public', 'snippets-service', 'more.pathtool', 'py-ipld', 'grr', 'onionbalance', 'constrNMPy', 'scenery_generator', 'skip-thoughts', 'cloudwatch-to-graphite', 'LabPal', 'homestack-db-library', 'pycifrw', 'summershum', 'Inkafarma', 'GPflow-inter-domain', 'sentry-telegram', 'bdrcmodels', 'gsh', 'python-urlgrabber', 'drosophila_eye_map', 'ambition-prn', 'SCPSLBot', 'automyeatclub', 'Python-screen-scaper', 'cardiff', 'grapheap', 'airtable.py', 'omx', '2018-08-18-ttt-LatinAmerica', 'Blacktea', 'labs', 'pyrel', 'mpl-issues', 'xmltodict', 'pillar', 'rmake-2', 'blacktie', 'robokop-build', 'edc-fabric', 'web', 'nemo_nowcast', 'journeyrango', 'sublime-iced-coffeescript', 'slack-upload-resource', 'posidrive', 'PIE', 'statistics', 'Learning-Data', 'admin_apps', 'sunburnt', 'django-mongodbforms', 'blog', 'pytest-django', 'yalign', 'delb', 'toad', 'quantgen', 'django-collect-offline-files', 'cpython', 'toprammer', 'cloudhopper', 'angr', 'tensorprob', 'golf', 'openarkkit', 'stu_project', 'twitterjelly', 'gdata-python-client', 'teslacam', 'osint-4', 'forms_webhook', 'django-templated-email', 'college-hackday', 'django-predicate', 'podkast.srib.no', 'dxr', 'PyCDR-Advanced', 'HPotter', 'HatGame', 'rapidpro-typeform', 'swiftSnap', 'mass_api_client', 'pybossa-amnesty-microtasking', 'tengu-charms', 'raspberry-conf', 'compoundDB', 'compose', 'wpc_proj', 'SublimErl', 'craigsgenerator', 'Flask-SocketIO', 'Client_API_VN', 'django-rest-framework', 'python-facebook', 'collectd-rabbitmq', 'zone_model', 'django-cron', 'RPiParticle', 'rpi-rx5808-stream', 'curtsies', 'certbot-pdns', 'dadi', 'nikola-server', 'indie', 'backend', 'Echidna_scripts', 'harp', 'robotframework-requests', 'PokerBot', 'galpy', 'talespace-backend', 'tap-github', 'im_bot-hi_bot', 'ctk-cli-indexer', 'dumb-init', 'junkbox', 'torndb', 'parameters', 'nolearn', 'SmallTools', 'pistuff', 'FCN.tensorflow', 'odoo_ezdoo', 'katana_kinect_calibration', 'ATX', 'PYmods', 'flask-github-hook', 'scikit-image', 'django-jqchat', 'ida_python_script', 'pyST7920', 'django-report-utils', 'robobrowser', 'klemmbrett', 'dna', 'sqlalchemy-views', 'rgwadmin', 'kartograph.py', 'humilis-lambdautils', 'neural', 'qurious', 'spoon', 'InstrumentedBicycle', 'geatpy', 'wfuzz', 'AlphaPacman', 'taskflow', 'PiStronomy', 'jenkins-job-wrecker', 'bayesrl', 'swc-diffuse', 'zeca', 'vws-python-mock', 'curious', 'mkmk', 'Biscotti', 'scikit-numerical', 'salesforce_bulk', 'python-pair-programming-exercises-2nd-tw-tomi-demo', 'AIAnts', 'video-service', 'temii', '2018-05-09-ufs', 'django-tesseractfield', 'seria', 'django-openipam', 'tor-weather', 'redshift-auto-schema', 'MovieDB', 'hamlish-jinja', 'bookshelf_web', 'tremc', 'intercom-rank', 'DSXS', 'emop-controller', 'junit-auto-migrate', 'Dataset-maker-for-action-recognition', 'django-nuit', 'vimpyskel', 'ablog', 'domain_discovery_API', 'BikeSharePrediction', 'pyatlasclient', 'stripe-python', 'pyBAR_mimosa26_interpreter', 'nilearn', 'ucti-timetable', 'fabiosouto', 'jaikuengine', 'PornHub', 'WAWIA', 'MorphL-Model-Publishers-Churning-Users-BigQuery', 'invenio-s3', 'gae-setuptools', 'elastic-importer', 'TFWiki-scripts', 'suds', 'Global-signbank', 'dash-live-source-simulator', 'scrapy-s3pipeline', 'pyposterous', 'BERT_WL', 'is_valid', 'mxnet-gan', 'docker-registry', 'django-loose-fk', 'fixedwidth', 'pykwalifire', 'TTS-Manager', 'odoomrp-wip', 'gdl_ros_ws', 'django-shibboleth', 'shenanigans', 'ZZ-FORK-cpython', 'Pynstein', 'py-hotspot', 'synergine2', 'quickstats-django', 'bot_recomender_info_2019', 'django-nonrel', 'jcsclient', 'jaksafe', 'opds-reader', 'ASTGCN', 'dtcd', 'rojak', 'py-bitly-exporter', 'asyncdynamo', 'pypifs', 'planout', 'pyusb', 'python-butter', 'beprof', 'epubfile', 'kleague', 'ray', 'lsi-api', 'cpc-dsl', 'Cryostat-GUI', 'shosai', 'YouCompleteMe', 'socraticqs2', 'Quantum-Packages', 'oauthlib', 'record-gnome', 'auto-yt-dl', 'biplist', 'h5features', 'aws_utils', 'Data-Structure-Algorithm', 'DDNS', 'X-Ray-Creator', 'tensorlayer', 'python-phonenumbers', 'zhpy', 'lcoSopActor', 'Canivete', 'gitsome', 'yadt-minion', 'wigwams', 'addons-vauxoo', 'pyeuclid', 'ansible', 'async_deeprl', 'navi-x', 'ID3_Fixer', 'norniring-bgpfabric', 'rally', 'fotonowerpip', 'application-aware-sdn-module', 'djregs', 'niji', 'django-shop-old', 'elasticluster', 'matrix_to_adjacency', 'wait_for_it', 'projects-2018-1', 'LeadVsGold', 'winpython', 'box-python-sdk', 'openmolar1', 'pandas_diff', 'eos-shell-content', 'libARCommands', 'pyhtzee', 'yunohost', 'psutil', 'clrs_algorithm', 'portfolio', 'djangogmg', 'c2c.recipe.jarfile', 'Arachnid', 'zulip-botmatrix', 'BeautyBar', 'JoustMania', 'py-quickbase', 'school_models', 'provider-data-tools', 'antminer-monitor', 'decoding-contour-next-link', 'gCLIst', 'Arturo', 'osc', 'knownsec-spider', 'yacman', 'gg-commit', 'rdflib', 'fido', '3dod', 'fullcontact.py', 'malayalam2IPA', 'sublimetext-epages6', 'finch', 'PiGuard', '2017', 'mozmoderator', 'globus-cwlogger', 'Sentinel-download', 'pylidar', 'faker-1', 'monast', 'django-calaccess-processed-data', 'django-invitations', 'CS168', 'tournament-of-lulz', 'magnetodb', 'r-novice-gapminder', 'vktotg', 'sublime-text-2-ruby-tests', 'seismograph', 'bts', 'WCIRobotics2015', 'InstallMyApps', 'kinetic-swift', 'baseball-simulators', 'Data-Visualizer', 'pyldap', 'cloudshell-cli', 'python-binance', 'pypot', 'geowebdns', 'lftp', 'rules_python', 'edc-consent', 'escort', 'deathtower', 'fgatc', 'Crypto-Trading-Bot', 'imaginglss', 'SurveyDataConverter', 'django-th', 'Monocle', 'tensorflow_fasttext', 'configpy-node', 'microblog-django', 'pox', 'fitbite', 'python3-wsgi-intercept', 'script.maps.browser', 'api-v1-client-python', 'passpy', 'RandomFaultInserter', 'wal_steam', 'chainer-deepmark', 'bufferbloat', 'IggyTools', 'simpleblog', 'erudite', 'harvester', 'conspire', 'ledsignstockticker', 'cuttlery', 'imagetask', 'django-hijack', 'djed.layout', 'cov-exclude-py', 'mlt', 'Game-Bot', 'pronunciation_master', 'bloggart', 'roles', 'openconsent', 'django-rest-localflavor', 'pyblish-ftrack', 'cjdnsscripts', 'sigrokdecode', 'NetCrawler', 'readFederation', 'collective.eventmanager', 'hypernova', 'termsquery', 'discovery', 'Autorippr', 'pyrinet', 'doc8', 'alfanous', 'z20p', 'cadnano2', 'client-py', 'voxplex', 'coolsms-python', 'python-xlib', 'archey4', 'geonode', 'consul-docker', 'pointmap', 'quantum-control', 'TimeCube', 'blender-addons-contrib', 'sphinx', 'edc-data-manager', 'dns_mdb', 'osbrain', 'CUP_EXAM', 'git-remote-hg', 'course-builder', 'LIS-Tempest', 'http-request-translator', 'django-searchly-tables', 'nodeenv', 'pyhs2', 'INR-tester-program', 'Dynatrace-SNMP', 'Pick-and-Place-project-Vision-system', 'Tuitter', 'invenio-fabric', 'pytbclock', 'rtk-lookup', 'fairyscript', 'cloud-weather-report', 'django-cache-machine', 'flask-sqlalchemy-session', 'sentry-zabbix', 'collective.easyformplugin.registration', 'loginpages-jaek', 'isomorphisms', 'edc-identifier', 'Unit-testing-talk', 'WcModelingTutorial', 'ha_philips_2016', 'infocom_notice', 'AeroBenchVVPython', 'opps-piston', 'edx-configuration', 'RHEAS', 'EliteOCR', 'My-Account-Book', 'shinken', 'readthedocs.org', 'SublimeEvernote', 'docker', 'pynt', 'POS-CNN-Tensorflow', 'pyArango', 'st2contrib', 'didi-competition', 'structurework', 'shortener', 'Attack', 'cutiefeed', 'MultiTemplateMatching-Fiji', 'ufo2ft', 'WePick', 'teak-ios-docs', 'robotframework-uiautomatorlibrary', 'AIQ', 'cgData', 'sat-scripts', 'python-neo', 'yharnam-notes-bot', 'inventarist', 'pysensu', 'granitepy', 'django-lfs', 'calc_ds', 'openedx-certificates', 'setlyze', 'pokebattle', 'JRR_Code', 'phono-ortho-spelling', 'pygeoip', 'pybraries', 'bt', 'python-vimeo', 'twostage', 'PhoenixAdult.bundle', 'debug_infra', 'GeekBrainsPython_level02', 'moai', '5432-01-01-fakeworkshop', 'django_reverse_admin', 'cobbler', 'zulip', 'pyCalc', 'suse-migration-services', 'scoots-python', 'replica', 'sphinx-gallery', 'facial_rec', 'rs-fMRI-pilot', 'deeplearning', 'hydraspa', 'Mathics', 'tesla_powerwall', 'jasmin', 'exchange', 'espurna-nightly-builder', 'faster-rcnn.pytorch', 'AddSign_PowerSign_in_PyTorch', 'divie', 'olm', 'ambition-visit-schedule', 'system-v9', 'Passcypher_bot', 'pynt-of-django', 'mtools', 'total-recall', 'rolabesti', 'zerorpc-python', 'HashSTIXer', 'python-pair-programming-exercises-2nd-tw-misi_tami_p6', 'pxf-gamejam', 'canvassing', 'hue', 'otsrdflib', 'tornado', 'Learning_Python', 'btrdb-python', 'dotmuncher', 'pyrlp', 'python-amazon-simple-product-api', 'Cura', 'boot_agents', 'qaa', 'vk_audios_bot', 'conan-libuv', 'cubes', 'AirplaneBoardingSimulator', 'midigen', '254-space-log', 'vdsm', 'heka-py', 'taxes-2018', 'ucloud-cli', 'flask-security', 'pyqtgraph-core', 'python-client-sword2', 'pyDVS', 'mangrove', 'AI_Dods-Boxes', 'SolarCellAutotest', 'sqlalchemy', 'scholdoc-filters', 'deon', 'PicDL', 'affix', 'djangobrasil.org', 'edx-platform', 'GRACE', 'SDATA', 'simplestats', 'magic-wormhole', 'with-cloud-blob', 'Password-Manager', 'FullStack', 'simple-payments', 'hyde', 'enigma2', 'mxnet_to_onnx', 'TPEdit', 'raspi-smh_playerstation', 'django-localflavor-si', 'osf.io', 'json_help_object', 'wwfsolver', 'group_optimizer', 'PSC_INF08', 'websocket-client', 'urh', 'simple-pytorrent', 'qtrf', 'cametrics', 'trol', 'scelvis', 'CloudConductor', 'google-api-python-client', 'GENERATIVE_MODEL_TESTBED.tensorflow', 'deldichoalhecho', 'archalien', 'checkedc-lnt', 'meresco-normalize', 'pip-pop', 'python-ping', 'python-testrail', 'QuestBot', 'GPy', 'no-headache-django', 'mailboxer', 'kicks3', 'SMAC3', 'govtrack.us-web', 'distributed', 'AnalyzeSN', 'orientalyst', 'grasping-learning-data-generator', 'HttpRunnerManager', 'finances', 'osg-roll', 'spice-protocol', 'AvaTax-REST-V2-Python-SDK', 'vuplus_dvbapp', 'jsonuri-py', 'sigutils', 'cookiecutter-python-cli', 'its-sisy2-ws2015-rpi', 'city-analytics-dashboard-setup', 'nemesys-qos', 'MetadataTable', 'Trainset', 'bibliotik_archiver', 'Emulation', 'dilawar', 'exma-api', 'BlueCleaner', 'galaxy-moffitt-dev', 'prepare-faces-zyf', 'cpdn_xml_generation', 'docker-selenium-screenshot', 'json2py', 'semi-generative_model', 'sagify', 'gitlint', 'postgres-formula', 'ics.py', 'filtus', 'draftfast', 'Scrib-curity-Bot', 'SocketMulticast', 'pyapns', 'dval', 'klrn-passport-analytics-database', 'erpnext-receipher', 'mar_raster', 'elopingpong', 'interp', 'gtranscribe', 'flake8-import-order', 'scoreboardme', 'graphitesend', 'describer_ml', 'odo', 'sam2counts', 'gitosis', 'vanGAN', 'python-gluster', 'pyxenon', 'kube-buildbot', 'maltrieve', 'craigslist-scraper', 'mapit', 'cli_tools', 'home_dashboard', 'dicom2nifti', 'mp_tvheadend', 'latvijas-pasta-toolis', 'slanterRoboFontExtension', 'Thesis', 'python-delicious', 'robo-advisor-project', 'fly_behaviors', 'ILCDIRAC', 'nmt', 'opbeat_python_urllib3', 'argument_mining', 'ros_peoplemodel', 'python-redfish', 'Vetoseuranta2', 'pyramid_basemodel', 'heroku.py', 'kolla', 'snf-image-creator', 'glycopeptidepy', 'explorercraft', 'DS_Timer', 'xsgen', 'sprig', 'docassemble', 'Axelrod', 'StaticSupply', 'ckanext-stadtzh-harvest', 'SME-PratoAberto-Edu', 'cmd3', 'headerfix', 'napalm-ansible', 'ffmpeg_wrapper', 'edgar-10k-sa', 'snex2_heroku_test', 'bropy', 'lofar-obs-xml', 'akara', 'flinck', 'snips-app-assistant-information', 'label-bot', 'uss_api', 'electronic-blackboard', 'redeem', 'LearnMultiplyByHand', 'Analytics', 'django-mongonaut', 'django-wapiti', 'alfred-financial-toolbox', 'metacast', 'subl-convertindentation', 'django-bop', 'BDP-05-Large-scale-Clustering', 'urlobject', 'ncm-flow', 'DrupalProject', 'hireapp', 'crosstalker', 'cn_mooc_dl', 'rmrf-roulette', 'gwcs', 'logreporter', 'fgread-py', 'Ivs_team_project', 'scene_classification', 'PySurfer', 'KayMineRL', 'mail-addons', 'satchless', 'pyutils', 'pikli', 'lucheng_psdash', 'stem', 'withings-garmin-v2', 'couchbase-python-client', 'OpenStackClient_VBS', 'Kaggle', 'sqlparse', 'quantum', 'django-basic-models', 'mocky', 'jira-metrics', 'NLP2-project1', 'csv342', 'django-configglue', 'pikalaxbot', 'pycel', 'dbt-spark', 'hand-detection', 'djangocms-cascade', 'lunchbot', 'code', 'gpxtoelevation', 'TFAinference', 'calibre-web', 'evennia', 'apriltags', 'data-grabber', 'My-Donkey', 'tohoku-pc', 'weio', 'forms', 'dap-scrapers', 'schrodinger-lisp', 'vic', 'pdq2', 'getAiBT', 's2-pi', 'botocore', 'trakt-scrobbler', 'linkbot', 'DFS-Optimizer', 'humanize', 'cgpcm', 'popper', 'scmongo', 'logbook', 'Red-DiscordBot', 'polymaths', 'django-crm', 'pywps', 'metrics_service', 'EventGhost-Onkyo-ISCP-plugin', 'py_utils', 'merger', 'django-elevate', 'projecta', 'benchmark-insights', 'fbdqt', 'genotype-network', 'frikiweek.cat', 'pymvn', 'ipython', 'TOTP-Generator', 'HotSalad', 'newsnet', 'drum', 'python-loxone-ws-client', 'django-devserver', 'iot_homework', 'curl2py', 'ADAS', 'finviz', 'MOD_Locker', 'cookiecutter-data-science', 'sloth', 'nerdeez-server', 'python-osc', 'buildbotcustom', 'algo-python', 'scrapy_guba_redis', 'django-oscar-api', 'swapi', 'ssl-cert-parse', 'pycoin', 'yaml2object', 'html5lib', 'aminator', 'sublime-reform', 'jr-tools', 'cscoins', 'seagoatvision', 'sm.publication', 'Senior-Project', 'Biu-framework', 'OpenFermion', 'utmbu', 'norc', 'quantum_espresso_output_parser', 'models-1', 'platform-kendryte210', 'convnet-benchmarks', 'ibus-table', 'alco', 'modv3ssr', 'Detectron', 'invenio-records-presentation', 'hacknightbot', 'chipsec', 'sqlipy', 'dj-database-url', 'dncuts_eigensolver', 'LightNovelClassification', 'wooyun_public', 'MGI_Paper_on_MG_CoVZr', 'esprit', 'eru-cli', 'external-data-structures', 'django-locallibrary-tutorial', 'kuryr', 'ansible-nsupdate', 'iceberk', 'TvWatch', 'isolate', 'pyText', 'qualbum', 'blurplefier', 'hamster', 'coin', 'everpad', 'brewpi-tools', 'sancta_projects_py', 'mystyle', 'lanciesite', 'MIT-python', 'rec_to_binaries', 'Lovathon_game', 'twatter', 'pandas-datapackage-reader', 'Playtools', 'SublimeLinter-contrib-sass-lint', 'litevideo', 'NovaStream', 'temp-and-humidity', 'pyomo', 'Deep-Learning-Experiments', 'python-opencivicdata', 'pybuckets', 'DQN-tensorflow', 'swc-lesson-example-CW17', 'recipe_kits', 'pimpleFlux', 'cauth', 'DerPyBooru', 'tornado-appengine', 'onecall', 'IPP-CSV', 'buffersizing', 'r5d4', 'SpeciesLookup', 'version-bumper', 'pyfft', 'easymiv', 'pyredisrpc', 'meson', 'standard_product', 'sandman', 'scikit-cycuba', 'trac-ja', 'gittools', 'life_logger', 'migbq', 'drett', 'GitCheckpoints', 'grad-cam', 'django-ztask', 'g2cam', '2016-06-21-LTU', 'cosinnus-notifications', 'flask_app', 'deadline', 'sonic-py-swsssdk', 'edc-offstudy', 'pymessenger', 'quicktile', 'imdb_api', 'IIJmio-dataLogger', '2018-10-01-UW-dc', 'sublime-fsharp-package', 'django-background-tasks', 'redis-py-cluster', 'pushkin', 'tahoe-lafs', 'pyelasticsearch', 'refactored-cogs', 'transvenous_pacing_gui', 'django-handyhelpers', 'blueberry', 'cymon_api-python', 'tournament-results', 'rax-api-challenge', 'lilik_playbook', 'django-registration', 'discovery-api', 'Programming-Sem1', 'django-jsonfield', 'selfspy', 'geopy', 'Wikipedia_Word2vec', 'odoosync', 'graspit_python_node', 'CF_Bandit', 'sculpt-json-tools', 'dockerspawner', 'django-conneg', 'python-twitter', 'GCompiler', 'deb-designate', 'collective.registration', 'graffle2svg', 'rats', 'tgUserBot', 'pyre2-1', 'jupyterhub', 'treeherder', 'nose2', 'logainm-osm-import', 'neural_renderer', 'IFEM-to-VT', 'dask-jobqueue', 'avocado', 'httplib2-1', 'electricitymap-contrib', 'TeleMultiStorebot', 'django-oauth-access', 'pipping-easy-install', 'pyramid-tutorial', 'ataqc', 'xbmcswift2', 'glazier', 'sparkmagic', 'triangula', 'ypip', 'acic-14-group4', 'sagesmc', 'tools_1c', 'mma-dexter', 'falmer', 'bedlam-slack', 'MCEdit-Unified', 'ADE-ESIEE', 'tornado_gen', 'puka', 'somfy-open-api', 'ka-lite', 'ZeroNet', 'PowerDNS-Admin', 'SickRage', 'ckanext-searchfed', 'trytond-shipping-dhl-de', 'ambition-dashboard', 'termite-data-server', 'XX-net', 'meresco-html', 'rootspi', 'YouTubeShop', 'BandWitch', 'diaryProject', 'fablab-inkscape-plugins', 'bashkir_wiki', 'aliyunoss2-autoupload', 'ddl-generator', 'appengine.py', 'pdfhook', 'NetSDK', 'neutron_read', 'metta', 'dotmanca', 'django-uni-form', 'seqtools2', 'gcat', 'PySyft', 'PointOfSaleProject', 'domain-information-library', 'MixedPrecision', 'pyiso', 'cerberus', 'IDArling', 'MessagingApp', 'bus-drivers-arc', 'wingstructure', 'scrapy-history-middleware', 'BLCMods', 'tropoform', 'DeepLearningImplementations', 'goagent', 'mayhem-overseer', 'projx', 'Pyfa', 'SuperBeards', 'FlipIt', 'DB2016', 'script.module.exodusredux', 'twint', 'pulpcore', 'SDproject', 'peframe', 'geekogotchi', 'docs-tools', 'air-canary-web', 'ambition-reference', 'nbgr-x', 'crabpytest', 'tfspeech', 'little-worker', 'dbdump', 'tray', 'tawk', 'analytics', 'Nanum', 'cs_fista.py', 'python-hamtools', 'py-football', 'dag-factory', 'letsrun_posts', 'wechat-admin', 'udp-speedtest', 'django-maskpostgresdata', 'thumbnail_creator', 'python_practice', 'scipy_proceedings', 'deep_ctr', 'python-procolog2msgpack', 'SSHLibrary', 'gargoyle', 'newrelic-plugin-agent', 'flintrock', 'Investigo', 'qb', 'twitter_gather', 'pyglmnet', 'SJO', 'NLP-implement', 'Early_Birds_CarND-Capstone', 'Coursera', 'Predicting-West-Nile-Virus', 'wstool_cd', 'ci-scripts', 'rvpy', 'seedbox', 'packaginator', 'gost-crypto-gui', 'realtime_object_detection', 'Ice', 'FusionNet', 'quotefixformac', 'epsg.io', 'cbt', 'pke', 'building-identification', 'wagoner', 'dthm4kaiako', 'CSUIBot', 'pytube', 'Hwacha', 'django-backup', 'anchor', 'drf-todo-list', 'twitchcancer', 'hmc', '2018-10-01-UW-swc', 'django-postgres-copy', 'HealthTools.API', 'django-didadata', 'project_generator', 'RunnerPyzza', 'idawasm', 'ERC-ME', 'mrbeam-inkscape-ext', 'livemap', 'resin', 'tweet-generator', 'pydictor', 'Prac3', 'wire_skin', 'DeepLearningTutorials', 'molnframework', 'domotique-1', 'smartystreets.py', 'StarCluster', 'bankson-python', 'git-lfs-fetch.py', 'transformer', 'oc_opencorato', 'homer', 'SCIMES', 'spark-message-plugin', 'cijoe', 'meteocool', 'esky', 'base-flask-skeleton', 'git-novice-es', 'tornado-facebook-sdk', 'leaderboard-generator', 'imgurpython', 'sphinx-issues', 'collectd-marathon', 'b3-plugin-poweradminurt', 'python-kata', 'pyrsync', 'buscaimoveis', 'rivescript-python', 'plop', 'django-snailtracker', 'edward', 'lab07awesomerepo', 'hpo_similarity', 'mozaik', 'mamonsu', 'radix_visualizer', 'PMPL', 'PeriPrimeAI-MK1', 'pytorch-ssd', 'tornado-redis', 'KGSH-Notice', 'CloudIO', 'NEST', 'GitHub-Backup', 'CoAPthon', 'possibiliT', 'arsoapi', 'exitmap', 'finn', 'hrl-pr2', 'codestat', 'neolixir', 'django-ismigrated', 'pg_staging', 'kaggle-dstl', 'MCMC', 'j5basic', 'Home_Automation', 'django', 'biaxial-rnn-music-composition', 'Alignment-MuonAlignmentAlgorithms', 'coffin', 'HNPrediction', 'desafio-digesto', 'aiven-client', 'CS411Project', 'AvsPmod', 'django-sslserver', 'casv', 'homebrew-travis-debug', 'FSS-HW', '2018-05-21-ttt-uw', 'ukhra', 'adhoc-x2', 'achievements-bot', 'iLader', 'IntroPython2016a', 'openface', 'moto', 'gki_sickrd2014', 'Defect-Prediction', 'erbium', 'CLI-Scripts', 'pyroscope', 'plugin.video.macedoniaondemand', 'Comic-Archiver', 'PyCryptogram', 'sixthings', 'django-redis-metrics', 'segmentation-1', 'python-pptx', 'digitales_erpnext', 'rnn-music-generating', 'tlr', 'hmmlab', 'finetune', 'MESmerize', 'MetaCompass', 'TopLJets2015', 'blueprint', 'tdt4300-project', 'autolite', 'bomberman-fabienpg-ai', 'Sublime-Text-2-Inc-Dec-Value', 'eventcapture', 'ngs_misc', 'df_everywhere', 'examples', 'test-av', 'rfid_presence', 'pinax-likes', 'CarND-Behavioral-Cloning-P3', 'application_repository', 'pygithub-redux', 'graphbin.com', 'reminder-bot', 'ECE2524PythonRushhourGame', 'Mirror-Bot', 'HoTT-book', 'NouGAT', 'ML2016', 'djshouts', 'template-engine', 'ipaqe-provision-hosts', 'tealight-server', 'restoa-explorer', 'canis', 'StreamBFE', 'ml-playground', 'daily-stats', 'UI_youtube_downloader', 'python-single-package-user', 'ia_fopera', 'marek', 'aiohttp_utils', 'Quetzal', 'acme', 'pythonfutures', 'hacker-news-digest', 'TwitterAdManager', 'django-auction', 'json_to_relation', 'crunchdata', 'graphite-pager', 'omp-thread-count', 'robcogs', 'genie_bridge', 'sixtracklib', 'django-extensions', 'matterlay', 'fluxion', 'dominion', 'extrapolation', 'alcazard', 'teuthology', 'braze-client', 'PiHomeControl', 'gae-init', 'twfavs', 'PNLab', 'geocoder', 'rpcpdb', 'ipykernel', 'AiLearning', 'fuse', 'halpy', 'pydexec', 'insightface', 'configpy', 'pytmdb3', 'AstroCompute_Scripts', 'algoliasearch-django', 'morse', 'steam.py', 'Questioner-API', 'xuvadupo', '2016-05-22-mafikeng', 'helios-server', 'development-py', 'spotty', 'minecraft-discord-bridge', 'oldnyc', 'stock-logistics-warehouse', 'pisc', 'harstondotio', 'apnsclient', 'hangoutsbot', 'PHD', 'elasticsearch-py', 'plover', 'bitcoin-price-api', 'mozilla_inventory', 'poark.rosserial', 'imageviewer', 'CaptainPullovaNga', 'slider', 'eva-cttv-pipeline', 'apache2conf-generator-davsvn', 'python-mvdxml', 'cnn-lstm-bilstm-deepcnn-clstm-in-pytorch', '2017-08-31-uri', 'tdt4140DevelopmentTeam3', 'djed.formatter', 'youtube-dl', 'PyQuiver', 'pygeode', 'RESIF-PyPi', 'ecl-google', 'processing-whitebox', 'pyblish-deadline', 'YELP-DS', 'wifi', 'py-dom-xpath', 'dataGrapher', 'torchluent', 'franklin', 'openpay-python', 'KindleEar', 'AlertLogic-event-api', 'python-control', 'home-assistant', 'fontelemetry', 'loris', 'lamenews', 'CURD.py', 'pyshoal', 'django-user-accounts', 'python-magnumclient', 'voltron', 'RPi_GG_HUD', 'processfamily', 'SideBarEnhancements', 'semantic-segmentation', 'capitoledulibre-blog', 'BodyPartsSegmentation.pytorch', 'Confiture', 'octopotus', 'pybing', 'basic_git_demo', 'analyst-stress-test', 'go-get-a-martini-bottle', 'kennedy_a_python-first', 'fb-notifications-to-pocket', 'ngsutils', 'psl', 'django-ldap-server', 'astroquery', 'django_translate', 'TFG', 'django-auditlog', 'Unofficial-Google-Music-API', 'pluct', 'sdmdl', 'nfl-schedule-algorithm', 'arthur-tools', 'tweepy', 'libtcodpy-tutorial', 'FH', 'hikaru-gatekeeper', 'EMC-Mars-Challenge', 'speedcopy', 'running', 'Cubical3DPath', 'xchat_scripts', 'Ward-matriculas-ufcg', 'ithkuil', 'PyDAQ', 'monsta', 'photon-tools', 'bots', 'ngeo-b_autotest', 'diff_api', 'mysql-api', 'Hexcells-Solver', 'flsh', 'fdsblm', 'PyComms', 'ADictAdd_iction', 'Get_Sequence_API', 'gdeltPyR', 'teiler', 'bin2coe', 'MusicApp', 'gissues', 'cat-detector', 'kser', 'pg_extractor', 'pelican-deployment-system', 'strider', 'Apollo-python', 'redturtle.exporter.base', 'github2owl', 'control', 'cement', 'django-dbbackup', 'web2py', 'animal', 'estudent', 'nested-lookup', 'schema-org-editor', 'ege_dashboard', 'pyector', 'django-solo', 'pefile', 'OnDemand', 'hellinger-distance-criterion', 'snapcraft', 'pythons', 'zapper', 'django-filer', 'rop', 'Higher-HRNet-Human-Pose-Estimation', 'ut-solver', 'py-di', 'PairsToPeers', 'dans_pymodules', 'Zappa', 'xlrd', 'checkio-task-tester', 'wsProj', 'CrunchyPythonCLI', 'ioant-examples', 'opal', 'tao', 'django-watermark', 'irishdeals', 'yapf', 'BodyCalc', 'pytorch-NeuCom', 'ImagesOfNetwork', 'pywinrm', 'ADS_records_merger', 'tpcorr', 'CSTB', 'appengine-dscache', 'witness', 'steem-sockobot', 'pylearn2', 'crunchyfrog', 'Znuny4OTRS-Sublime', 'gelpia', 'otone_frontend', 'AutoUpdate', 'egresscheck-framework', 'sonic-platform-common', 'spaCy', 'RAPIDpy', 'sunpy', 'pimlico', 'shell-functools', 'streamingds', 'qingcloud-sdk-python', 'amazon-linux-cis', 'python-RN2483', 'atlgameday', 'pymacaron-core', 'Hexy', 'pgzero', 'OSeMOSYS_PuLP', 'online_monitor', 'lesswrong', 'ete', 'round-py', 'powerline', 'dragon_hack_2017', 'getbirch', 'django-tracking2', 'SELP', 'relaymanager', 'TNFSH_Tool_Public.ver', 'euca2ools', 'pdp7_pt', 'django_kobo', 'nmfta-bouncer', 'rq', 'nefarious', 'beertools', 'gemini-python', 'cloudify-cloudstack-plugin', 'runit', 'social', 'QUBOVert', 'notifications-ftp', 'download-image', 'libqicore', 'json-datetime', 'videoSpider', 'groot', 'RE-NLG-Dataset', 'l10n-colombia', 'imdbpy', 'onegov.election_day', 'decuser_python_playground', 'juju-openstack-bootstrap', 'tis100pad', 'emu-scripts', 'product-search', 'bzoinq', 'sofBot', 'onecodex', 'small-pc-control', 'asciimatics', 'django_openstack_auth', 'algorithms_design_assignments', 'gadget_scraper', 'e-ink-build-dashboard', 'trytond-shipping-dpd', 'Archery', 'sockjs-tornado', 'teachDeepRL', 'break', 'fastly-python', 'GBML', 'Elastic', 'KMA_InformationRetrieval_Dictionary_Python3', 'pyrrd', 'iScript', 'sg-diagram-downloader', 'statsmodels', 'storeManager', 'openRT', 'channels', 'poker-player-red-king', 'osf', 'Registeration-portal', 'debug_test', 'SwitchHosts', 'pxodbc', 'compdis', 'Labros-Giannakopoulos_labs', 'synnefo', 'PyIOCe', 'Hadim_Scripts', 'django-crispy-forms', 'twine', 'pytools-sshcli', 'gmvault', 'textacy', 'DomoticzControl', 'debinterface', 'pyatspi2', 'matrox', 'stanford-tensorflow-tutorials', 'filterpy', 'gentle', 'container-scheduler-stock-ticker-batch', '.dotfiles', 'Vertretungsplan', 'Flask-Item-Catalog', 'RWA-WDM-SLE-GA', 'sc.policy.helper', 'myclips', 'collective.tiles.rssmixer', 'gamehappy', 'retinanet-digit-detector', 'msstitch', 'maslab-staff-2013', 'SegmentationMetrics', 'SimpleHMMER', 'lambda-decorators', 'mediadrop', 'bdn', 'nagios-plugin-mongodb', 'tricycle_bot', 'yowsup', 'projectEuler', '2016M', 'OsuElements', 'bootstrap-cfn', 'csswg-w3ctestlib', 'stellarmass_pca', 'musicazont', 'flask-api.furan.xyz', 'linkingEC2', 'virusbattle-sdk', 'ai_programming', 'NASummaries', 'Sublime-Open-Shading-Language', 'tissue', 'MessageConverter', 'zhihu', '2017-11-17-tufts', 'the-coding-interview', 'yt8m', 'LoPPy', 'pymarc', 'business-glossary', 'vent', 'ssh-audit', 'fyndiq_helpers', 'lofar-imager-script', 'world-cup-bet', 'lab3-repo', 'FCDR_HIRS', 'qqbot', 'son-emu', 'museum', 'migrate-imap-account-to-gmail', 'VTTools', 'notification-api', 'auranest-loader', 'sirius', 'export_service', 'muffin-memcached', 'yeahletsdothat', 'lesscpy', 'QuePasApp', 'edx-analytics-data-api-client', 'Rocket-2013', 'sd-agent', 'TriFusion', 'pycsdk', 'angelhack', 'msg', 'carbon', 'KarmaKoffee', 'pykiteconnect', 'fototoon-activity', 'eva', 'olga_model', 'ProjectEve', 'tf-keras-vis', 'mapbots', 'pytables-to-json', 'malmo-challenge', 'My-Script', 'pcr1000', 'pinax-stripe', 'python_rdesktop_gui', 'SecureSystemsProject2', 'slony-ansible-modules', 'szar', 'electrum-ltc', '2015-02-25', 'nexus', 'Raspberry-Pi-sample-code', 'salesforce-api-client', 'TranscriberBot', 'microblog', 'tybbswechatbot', 'lahorie', 'haaska', 'nts', 'notifier', 'xdcc-dl', 'django-multiselectfield', 'Kavalan_Management_System', 'mongo-size-check', 'OpenFermion-Cirq', 'invenio-openid-connect', 'cmdline_provenance', 'lunchpick', 'cctray-rpi-unicorn-hat-monitor', 'jsonschema', 'stacker', 'jexboss', 'menuParser', 'stuff', 'pipsi', 'Goto-Tyrellsys', 'construct-fire', 'pyStatus', 'scikit-mnist', 'security-growler', 'poboys_conda_package_server', 'arbit', 'redturtle.exporter.rer', 'makehuman-commandline', 'ffmpeg-python', 'org-toggl-py', 'platform', 'StrobeAlert', 'multiPPG', 'gpodder', 'cis_plugins', 'MobileDevice', 'django-cryptographic-fields', 'kiki', 'Ullman-Isomorphism', 'nextion', 'adsabs', 'python-yr', 'raspberry-pi-microservices', 'movie-talk', 'hcsi', 'sww', 'chroot_deploy', 'ADL_LRS', 'sms-tools', 'ffmpeg-overlay', 'my-lesson', 'LIFXAddonforSplunk', 'md5pad', 'scrapers', 'django-sentry', 'contrail-neutron-plugin', 'allensdk.eye_tracking', 'pylru', 'selfspy-vis', 'util-linux', 'pymc', 'eve', 'NTU_CARDO_Database', 'pypsqueak', 'ghugh', 't4_geom_convert', 'nOmicron', 'learning-tornado', 'mole-classification', 'python-allure-demo', 'calculator_proj', 'async', 'pathofpixel', 'hopestarterapp', 'new-silk-road', 'SuperCron', 'gardenr', 'tagger', 'openssh-wrapper', 'WHAT', 'cppman', 'bathbot', 'django-livesettings3', 'api-examples', 'smartdns', 'python-social-auth', 'project-euler', 'djazz', 'breadcrumb', 'dj-saml-idp', 'pyth_ox_pand_img_arch', 'mistral-dashboard', 'dpa', 'manuscript-pages', 'bookworm-pq', 'Tumor_sim', 'pysimplesoap', 'stic', 'py-scale-codec', 'TwitchSaveMessages', 'openprocurement.auction', 'is210-week-12-synthesizing', 'sig-docs-id', 'btcnano-wallet-client-desktop', 'eht-imaging', 'qipipe', 'nginxmanager', 'cuckoo', 'matrix_io', 'archey', 'django-fias', 'edx-analytics-dashboard', 'Tortoise-BOT', '2017-10-32-notReal', 'goimport', 'okstupid', 'EventGhost', 'hiths-p4-pyweek6', 'mkto-pd-sync-app', 'golumnpy', 'mENCODE_scripts', 'polltenants', 'unittesting-plumest', 'abgx360-AutoPatcher', 'crabpy', 'kitten', 'pyrcel', 'CK2-CulturesAbound', 'pythonpy', 'ipyaudio', 'synchronizer', 'dsari', 'smrpg_web_randomizer', 'openwisp-users', 'pyscreenshot', 'pynrf24', 'Blazy', 'distroverify', 'carbonator', 'rfgb', 'rbuild', 'darkflow', 'mondegreen', 'GCE-Disk-Snapshot', 'Post-Analysis-VPIC', 'jrnold.me', 'MyFlaskTutorial', 'scoreboard', 'taskmaster-public-api', 'django-facebook', 'phantomjs', 'gude', 'libyal', 'nexoclom', 'pymodbus', 'PyMoDA', 'odoo-saas-tools', 'Yerba', 'MapPornBot', 'ipndproject4', 'saepy-log', 'data-africa-api', 'waeup.sphinx.autodoc', 'nctime', 'aws_syncr', 'mapstory', '2017-DSGRN-IdentifyingRobustHysteresisInNetworks', 'mdb', 'innoq-blockchain-python', 'Lightbox', 'rebecca.imagestore', 'githubtakeout', 'voiceid', 'frappe', 'python-geohash', 'ymmsl-python', 'HMM', 'outsource', 'To-do-Bullet', 'py-networking', 'attic', 'envkernel', 'hdinsight-kafka-tools', 'PyDendro', 'tpRenamer', 'ambition-form-validators', 'askbot-devel', 'MAPSToTomoPy', 'demo-kafka', 'pygrappa', 'obs_lsst', 'scikits-bootstrap', 'vaderSentiment', 'python-instagram-fixed', 'scrabble_hack', 'python-odl', 'pymodes', 'easybuild', 'planner', 'venomseq', 'boto', 'seismo', 'poster', 'wiyn_lsst', 'flask-mail', 'hip2unicode', 'refractiveindex.info-scripts', 'gunicorn', 'yard', 'landmark-extraction', 'nipype', 'smart-grid', 'amitools', 'django-webstore', 'everedit', 'CodeComplice', 'SublimeLinter-contrib-stylelint', 'edc-pdutils', 'djangotoolbox', 'PyTicTacToe', 'libavwrapper', 'dpaste', 'kolla-ansible', 'giskardpy', 'VDLTools', 'leviathan', 'pale', 'HTTPretty', 'sqlalchemy-validation', 'dd-agent', 'snakefire', 'EV3_Blank', 'bob.db.voxforge', 'optivis', 'pytorch-CapsNet', 'cloudtask', 'scipy', 'LazyLibrarian', 'ansible-aix-support', 'opps-facebook-comments', 'hst3', 'RasPiMotionDetect', 'set11521cw2', 'pip-login', 'django-odesk', 'arpy', 'mockredis', 'SublimeText-Nodejs', 'bodhi', 'Hazama', 'openeo-udf', 'ntpdos', 'gp2s', 'METRONOME', 'crawler', 'depth_net', 'kibana-docker', 'configuration', 'moul-utils', 'dime', 'class2go', 'friday-shots', 'ctf_2_sharks', 'foolbox', 'django-clortho', 'plasma_phase_space', 'csesoc-website', 'fantasm', 'flan', 'python-openzwave', 'new-carpentry-lesson-style', 'addon-check', 'Objc_source_code_walker', 'pyocclient', 'talker', 'kim_fish', 'beaker', 'django-debug-toolbar-gae', 'Python-Lab_urllib', 'stevesie-py', 'ckanext-stadtzh-notify', 'ledmatrix', 'FlashRL', 'DataAccessioner', 'yabmp', 'hanabi', 'ungoogled-chromium-build-script', 'DjangoBlog', 'elasticutils', 'kTorrent', 'execo', 'SparseLSH', 'fast-rcnn-ms', 'fast-python-pb', 'shedskin', 'essay', 'Hospital', 'sorl-thumbnail', 'python-vnc-viewer', 'qualpay-python', 'django_rest_api', 'off_psi4', 'rapidsms-xforms', 'PGScout', 'python-upwork', 'asistente_reforma_curricular', 'automatic-app', 'bitrate-project', 'timekiller', 'modmail', 'newsreader', 'shorturls', 'kbengine', 'static3', 'songdeck', 'PokemonGo-Map', 'spqrisiko-abm', 'pressure-ulcer-prevention', 'common-util-py', 'gcloud-python', 'connector-file', 'Ancestral-Blocks-Reconstruction', 'osrc', 'in720-assignment2', 'topology_docker', 'seer', 'JMP-Timetable-Importer', 'marshmallow', 'Schongo-dxxtracker', 'clldfabric', 'django-cachemodel', 'django-spreadsheetresponsemixin', 'plugin.video.itunes_podcasts', 'django-fsm-admin', 'cyclops', 'joulupukki', 'blender-addons', 'lda2vec', 'random-music-to-walkman', 'ww_storage_client', 'Dallinger', 'sakura', 'plugin.video.ekstrabladet.dk', 'anfisa', 'brew4j', 'berkeley-parser-analyser', 'python-dotenv', 'Products.CMFPlone', 'openstack-workload-disaster-recovery', 'DjangoBoard', 'PirateBoxScripts_Webserver', 'prepic', 'ledger-add', 'mod-pbxproj', 'cityair_python_api', 'trac-announcer-plugin', 'ops', 'moveit_trajectory_planner', 'nbconvert', 'music-util', 'pop3-maildir', 'itsprojectserver', 'automate', 'urlwatch', 'python-nat-hole-punching', 'FWCore-PythonUtilities', 'django-tastypie-nonrel', 'gopro-py-api', 'ckpl', 'ffmap-backend', 'PublicationsDataBase', 'TimeSeriesLearning', 'flubber-hauto', 'Portfolio', 'eGymInscriptions', 'TapLearn', 'tailor', 'wg-a-team', 'p9-admin', 'photodiag', 'pystruct', 'f90wrap', 'stkhelper', 'LINE', 'instamsg-python', 'AIND-Isolation', 'sonic-utilities', 'cl-app', 'ambition-screening', 'drawille', 'CheckVocal', 'flaskstrap', 'Bungee', 'gradergen', 'lpagg', 'aws-check-reserved-instances', 'Tools', 'w3af', 'RNN-Tutorial', 'gobelieve_api', 'usep_gh_handler_app', 'python-update-dotdee', 'wukong', 'setroubleshoot', 'sendd', 'solarforecastarbiter-core', 'LoLAnalyzer', 'deeprace', '337-recipe', 'django-app-metrics', 'Mapa', 'phase', 'PhiSpy', 'PubCart', 'podio-py', '2016-10-05-SFU', 'pyxero', 'Cookie-task', 'causal_selection', 'm2x-python', 'ExtremeCrawler', 'instagram_private_api', 'color-my-face', 'mygdb', 'flowpy', 'alg3dpy', 'txhis', 'deeplift', 'munki-grooming', 'CyLP', 'IPProxys', 'cnstlltn', 'DisableWinTracking', 'grava', 'aiops-rad', 'xiachufang-api', 'nistbeacon', 'vnid', 'standalone_scripts', 'xrdtoolkit', 'root_numpy', 'boardroom', 'ISCRIPT', 'ansible-cmdb', 'subnet-monkey', 'framepy', 'fitsParser', 'cloudify-docker-plugin', 'trex-service-b', 'example', 'django-require-login', 'ims_lti_py', 'contikipy', 'django-menu-proxy', 'python_aprentissage_2', 'pyzk', 'gsea_target_dependency_distributions', 'CMPS183-KittyWar-Server', 'varsens', 'django-sync-server', 'freemoney', 'cs1_simulation_project', 'accounts', 'pyceo', 'netbox-docker', 'Stock-Fantasy-League', 'artellapipe', 'quickstart-amazon-eks', 'edc-appointment', 'Datamerger', 'gitdrive', 'webapp2_restful', 'solarsystemMB', 'bank-payment', 'evaluation', 'ckanext-stadtzh-dwhdropzone', 'kb_blast', 'cartridge', 'ecl-foursquare', 'netbox-serv', 'waterworks', 'pelican_javascript', 'understanding-ai', 'rockstor-core', 'djangogirls', 'MapApp', 'Jouvence', 'Game_playing_AI_Agent-Isolation', 'daphne', 'BesiegeBot', 'swamp', 'miniwget', 'sbg-rj', 'django-major-event-log', 'routing', '1989-12-25-amsterdam', 'GSFLOW_climate_utils', 'mgmicq', 'BoxCraftMiner', 'NM', 'PyIndexer', 'headphones', 'openstack-horizon-2factor-auth', 'setuptools', 'pytivo_lucasnz_mirror', 'LambentAether', 'knesset-data-pipelines', 'decentral-market', 'learning_conversations', 'autopwn', 'INFO441-Final', 'nautilus_backspace', 'plecost', 'geotrie-python', 'PyAPNs', 'VoiceClassification', 'AutomaticDesign', 'ISPManCCP-V2', 'python-minion', 'pexif', 'Source-Code-from-Tutorials', 'rstr', 'flaskr', 'queen', 'arkavidia-backend', 'ProbHap', 'pybix', 'theano-cudnn-rnn', 'ptf', 'SyncPy', 'norman', 'tizen-distro', 'dynamit', 'chacra', 'achdremix', 'gratipay.com', 'chainerltr', 'fake-switches', 'simple_change_detector', 'gotCrawler', 'quora-nl-processing', 'snmp_exporter', 'PyCasa', 'cocdp', 'asciidoc', 'PySpice', 'worawit-MS17-010', 'podpora', 'spiderfoot', 'translitcodec', 'GeoServer', 'training', 'thug', 'wxGIF', 'backdrop', '6.470-project', 'rides-python-sdk', 'html2text', 'StockMarketForecast', 'Exam-Site', 'glamkit-feincmstools', 'punx', 'Prowlist', 'pylearn-simulate', 'rst', 'smallslive-metrics', 'arista-cvp-scripts', 'gym', 'weatherinfo', 'gluon-nlp', 'MerossIot', 'asciidots', 'package_control_channel', 'selecta', 'language-models', 'peac_bridge', 'webshop', 'ctrlp-py-matcher', 'twitter_slideshow', 'html-telegraph-poster', 'Perlin-Map-Generator', 'wxpy', 'ssstudy', '3102', 'binance_api', 'oca-account-invoice-reporting', 'bfg-pages', 'buildout.minitagificator', 'stackops-agent', 'beercalc', 'autonoma', 'scrapy-webdriver', 'feedvalidator', 'layer-easyrsa', 'BRCMS', 'charlie-code', 'uchi-slova', 'atip', 'flask-sqlalchemy', 'vroom', 'ctpwrapper', 'invenio-comments', 'anewlesson2', 'puffer', 'mypython', 'tars', 'CatchmentTool', 'LeetCode', 'yapsy', 'GO2', 'uniprot', 'edc-model-fields', 'worker_python', 'sphinxcontrib-disqus', 'drf-deny-allow-pc', 'ExportHtml', 'raspi-openlabmonitor', 'BioSE', 'django-business-logic', 'downloader-cli', 'pymultihash', 'yoga', 'movingpandas', 'contoso-ace', 'pyshipcommand', 'ibexconvert', 'SystemicRisk', 'csc411a3', 'NachoMines', 'openag_brain', 'guardmaster', 'GerritCommandLine', 'perspective', 'django-messages-extends', 'kafka-scanner', 'BAC-ISN', 'stp.polyglot-api', 'bob.db.replaymobile', 'asscan', 'django-dilla', 'django-staticfiles', 'texas-choropleth', 'MITMf', 'ZumoPdS', 'Slack-Status-Bot', 'opinion_dynamics', 'CSScheme', 'comic-viewer', 'ib', 'pythonScraper', 'django-nuts', 'openfisca-barcelona', 'Quiet-Port-Scan', 'mp4pack.py', 'django-htmlmin', 'arithmeticgame', 'libearth', 'dispatchtool', 'sculpt-debug', 'delphi-epidata', 'django-debug-toolbar', 'parseWebsiteImage', 'rhapsody', 'c_leuse', 'definitions', 'django-smart-selects', 'astroEMPEROR', 'Technopark_InfoSec-Cracks', 'PythonCAD3', 'nova-agent', 'pybullet', 'HAWG-examples', 'luminoth', 'Chrono', 'MongoDBProxy', 'ostree-upload-server', 'atsd-api-python', 'Google-Analytics-Mobile-MAU-Pull', 'hexy', 'alice_blue', 'spidermon', 'panoramisk', 'MBot', 'naojutils', 'nagios-server-addons', 'python-vast-xml-generator', 'multinet', 'mapproxy', 'CoCParser', 'pycon.sg-2015_deep-learning', 'gww.buildout-fabric', 'Launchpad', 'IRC-Bot', 'CHROnIC_Collector', 'cityjson-qgis-plugin', 'ribotricer', 'spacepku', 'rs-disc', 'cs4660-fall-2017-ektakm18', 'conan-glad', 'influxdb-python', 'csvtools', 'phdoc', 'configshell-fb', 's2cnn', 'tools.mic', 'python-keystoneclient', 'fmaya', 'dataset', 'rarfile', 'gn_module_suivi_chiro', 'structured_forests_edge_detection', 'chinese-wanikani', 'openmesher', 'meresco-oai', 'foncier', 'Colab_site', 'mlxtend', 'sproxy', 'cookiecutter-pylibrary', 'folder-theater', 'hltd', 'offline-tube', 'CumulusCI', 'labtracker', 'omnitech-apps', 'deptoon-reminder', 'manageiq-api-client-python', 'elastic-firewall', 'tsmapplication_public', 'pyprocessing', 'pinax', 'kube-hunter', 'django-oscar-accounts', 'starterprojects', 'pypixplorer', 'm2crypto', 'newfies-dialer', 'indicia-docs', 'aiouv', 'network_tester', 'aioamqp-consumer-best', 'xblock-drag-and-drop-v2', 'gendatafetcher', 'kadabra', 'PynamoDB', 'puby', 'tpsCounter', 'freqtrade', 'sxm-client', 'clip', 'timeflow', 'amagama', 'CSE291A-LSM-LevelDB', 'dotbot', 'si4project_filelist', 'mirovideoconverter3', 'Jackson-Lab-Common', 'vpnoverdns-reassembler', 'grapevine', 'geo_api', 'semcplogic', 'django-medusa', 'shop-db2', 'rocket-scissor-spacegoo', 'DryMass', 'Pyano', 'ptw', 'pylinkwrapper', 'PyRep', 'arteria-delivery', 'SoCo', 'meter_reading', 'data_extractor', 'Keats-Crawler', 'cryptikchaos', 'site-backup', 'stagpypy', 'pymca', 'django-template', 'CSC2515', 'pynn_spinnaker', 'BTP_2k18-19', 'oc_projet_11', 'pytorch_NMT', 'libsass-python', 'sunny-cp', 'csgames-2017-ai', 'autoscaling', 'plugin.video.netflixbmc', 'flask_epics_viewer', 'lifxlan', 'pytorch-a3c', 'cheap-travel', 'wagtail-salesforce-demo', 'lafwebpy', 'Keras-GAN', 'caracole', 'shadowsocks-4', 'MELD', 'contacts', 'dh-python', 'electrumx', 'AdvPGAN', 'orange-widgetDebugging', 'viola', 'Video-Analysis-for-Surveillance', 'loggingtools', 'carpoolapp', 'sikuli-framework', 'dojango', 'Code', 'fabric8-analytics-ingestion', 'borring', 'CS2513-L4', 'django-ajax-selects', 'potion', 'madxxx_catalog_api', 'provider-service', 'Abusehelper', 'redturtle.importer.base', 'amp', 'open365-office-docker', 'python-fire', 'EHealth', 'coolstorybro', 'ddc-api', 'ai-research-keyphrase-extraction', 'pyramid_nacl_session', 'zorg', 'embodied_attention', 'RallyRestToolkitForPython', 'SMSMyBus', 'bootstrap-py', 'Weakly-Supervised-Text-Detection', 'KaraRevamp', 'MangaFox-Download-Script', 'starless', 'turtle-wallet-python', 'chainer_for_rebase', 'GoldenKeyNotifier', 'python-patterns', 'coder-assessment-1', 'pipenv', 'Stop-Bluffing', 'DeployBlueprint', 'google-open-image-download', 'qtwirl', 'ARMI', 'retriever', 'CellProfiler-Analyst', 'bilibili-live-tools', 'bravado-core', 'twython', 'collective.easyform', 'mytile', 'WebAppProject', 'pulse', 'django-datatable', 'CS4555', 'museo-cachi', 'asq', 'logincounter-frontend', 'Gen4OverlayScript', 'LayoutCast', 'package_coverage', 'gh_announce', 'wassup', 'q2-diversity', 'simpleai', 'aiopg', 'UMTS-Multiplexing', 'CaDiBackup', 'datacube', 'click', 'python-snippets', 'multimds', 'sigma', 'libcloudlet', 'the-last-stand', 'adsabs-aws', 'docs-ecosystem', 'decruft', 'MambuPy', 'zkm', 'slpa_nx', 'vat', 'penlib', 'yahoo-finance-csv', 'gabr', 'micrograder-host', 'kbengine_demos_assets', 'cv_utils', 'solrcloudpy', 'phyluce', 'biosamples-analysis', 'pyecharts', 'sanic-jsonrpc', 'duckduckcrawl', 'horizon', 'warp', 'seantis-questionnaire', 'django-pipeline-compass', 'Cirq', 'udata', 'util', 'plattentests-spotipy-tmd', 'video-tester', 'PhiloLogic4-templates', 'vialectrum-server-obsolete', 'ironic-discoverd', 'Products.Ploneboard', 'PokemonGO-IV-Renamer', 'KoreaNewsCrawler', 'stitch', 'Fusion360HypocycloidGear', 'axs', 'mistral', 'PDF_generator', 'cagrex', 'vim-bootstrap', 'docker-ida', 'python-verisure', 'txredisapi', 'splinter', 'proxpy', 'one-big-room', 'ceph-deploy', 'world_time_buddy', 'SlicerQCExtensions', 'internal-hr-frappe', 'Kalman-Filter-Python-for-mpu6050', 'luisp', 'py-dhampyr', 'TestFramework', 'MLAGDiag', 'qt_img', 'topic-analysis', 'sdp-project', 'fluent-2.0', 'kitti-utils', 'simpleServer', 'rts-game', 'PythonStuff', 'gentoo-keys', 'text_mining', 'ACHP', 'Keras', 'mkdocs-bibtex', 'botleague-liaison', 'FBTextClassifier', 'torvy-home-assistant', 'python-ssh-server', 'ultimate-source-of-aws-accounts', 'django-practice', 'PhyloPreprocessing', 'germanium', 'dockbarx', 'freeipa-healthcheck', 'bletchley', 'synapse', 'kb_util_dylan', 'miniirc_extras', 'pyqgl2', 'aiocrawler', 'DDSync', 'rosbridge_suite', 'connectomeviewer', 'raspberry_pi_data_sender', 'metacrawler', 'distribution-calculate', 'aane_project', 'memcached-zabbix-template', 'pyvaspflow', 'txjason', 'neatx', 'Mailpile', 'flask-app-template', 'url-shortener-api', 'quotes', 'brps', 'SaltBot2.0', 'arrow', 'edc-visit-tracking', 'OpenFlight', 'do-backend', 'Instirepo-Django-Backend', 'django-ensembl', 'task_scheduler', 'n-puzzle-solver', 'microraiden', '2016-12-25-Antarctica', 'theanograd', 'pytoml', 'DDCloudServer', 'doorlock', 'pytool', 'runriver', 'script.library.integration.tool', 'vmm', 'cli-wav-merger', 'orator', 'Collections', 'nastya-calibration', 'ci_hsc', 'osmosis-azure-driver', 'ergal', 'ner-crf', 'RockGame', 'pylint-common', 'hansel', 'glances', 'nashvegas', 'aws', 'ceilometer', 'ArenaMUD2', 'armstrong.core.arm_content', 'OpenMEE', 'pytorch-best-practice', 'inaugurator', 'crawlData', 'openobject-addons-extra', 'PixelTimingStudy', 'jut-python-tools', 'Open-Knesset', 'control_panel', 'devicenzo', 'DeepCreamPy', 'monte-carlo-cvrp', 'anafero', 'bridge', 'cmsis-svd', 'rotd', 'changeOwnershipEnMass', 'authentic', 'network-testing', 'page_load_time', 'zimsoap', 'wgan_gp_chainer', 'stanford-nlp', 'pyglottolog', 'django-localflavor-br', 'pyblish-qml', 'free-rider-killer', 'snippets', 'dockerbuilder', 'rtp', 'filter-middleware', 'ziptastic', 'django-redis', 'ATtlLA2', 'home_lighting_webhook', 'missoula-ready', 'fake-data-generator', 'hashnfv-releng', 'robomower2', 'teleop_twist_keyboard', 'seaborn', 'P2', 'pypyodbc', 'Bookie', 'djaodjin-multitier', 'bmp280-python', 'text2speech', 'django-append-url-to-sql', 'stomach-server', 'stashboard', 'shadowsocks', 'raspied', 'nrdashboards', 'ckanext-spatial-cerco', 'dftools', 'fdroidserver', 'cricket', 'nlp-heroku-app', 'Calculator-Robot', 'thumbor', 'folium', 'sitka', 'CodeSkel', 'stat-api', 'XBMCnfoTVImporter.bundle', 'bittrex-scripts', 'iotop', 'githooks', 'erhi', 'nlok', 'assignshapekey', 'helper', 'openrover-python', 'lamson', 'foundation-security-advisories', 're-auth-installer', 'osmvoting', 'plugin-disqus', 'metadata-enhancement', 'launduler-server', 'Supybot-plugins', 'seval', 'Cura-LinearAdvanceSettingPlugin', 'eggit', 'neuraltalk2.pytorch', 'contract', 'django-notification', '2018-08-26-UA', 'pyAM', 'Cxx-FFI', 'dark', 'lynda-dl', 'pyunpian', 'electrum', 'humilis-kinesis-processor', 'unifi-api', 'test_workshop_template', 'CMSSW-12100-Homework', 'particle-collision-sim', 'django-compressor', 'pyv8-read-only', 'poky-e100-danny', 'erdcloud', 'osis-dissertation', 'dpark', 'scikit-neuralnetwork', 'sqlcmd', 'popgen-legacy', 'nova_vmware_compute_driver', 'smc-sage', 'fluentmock', 'python-mrpc', 'trailblazer', 'python_learn', 'enjarify', 'nitpick', 'TeamSensorData', 'everback', 'slave', 'bots.v321', 'djangocms-blog', 'oak', 'elemental', 'python-gaz', 'abbot', 'dariah-repository', 'ckan', 'django-adaptors', 'PiSenseEngine', 'CMIP6-json-data-citation-generator', 'edx-submissions', 'pyrailgun', 'babel', 'pypi-starter', 'UT330B', 'smbus2', 'charm-plumgrid-director', 'mk42', 'modelli_probabilistici', 'e-crypto35', 'django-resume-api', 'sunbird-ml-workbench', 'certification_tool', 'alfred-ime', 'mlbviewer', 'TA_Helper', 'huawei-hilink-status', 'django-chronograph', 'Obvious-CI', 'ropevim', 'pcassandra', 'mscrap', 'electionleaflets', 'flask-github', 'BlockchainSimulator', 'spitfire', 'django-geo-spaas', 'marcotti-events', 'purplebot', 'argus', 'simpleaes', 'rpc3control', 'todo', 'contrib', 'gastudy', 'python-qgmap', 'icestorm', 'nullclick', 'sioworkers', 'FlaskBlogEngine', 'pyspider', 'celery', 'timeplot', 'repy_v2', 'face_recognition', 'payu', 'twittervaccine', 'CS-Source', 'pyormish', 'pcb-tools', 'icenine', 'codeforces-auto-tester', 'btrader', 'PyVantagePro', 'zag', 'googlemusic-xbmc', 'cuckoo-droid', 'epitome', 'ferm-monitor', 'pergola', 'glossia-comparator', 'AePnd01Timelapse', 'e-commerce', 'griddata', 'EBNFSpill', 'onegov.core', 'bst.pygasus.resources', 'serpent', 'django-logs', 'demands', 'uriko', 'opendxl-elasticsearch-service-python', 'stategraems-galaxy', 'livestreamer', 'MLDS_Kaggle_2', 'API-libs', 'POLYTANKS_ASIR_2', 'mpf-mc', 'python-openid', 'apub', 'cloudmesh-installer', 'codename-nighthawk', 'blogtty', 'analex', 'auto_pep8', 'qmml', 'TileStache', 'cython_mcpp', 'scripts', 'PyCat', 'icat.utils', 'ButtsBot', 'SoundCloudVisualizer', 'QTLab', 'aws-startup-utils-docker', 'osminfo', 'andaluh-api', 'walle-service', 'KMUGradeServerProject', 'buildall', 'sqlmap', 'Zipcodes', 'django-link', 'play_with_bias_ctrl', 'Databases', 'exception-template', 'next-review', 'boto3', 'UltimateChallengeDigitalComponent', 'Diamond', 'CrossMgr', 'batea', 'django-mechanicalbear', 'Dominus', 'Clusters', 'rest-seed', 'query_expansion', 'PyHDM', 'beta-data-services', 'prettyplotlib', 'animate', 'osler', 'twitter', 'meta', 'PyCaptive', 'pdfutils', 'SeaCat-Client-Python3', 'nastranpy', 'shooter', 'openobject-addons', 'tollgate', 'eyefiserver2', 'wallme', 'Google-Speech-to-Text-API-Word-Error-Rate-Analysis-Tool', 'gravity_connect', 'rh_renderer', 'mavros_offboard_control', 'django-layout', 'implicit-mf', 'dstat', 'mlcourse_open', 'blacklib', 'UniSchedule', 'advanced-ir-search_engine', 'wrtweb', 'Congress_DCSC', 'cfn-sphere', 'gp.recipe.node', 'python-intercom', 'gail_ppo_tf', 'celery-redis-cluster-backend', 'drf2', 'gauge_monitor', 'edx_infra', 'genmenu', 'tomato', 'yolo', 'odoomrp-utils', 'GrovePi', 'xbmc.plugin.video.nba', 'interana-sdk', 'cpskin.agenda', 'Automatic_Speech_Recognition', 'axiom', 'pack-me-up', 'psq', 'contrail-api-cli-extra', 'latex_symbol_list', 'plone.portlet.collection', 'humord', 'odoo-venezuela', 'mileagetracker', 'Schongo', 'bots.v220', 'splatnet2statink', 'wagtail', 'tarbell', 'pycctv', 'pattern', 'discordbot', 'ucsmsdk', 'emencia-cmsplugin-zinnia', 'backchannel-prediction', 'HSReplayParser', 'FibonacciFactor', 'ModernEnigma', 'xadmin', 'openhab-mycroft', 'exrHeader', 'transwhat', 'jinja', 'ee208-for-myself', 'swolerpower', 'tickethunt-backend', 'RaspyRFM', 'gnippy', '2018-10-24-ugent', 'pyfacts', 'unionsqclock', 'tec-list-parse', 'StressAuto', 'csm_web_clone', 'uwsgi-docs', 'd2l-zh', 'python_planet', 'ICEBERG-middleware', 'account-invoicing', 'bruce', 'soldat-pystats', 'CryptoWatch', 'service.subtitles.podnapisi', 'omni-apps', 'vbrfs', 'connectome_utils', 'uptime', 'coco', 'dill', 'git-guilt', 'itu-p1203-codecextension', 'svg2data', 'PGScout-1', 'druhg', 'python3-cookbook', 'EC_MS', 'skpyutils', 'Aptcast-API-Python-Wrapper', 'multiple_chest_CNN', 'evolution', 'batch_ssh', 'CocktailOverlord', 'sumy', 'sparkit-learn', 'python-oath', '2016-03-19-brocku', 'TechTheCake', 'python-sqlpuzzle', 'crowdsource-platform', 'iptt', 'py-i2phosts', 'vm', 'pytorch-faster-rcnn', 'civic-sandbox', 'wtccc2-analyse', 'watson-http', 'xbmc-rdm-hp-addon', 'PyProxy', 'dist_qsub', 'proximitymarketing', 'sonic-mgmt', 'opensourcegovernment', 'pytest-rerunfailures', 'local-search', 'geocamFolderWeb', 'caption-america', 'UBQ', 'fsactioneditor', 'myhero_app', 'jolla', 'parcelbright-python', 'click_config_file', 'MoombahTwitterBot', 'asyncio', 'pecan-wtforms', 'django-tastypie-legacy', 'LocatorCam-ServerSide', 'shellscript', 'MyMoneyManager', 'isar', 'qgis-mergin-plugin', 'mininet-old', 'txsocksx-backup', 'easydb-python-client', 'django-runstandalone', 'SyncedSideBar', 'enigma2-plugin-extensions-tmbd', 'gps', 'mars-street-view', 'sulley', 'LivingWorlds', 'django-memcache-status', 'RxPY', 'pycoevolve', 'datascience-scratch', 'python-datacatalog', 'pycse', 'paradigm', 'mangum-cli', 'python-coveralls', 'dhelp', 'testdoc', 'nand2tetris', 'core', '2013AI', 'forumbot', 'minesweeper-examples', 'Collectd-Plugins', 'yottu', 'djangosaml2', 'fusepy', 'poltrack', 'my-first-blog', 'gdoc_spreadsheet_extraction', 'anygen', 'Elite-Dangerous-Rich-Presence', 'SQL_Editor', 'cgal-testsuite-dockerfiles', 'dual_encoder_tf', 'conceptnet5', 'rsbeams', 'forkmarie', 'traitlets', 'MagBastard', 'web_jargon', 'licensename', 'the-api', 'airline_reservations', 'ansible-modules-extras', 'marcos_addons', 'micropython-ili9341', 'auth_mac', 'sure', 'lino', 'dsplice', 'tendril-utils-core', 'myeventbot', 'flatland', 'nova', 'NaiveBayes', 'python-igraph', 'LandOfSky_GISParser', 'tinystocks', 'hgvs', 'openerp_cenit', 'rainbow', 'mediagoblin', 'stinger-analysis', 'ggplot', 'tableau-api-lib', 'molmaker', 'Bleualign', 'wagtailmodelchoosers', 'corvid', 'kolibri-installer-mac', 'reddwarf-integration', 'rasa_nlu', 'bitcoinbook', 'simple_WA_slackbot', 'neural-transducers', 'senseta-base-project', 'junction2018-backend', 'splut', 'postmgt', 'django-oscar', 'Sympal', 'ReinforcementLearning', 'ps4-exploit-host', 'financialgro', 'GAT2VEC', 'pypedream', 'powerbot', 'QProgEdit', 'TwitchBot', 'Colima.bundle', 'dependency_matrix_histogram', 'cassandra_snapshotter', 'tftpy', 'foostache-python', 'beremiz', 'bmi-python', 'chip', 'brick-wall-build', 'XBMC-rTorrent-Plugin', 'T-Judge', 'mas_common_robotics', 'cs373-idb', 'bashplotlib', 'pykol', 'cloudcvr', 'udacity_movie_trailer', 'atb_outputs', 'python-ipy', 'knurki-server', 'django-export-csv', 'pysox', 'cued-4m20-robot', 'network-design', 'django-cors-headers', 'City-Service', 'hbs-cli', 'TimesheetAutomation', 'osaAPI', 'Savu', 'MusicDisplayPi', 'odoo-experiments', 'cytoolz', 'miasm', 'motor', 'negex', 'ansible-sudoers', 'adsstats', 'multi-twarc', 'simplejson', 'nagios_plugin_check_jvm', 'diffpy.pdfgui', 'pygerduty', 'control-acore', 'assemblyline', 'fitbit-googlefit', 'ico', 'cherrypy', 'merge-sort', 'Primes-Library-Python', 'zcash-scale-calc', 'nbnotify', 'django-jet', 'heartbeat-server', 'clap', 'HMF', 'gaytabase', 'kaggle-yelp', 'cov-core', 'craigpy', 'python-kuaipan', 'pyjaco', 'monthly_run', 'ansible-shell', 'eni-erpnext', 'binlorry', 'smyt-test-task', 'HotMAPS', 'marshmallow-jsonapi', 'navebayes', 'MenuFromProject-Qgis-Plugin', 'django-easy-seo', 'kral', 'django-userena-mirror', 'Python-1', 'FEM', 'typecube', 'arachnado', 'booking', 'python-graphics', 'pyformat.info', 'consensus', 'playlistnow.fm', 'BoxRadio', 'qr-vanity', 'graphy', 'easyscan', 'python_prediction', 'openerp-utils', 'papr', 'pyjslint', 'ofls-shift', 'Printrun', 'tessfpe', 'celerybeatredis', 'PythonMasterClass', 'HeWeather', 'cdsw-demo-short', 'FlirImageExtractor', 'dasbot-plugins', 'contrail-publisher', 'lib-pyFreenet-official', 'laspec', 'transitfeed-ride', 'Alex-TicTacToe', 'autoauth', 'kazoo', 'sharrock', 'libsigrokdecode', 'complexsystems', 'GAM', 'NNEF-Tools', 'opendxl-misp-client-python', 'gsmws', 'django-vcexport', 'sistr_cmd', 'you-get', 'whois', 'gorgonzola', 'squatchwatch', '2019-04-24-uw', 'django-bootstrap-form', 'GenomonPipeline', 'supy-delphes', 'python-scripts', 'CairoSVG', 'trac-accountmanager-plugin', 'django-allauth', 'tsa_questionnaire_api', 'xmpppy', 'edc-locator', 'imouto', 'Cryptora', 'django-js-routes', 'DM2', 'target-snowflake', 'huobi_Python', 'qualityvis', 'transcode', 'djangocms-teaser', 'resgen', 'swig', 'tornadio2', 'csce438', 'fetch-grsec-test-patch-and-kernel', 'product-attribute', 'mininet-NetProbes', 'django-apscheduler', 'meetup_from_ds_to_prod', 'brainio_base', 'dateparser', 'flask-classy', 'LaTeXTools', 'EVE_Gnosis', 'nvidiafancurve', 'hoekstra_msg', 'appengine-pipelines', 'Cellular-Mapgen', 'smashbox', 'tcms-api', 'trac-hg-plugin', 'Cytomine-python-datamining', 'ramassage.epitech.eu', 'markdown-tweetable', 'funciones', 'aswlesson', 'project-x', 'python-schwab', 'MRI-Reconstruction', 'projmanager', 'kakawana', 'djangocms-getaweb-products', 'gopay-python-api', 'CatWatchBot', 'refnumtool', 'OpenKE', 'brownian', 'project', 'cookiecutter-dj-rest', 'openprocurement.planning.api', 'datastream-excel-downloader-py', 'redis-ranking', 'wispy', 'django-openshift', 'nvpy', 'MetPy', 'LcAnalysis_Simon', 'trendlit', 'Datalogger_Scripts', 'TripAdvisorScraper', 'edx-certificates', 'mrcrawl', 'uniboard', 'pyflix2', 'OzFluxQC_Simulator', 'wipy', 'pgen2', 'OrarioTreniBot', 'peewee', 'illustration2vec', 'django-startproject', 'braindump', 'hermes', 'DEMON', 'cg', 'readability', 'paragrep', 'django-fixture-magic', 'django_first_tuto', 'StratosphereTestingFramework', 'ArcPy', '2015-12-01-uow', 'speedrecorder', 'weber-utils', 'MatchZoo-py', 'segeval', 'circuithub', 'PyPRP', 'cdhistory', 'hockey', 'AA2CODON', 'gitlab-controller', 'Fresco', 'myGit', 'LearnPython', 'canvas-lms-tools', 'destalinator', 'mopidy-youtube', 'bqtools', 'ramais', 'aiohttp_babel', 'django-admin2', 'python-abp', 'yambopy', 'disease-crawler', 'pyrede', 'pg8000', 'jira', 'bitmex_historical_scraper', 'django-qsstats-magic', 'django-hud', 'clara', 'pygraph', 'CodeSurvivor', 'token-image', 'disclosure-game-module', 'pymill', 'parsercomb', 'curbd', 'monkey', 'voc', 'hamster-applet', 'es-imputation-sg', 'gallery', 'buildbot-status-slack', 'Abyssal-Destructor', '2015-CS570-Project', 'metadata', 'dephell_pythons', 'trace_analyze', 'imitar', 'dta', 'bears-tp', 'of_lldp', 'dcnotify', 'calamares-manjaro', 'riccipy', 'django-knowledge', 'upf-cobalt', 'spacemacs-pkgs', 'pymeshio', 'rnaget-compliance-suite', 'err-logging', 'Chichimec', 'django-phrase', 'lava-dispatcher', 'chip-seq-pipeline', 'Mini-Projects', 'python-markdown', 'nurse', 'cder', 'flake8-deprecated', 'openergy', 'porper-core', 'django-klaus', 'scoring-up', 'hbmqtt', 'aubio', 'haigha', 'chatpro', 'humangen', 'SigmaBot', 'pytest', 'harvesting-tools', 'annotated_trajectories', 'rpcsqa', 'stack', 'python-irtrans', 'hr-timesheet', 'online_test', 'statistics-consolidation', 'cumulus-message-adapter', 'API-Challenge', 'Plex-Trakt-Scrobbler', 'PyQC', 'marvelmarcas', 'DI-life', 'kolibri', 'cefpython', 'keras-model-specs', 'SublimeSnippetMaker', 'xija', 'dictshield', 'brightfem', 'solitude', 'PCR-GLOBWB_model', 'ingrex_lib_old', 'spdown', 'prestapyt', 'Swapsies', 'CDQR', 'monasca-notification', 'backuper', 'chronology', 'restartable', 'SDD', 'django-goog', 'opentuner', 'PowerSupply_ElectronicLoad_Control', 'Idk', 'python-cheetah', 'Asistente-LADM_COL', 'python-cli', 'django-yarr', 'gdtc', 'nano-python', 'Standbot', 'django-filebrowser-no-grappelli-django14', 'mrkv', 'dsplab', 'pymc3', 'flask-sockets-tornado', 'mailroom', 'indico-plugin-example', 'wikt2dict', 'kitsune', 'sr-visualization', 'opentimestamps-client', 'linkero', 'robofontScripts', 'rtmplite', 'TTKPy', 'django-blog', 'MyMesh', 'py_balancer_manager', 'sentry', 'befungee', 'beyondskins.semantic', 'pychess', 'klayout_pyxs', 'wordsforsound', 'recon-tools', 'caselink-python', 'twitter-textmode', 'hotscreen', 'tryingtoprogram', 'Bag-of-Holding', 'terp-client', 'meresco-sequentialstore', 'beeswithmachineguns', 'gscholar', 'tornado_imageboard', 'frost', 'retools', 'mode', 'abilaunch', 'fearitself', 'glass_ros', 'paradigm-scripts', 'puppet_es', 'multiword_tokenization', 'classifying-vae-lstm', 'natrium-wallet-server', 'persist_transaction', 'ZigZag', 'ffmpeg-bitrate-stats', 'IssueTrackerProduct', 'Banking_App', 'landslide', 'Martinize', 'account-closing', 'open-event-orga-server', 'django-utils', 'humilis-firehose', 'django-interventi', 'SmartNetParser', 'yarGen', 'LaminateTools', 'cfg_python_project', 'ddp_recon', 'Lilu-and-Friends', 'MyBlog', 'zipfile2', 'pumptweet', 'cumulus-tv-m3u8-loader', 'HypChat', 'BasicPython', 'vectors', 'guillotina_dynamictablestorage', 'django-boundaryservice', 'pythonz', 'sleep_assay', 'hive_merge', 'wdiff', 'thai-language', 'nitime', 'picamera', 'persepolis', 'invenio-oarepo', 'django-cart', 'dyscover', 'AGEpy', 'mad_salts', 'akvo-rsr', 'cmgtools-lite', 'TerreImage', 'pykakasi', 'truongnha', 'cmssdt-web', 'apigee-kvm-entry-reset', 'nersc-ssio', 'Matching', 'feedparser', 'pavara', 'python_lessons', 'allah_bob', 'django-simplequiz', 'geomdl-cli', 'mining', 'google-code-issues-migrator', 'tjmonopix-daq', 'Inky-Calendar', 'trakt.py', 'facebook-python-ads-sdk', 'rats_and_onions', 'graphit-tool', 'seppius-xbmc-repo', 'cython', 'flag_catching', 'httplog', 'asterisk_rest_libraries', 'convers', 'pcollections', 'deep_rl', 'getdatatestbed', 'collective.addons', 'coverage', 'MadeToMeasure', 'py-mysql2pgsql', 'sbmltoodepy', 'GR3TDP003', 'simp_le', 'travelling_sales_person_AI', 'DET', 'wapiti', 'python-gnupg', 'Enrichment_Sandbox', 'maze-gym', 'ektobot', 'rekt-bot', 'shadowsocksr-backup', 'dbpf', 'Home-Assistant-DreamScreen-Service', 'web-data-python', 'profitpy', 'hpit_services', 'algoliasearch-client-python', 'mozillians', 'GRUV', 'chip-gr8', 'pyntnclick', 'warmupp2', 'odoo-brazil-banking', 'GDLnotes', 'vogen', 'minigo', 'hippo-backend', '2018-01-29-Ethiopia', 'fbone', 'symphony', 'pyviyatools', 'mimpy', 'yeelink', 'mcsas', 'parampool', 'pyxform', 'httpie', 'WizardAdjust', 'qgis-mobility', 'kickbacker', 'pyutrack', 'python-glanceclient', 'time-metrics', 'cbc', 'ossus', 'WaveNet', 'alchemyapi_python', 'download-steam-banners', 'foos', 'flask-app', 'passenger_screening_algorithm_challenge', 'amazing-git', 'pwntools', 'craft', 'pool', 'StartupExemplo', 'foobnix', 'sanitizers', 'w8-group-assignment-2-tcby', 'amcatscraping', 'yiban_morning_plan', 'CarND_13_CapstoneVehicleIntegration', 'PIME', 'testdriven-app', 'DotaCalc', 'aws-tailor', 'qutebrowser', 'drucker-example', 'dumptube', 'stock_dqn_f', 'demo-pyci', 'axamd_client', 'django-seo', 'alphaville', 'pico-prism', 'vault', 'browseapi', 'pydelicious', 'cushead', 'hipchat_export', 'boot-update', 'arris-tg3442-reboot', 'ithank', 'yellowant-python-sdk', 'pbr', 'Quads', 'webvectors', 'robotcar-mk3', 'PPI-Relation-Extraction-Py', 'irgen', 'shotdown', 'BeagleDash', 'skylab', '2017-09-05-intro-git', 'opengeode', 'awesome-github-colorer', 'eventbrite-sdk-python', 'bbss', 'gbot', 'rst_symbtools', 'gcf', 'multi-mechanize', 'toolbox', 'keynotec', 'harmony', 'Film', 'cleanerversion', 'jasmin-smslogger', 'galaxy-lib', 'ParsePy', 'Tviserrys', 'compas', 'qt_binder', 'mongrey-build', 'python-pdfkit', 'BCI17', 'sparky', 'mne-python', 'phd-admissions', 'community_mailbot', 'SP800-90B_EntropyAssessment', 'ItChat', 'django-admin-email-sender', 'pyoperant', 'gapsule', 'pyodbc-raw', 'udacity', 'HackNYU_2018', 'SimMarsColony', 'collectiveintelligence-book', 'anoni', 'EasyCustomLabeling', 'fabric', 'lintools', 'sigmund', 'plateypus-backend', 'STEM-project', 'mps-punctuality', 'kscli', 'ghcntool', 'spiderfetch', 'inoliblist', 'BeatLaboratory', 'GUI_Maker', 'ade25.sitecontent', 'CS4341_Assignment_2', 'sawtooth-core', 'Raccon', 'TheCannon', 'verse-master', 'ENAS-pytorch', 'biblebot', 'course-prereq', 'paddles', 'CRLikelihood', 'ocropy', 'holbertonschool-higher_level_programming', 'kodi-plugin-routing', 'django-seo-js', 'AI_LAB2', 'ethereum-buildbot', 'prometheus-flatliner', 'db', 'curbformation', 'flask', 'gameanalysis', 'Flask-Simple-Ecommerce', 'sipyci', 'ReadingListReader', 'tealight-files', 'blackjack', 'endjoy', 'Collisions', 'IntQuiz', 'pylgbst', 'commonsshare', 'pychecker', 'siux-python', 'will', 'tufilmtelegrambot', 'django-comments', 'mJangale', 'cattrs', 'edc-audit', 'G7Platform', 'dask-template', 'pobo-cw3-min-przekroj', 'csvkit', 'bopen.atcontenttypes', 'django-viewpass', 'xml-miner', 'python-ant-downloader', 'python-jira2sprintly', 'python-debian', 'turbo-tyrion', 'datacleaningutils', 'pypa', 'Octoprint-Filament-Reloaded-OrangePi', 'memsim', 'macguffin', 'libtelnetsrv', 'daumenkivy', 'ParameterImportance', 'rebot', 'qiling', 'MIDI-to-CNC', 'pyp2p', 'picoTracer', 'cdn-collector', 'L4D2-Seeder', 'energy-importer', 'webiopi', 'newsmangler', 'hackover_tickets', 'origo-desktops', 'LogicalIndexingLibrary', 'django-pgviews', 'hedwig', 'tempelhof', 'kerlym', 'febraban', 'jxtr', 'testdjango', 'dnf', 'cod2jar', 'atomic', 'PyGithub', 'btcrelay', 'system', 'hw05b', 'MIPSSimulator', 'snapper', 'pynetem', 'agito', 'MisterS', 'PyDwarf', 'iris', 'LearnDjangoRestFramework', 'networking-bambuk', 'jsonschema_serialize_fork', 'Minecraft', 'pycord', 'shucv_faceINmovie', 'UAL_TwitterBot', 'pyscript', 'openshift-ansible', 'redacted_uploader', 'Joinville-Smart-Mobility', 'doppler', 'test-deb-alembic', 'pymoth', 'inventory', 'sst', 'sixpack', 'autoConcierge', 'txdarn', 'ComboAMI', 'REU-2016-data-collection-and-automation', 'django-nullmailer', 'fliki', 'cloudstack-heat', 'wlnupdates', 'rnn_language_model', 'ftw.chameleon', 'entropy', 'ament_package', 'shale', 'ncaa_fb_skill_building', 'coactive-critiquing', 'pysmt', 'PokeTbase', 'watchdog', 'django-bbcode', 'PoliticalBattle', 'force-app-engine', 'sss', 'pywrfplot', 'edx-analytics-pipeline', 'minutes', 'endless-war', 'quokka-fundraising', 'Python-Social-Media', 'rsp', 'pycatcher', 'tracpro-old', 'redmine-slackbot', 'antidox', 'stock-logistics-tracking', 'Streaming-Video', 'ostutil', 'dr-disco', 'xssless', 'disorderBook', 'aioapns', 'django-admin-sso', 'django-audit-log', 'lazy-balancer', 'bespin', 'TentacleBot', 'shadowsocks-rm', 'mysql-statsd', 'darknet-http-api', 'object-detection-web', 'webpy', 'opencv_transforms_torchvision', 'hacking-science-website', 'plunatica', 'aiopika', 'theZoo', 'OaaS-network', 'stk-stats', 'cockpit', 'conary', 'GoT', 'django-template-engines', 'makethings.io', 'cookiecutter-py', 'top-manager', 'jukebox-tnj', 'pysegbase', 'baselines', 'LSSRobotWin32', 'LFPy', 'tamr-client', 'leonardo-multisite', 'My_Blog', 'tmp', 'xbox360controller', 'meresco-core', 'bowser', 'fastconfig', 'SymPyBotics', 'pypi', 'PyCHAM', 'orangebox', 'active-geolocator', 'ttt', 'Code2040Assesment', 'django-goodforms', 'ehb2', 'django-rss-reader', 'bookbrainz-ws', 'musicbot', 'acrylamid', 'typhoon', 'openstates', 'RocketMap', 'OsdagAllinOne', 'projects', 'OpsSpace', 'wokkel', 'weibo_search', 'normalizer', 'tingplay', 'mypaint', 'invenio-records', 'DES_cryptanalysis', 'jiss-event-bus', 'memtkinter', 'Smartsheet-Data-Tracker', 'waterfurnace', 'youtube-dl-api-server', 'SublimeLinter-luacheck', 'infi.asi', 'owslib', 'shade_cec2005'}\n"
     ]
    }
   ],
   "source": [
    "urls = set()\n",
    "\n",
    "total_rows = 0\n",
    "for num in range(0, 34):\n",
    "    table = pandas.read_json(f\"tssb_data_3M/file-{FILENUM}.jsonl.gz\", lines=True)\n",
    "    for index, row in table.iterrows():\n",
    "        total_rows += 1\n",
    "        urls.add(row[\"project\"])\n",
    "print(len(urls))\n",
    "print(\"total rows\", total_rows)\n",
    "print(urls)"
   ]
  },
  {
   "cell_type": "markdown",
   "metadata": {
    "id": "Yu96PGAakmIw"
   },
   "source": [
    "# Get commits from SHA TODO!"
   ]
  },
  {
   "cell_type": "code",
   "execution_count": null,
   "metadata": {
    "colab": {
     "base_uri": "https://localhost:8080/"
    },
    "id": "mDtp9QzmpCQw",
    "outputId": "ada896b0-650c-4823-8104-facc091f7f60"
   },
   "outputs": [
    {
     "name": "stdout",
     "output_type": "stream",
     "text": [
      "Looking in indexes: https://pypi.org/simple, https://us-python.pkg.dev/colab-wheels/public/simple/\n",
      "Collecting PyGithub\n",
      "  Downloading PyGithub-1.57-py3-none-any.whl (297 kB)\n",
      "\u001b[2K     \u001b[90m━━━━━━━━━━━━━━━━━━━━━━━━━━━━━━━━━━━━━━━\u001b[0m \u001b[32m297.6/297.6 KB\u001b[0m \u001b[31m5.7 MB/s\u001b[0m eta \u001b[36m0:00:00\u001b[0m\n",
      "\u001b[?25hCollecting pynacl>=1.4.0\n",
      "  Downloading PyNaCl-1.5.0-cp36-abi3-manylinux_2_17_x86_64.manylinux2014_x86_64.manylinux_2_24_x86_64.whl (856 kB)\n",
      "\u001b[2K     \u001b[90m━━━━━━━━━━━━━━━━━━━━━━━━━━━━━━━━━━━━━━\u001b[0m \u001b[32m856.7/856.7 KB\u001b[0m \u001b[31m28.0 MB/s\u001b[0m eta \u001b[36m0:00:00\u001b[0m\n",
      "\u001b[?25hCollecting deprecated\n",
      "  Downloading Deprecated-1.2.13-py2.py3-none-any.whl (9.6 kB)\n",
      "Collecting pyjwt>=2.4.0\n",
      "  Downloading PyJWT-2.6.0-py3-none-any.whl (20 kB)\n",
      "Requirement already satisfied: requests>=2.14.0 in /usr/local/lib/python3.8/dist-packages (from PyGithub) (2.25.1)\n",
      "Requirement already satisfied: cffi>=1.4.1 in /usr/local/lib/python3.8/dist-packages (from pynacl>=1.4.0->PyGithub) (1.15.1)\n",
      "Requirement already satisfied: certifi>=2017.4.17 in /usr/local/lib/python3.8/dist-packages (from requests>=2.14.0->PyGithub) (2022.12.7)\n",
      "Requirement already satisfied: chardet<5,>=3.0.2 in /usr/local/lib/python3.8/dist-packages (from requests>=2.14.0->PyGithub) (4.0.0)\n",
      "Requirement already satisfied: urllib3<1.27,>=1.21.1 in /usr/local/lib/python3.8/dist-packages (from requests>=2.14.0->PyGithub) (1.24.3)\n",
      "Requirement already satisfied: idna<3,>=2.5 in /usr/local/lib/python3.8/dist-packages (from requests>=2.14.0->PyGithub) (2.10)\n",
      "Requirement already satisfied: wrapt<2,>=1.10 in /usr/local/lib/python3.8/dist-packages (from deprecated->PyGithub) (1.14.1)\n",
      "Requirement already satisfied: pycparser in /usr/local/lib/python3.8/dist-packages (from cffi>=1.4.1->pynacl>=1.4.0->PyGithub) (2.21)\n",
      "Installing collected packages: pyjwt, deprecated, pynacl, PyGithub\n",
      "Successfully installed PyGithub-1.57 deprecated-1.2.13 pyjwt-2.6.0 pynacl-1.5.0\n"
     ]
    }
   ],
   "source": [
    "!pip install PyGithub"
   ]
  },
  {
   "cell_type": "code",
   "execution_count": null,
   "metadata": {
    "id": "GFt0SJ1vpMPR"
   },
   "outputs": [],
   "source": [
    "from github import Github\n",
    "\n",
    "g = Github()\n",
    "\n",
    "# TO DO, find a way to get a commmit from SHA\n",
    "# 1. Use GitHub API\n",
    "# 2. Download repos with their history\n",
    "# 3. Web scaping"
   ]
  },
  {
   "cell_type": "markdown",
   "metadata": {
    "id": "fyJXA6uYkpH4"
   },
   "source": [
    "# Write the prompts"
   ]
  },
  {
   "cell_type": "code",
   "execution_count": null,
   "metadata": {
    "id": "O_xj1qE0SzKP"
   },
   "outputs": [],
   "source": [
    "import re\n",
    "\n",
    "TEMPLATE = \"\"\"User: Find the bug in the following code:\n",
    "{}\n",
    "Reply: The fixed code is:\n",
    "```\n",
    "{}\n",
    "```\n",
    "\n",
    "\n",
    "\"\"\"\n",
    "\n",
    "\n",
    "def remove_starting_plus_minus(text):\n",
    "    if text.startswith(\"+\") or text.startswith(\"-\"):\n",
    "        return text[1:]\n",
    "    else:\n",
    "        return text\n",
    "\n",
    "\n",
    "def remove_extraneous_diff_info(text):\n",
    "    pattern = \"@@.*@@\"\n",
    "    return re.sub(pattern, \"\", text)\n",
    "\n",
    "\n",
    "def clean(text):\n",
    "    return remove_extraneous_diff_info(remove_starting_plus_minus(text))\n",
    "\n",
    "\n",
    "def write_prompts(num, table):\n",
    "    with open(f\"generated_bugfix_prompts/prompts_{num}.txt\", \"w+\") as f:\n",
    "        for index, row in table.iterrows():\n",
    "            # lines starting with \"+\" are the \"new\" lines, after the modification to fix the bug\n",
    "            # removing them gives us the old code, with the bug\n",
    "            correct = \"\\n\".join(clean(line) for line in row[\"diff\"].split(\"\\n\") if not line.startswith(\"+\"))\n",
    "            # lines starting with \"-\" are the bugged lines, removing them gives the \"new\" fixed code\n",
    "            wrong = \"\\n\".join(clean(line) for line in row[\"diff\"].split(\"\\n\") if not line.startswith(\"-\"))\n",
    "            f.write(TEMPLATE.format(correct, wrong))"
   ]
  },
  {
   "cell_type": "code",
   "execution_count": null,
   "metadata": {
    "colab": {
     "base_uri": "https://localhost:8080/"
    },
    "id": "x7uJLD7oYPy-",
    "outputId": "71025b6b-29fe-41c6-a5a6-81f0310a366a"
   },
   "outputs": [
    {
     "name": "stdout",
     "output_type": "stream",
     "text": [
      "mkdir: cannot create directory ‘generated_bugfix_prompts’: File exists\n"
     ]
    }
   ],
   "source": [
    "!mkdir generated_bugfix_prompts"
   ]
  },
  {
   "cell_type": "code",
   "execution_count": null,
   "metadata": {
    "id": "RWOd8BMmXfJQ"
   },
   "outputs": [],
   "source": [
    "for num in range(34):\n",
    "    table = pandas.read_json(f\"tssb_data_3M/file-{num}.jsonl.gz\", lines=True)\n",
    "    write_prompts(num, table)"
   ]
  },
  {
   "cell_type": "markdown",
   "metadata": {
    "id": "Xr2CAar5AkGm"
   },
   "source": [
    "# Zip the prompts together for easier downloading"
   ]
  },
  {
   "cell_type": "code",
   "execution_count": null,
   "metadata": {
    "colab": {
     "base_uri": "https://localhost:8080/"
    },
    "id": "4x2OPurJY7F1",
    "outputId": "de5a69f9-8215-46b1-d5ab-96677f0df876"
   },
   "outputs": [
    {
     "name": "stdout",
     "output_type": "stream",
     "text": [
      "  adding: generated_bugfix_prompts/ (stored 0%)\n",
      "  adding: generated_bugfix_prompts/prompts_1.txt (deflated 83%)\n",
      "  adding: generated_bugfix_prompts/prompts_22.txt (deflated 83%)\n",
      "  adding: generated_bugfix_prompts/prompts_3.txt (deflated 83%)\n",
      "  adding: generated_bugfix_prompts/prompts_31.txt (deflated 83%)\n",
      "  adding: generated_bugfix_prompts/prompts_32.txt (deflated 83%)\n",
      "  adding: generated_bugfix_prompts/prompts_20.txt (deflated 83%)\n",
      "  adding: generated_bugfix_prompts/prompts_13.txt (deflated 83%)\n",
      "  adding: generated_bugfix_prompts/prompts_23.txt (deflated 83%)\n",
      "  adding: generated_bugfix_prompts/prompts_15.txt (deflated 83%)\n",
      "  adding: generated_bugfix_prompts/prompts_5.txt (deflated 83%)\n",
      "  adding: generated_bugfix_prompts/prompts_14.txt (deflated 83%)\n",
      "  adding: generated_bugfix_prompts/prompts_9.txt (deflated 83%)\n",
      "  adding: generated_bugfix_prompts/prompts_16.txt (deflated 83%)\n",
      "  adding: generated_bugfix_prompts/prompts_8.txt (deflated 83%)\n",
      "  adding: generated_bugfix_prompts/prompts_0.txt (deflated 83%)\n",
      "  adding: generated_bugfix_prompts/prompts_28.txt (deflated 83%)\n",
      "  adding: generated_bugfix_prompts/prompts_17.txt (deflated 83%)\n",
      "  adding: generated_bugfix_prompts/prompts_26.txt (deflated 83%)\n",
      "  adding: generated_bugfix_prompts/prompts_7.txt (deflated 83%)\n",
      "  adding: generated_bugfix_prompts/prompts_12.txt (deflated 83%)\n",
      "  adding: generated_bugfix_prompts/prompts_4.txt (deflated 84%)\n",
      "  adding: generated_bugfix_prompts/prompts_10.txt (deflated 83%)\n",
      "  adding: generated_bugfix_prompts/prompts_25.txt (deflated 83%)\n",
      "  adding: generated_bugfix_prompts/prompts_18.txt (deflated 83%)\n",
      "  adding: generated_bugfix_prompts/prompts_21.txt (deflated 83%)\n",
      "  adding: generated_bugfix_prompts/prompts_6.txt (deflated 83%)\n",
      "  adding: generated_bugfix_prompts/prompts_29.txt (deflated 83%)\n",
      "  adding: generated_bugfix_prompts/prompts_30.txt (deflated 83%)\n",
      "  adding: generated_bugfix_prompts/prompts_2.txt (deflated 83%)\n",
      "  adding: generated_bugfix_prompts/prompts_27.txt (deflated 83%)\n",
      "  adding: generated_bugfix_prompts/prompts_19.txt (deflated 83%)\n",
      "  adding: generated_bugfix_prompts/prompts_24.txt (deflated 83%)\n",
      "  adding: generated_bugfix_prompts/prompts_11.txt (deflated 83%)\n"
     ]
    }
   ],
   "source": [
    "!zip -r generated_bugfix_prompts.zip generated_bugfix_prompts"
   ]
  }
 ],
 "metadata": {
  "colab": {
   "provenance": [],
   "toc_visible": true
  },
  "kernelspec": {
   "display_name": "Python 3",
   "name": "python3"
  },
  "language_info": {
   "name": "python"
  }
 },
 "nbformat": 4,
 "nbformat_minor": 0
}
