{
 "cells": [
  {
   "attachments": {},
   "cell_type": "markdown",
   "metadata": {},
   "source": [
    "# Getting started with OpenAssistant OASST1 data"
   ]
  },
  {
   "attachments": {},
   "cell_type": "markdown",
   "metadata": {},
   "source": [
    "[![Open In Colab](https://colab.research.google.com/assets/colab-badge.svg)](https://colab.research.google.com/github/LAION-AI/Open-Assistant/blob/master/notebooks/openassistant-oasst1/getting-started.ipynb)"
   ]
  },
  {
   "cell_type": "code",
   "execution_count": 1,
   "metadata": {},
   "outputs": [],
   "source": [
    "# uncomment and run below lines to set up if running in colab\n",
    "#!pip install datasets pandas"
   ]
  },
  {
   "cell_type": "code",
   "execution_count": 2,
   "metadata": {},
   "outputs": [
    {
     "name": "stderr",
     "output_type": "stream",
     "text": [
      "c:\\Users\\andre\\Documents\\repos\\Open-Assistant\\venv\\lib\\site-packages\\tqdm\\auto.py:21: TqdmWarning: IProgress not found. Please update jupyter and ipywidgets. See https://ipywidgets.readthedocs.io/en/stable/user_install.html\n",
      "  from .autonotebook import tqdm as notebook_tqdm\n"
     ]
    }
   ],
   "source": [
    "import pandas as pd\n",
    "from datasets import load_dataset\n",
    "\n",
    "pd.set_option(\"display.max_rows\", 500)\n",
    "pd.set_option(\"display.max_columns\", 500)\n",
    "pd.set_option(\"display.width\", 1000)"
   ]
  },
  {
   "cell_type": "code",
   "execution_count": 3,
   "metadata": {},
   "outputs": [
    {
     "name": "stderr",
     "output_type": "stream",
     "text": [
      "Found cached dataset parquet (C:/Users/andre/.cache/huggingface/datasets/OpenAssistant___parquet/OpenAssistant--oasst1-2e4c5fea546c88d6/0.0.0/2a3b91fbd88a2c90d1dbbb32b460cf621d31bd5b05b934492fdef7d8d6f236ec)\n",
      "100%|██████████| 2/2 [00:00<00:00, 28.65it/s]\n"
     ]
    }
   ],
   "source": [
    "ds = load_dataset(\"OpenAssistant/oasst1\")"
   ]
  },
  {
   "cell_type": "code",
   "execution_count": 4,
   "metadata": {},
   "outputs": [],
   "source": [
    "# lets convert the train dataset to a pandas df\n",
    "df = ds[\"train\"].to_pandas()"
   ]
  },
  {
   "cell_type": "code",
   "execution_count": 5,
   "metadata": {},
   "outputs": [
    {
     "name": "stdout",
     "output_type": "stream",
     "text": [
      "<class 'pandas.core.frame.DataFrame'>\n",
      "RangeIndex: 84437 entries, 0 to 84436\n",
      "Data columns (total 18 columns):\n",
      " #   Column           Non-Null Count  Dtype  \n",
      "---  ------           --------------  -----  \n",
      " 0   message_id       84437 non-null  object \n",
      " 1   parent_id        74591 non-null  object \n",
      " 2   user_id          84437 non-null  object \n",
      " 3   created_date     84437 non-null  object \n",
      " 4   text             84437 non-null  object \n",
      " 5   role             84437 non-null  object \n",
      " 6   lang             84437 non-null  object \n",
      " 7   review_count     84437 non-null  int32  \n",
      " 8   review_result    83732 non-null  object \n",
      " 9   deleted          84437 non-null  bool   \n",
      " 10  rank             48730 non-null  float64\n",
      " 11  synthetic        84437 non-null  bool   \n",
      " 12  model_name       0 non-null      object \n",
      " 13  detoxify         72297 non-null  object \n",
      " 14  message_tree_id  84437 non-null  object \n",
      " 15  tree_state       84437 non-null  object \n",
      " 16  emojis           71496 non-null  object \n",
      " 17  labels           84199 non-null  object \n",
      "dtypes: bool(2), float64(1), int32(1), object(14)\n",
      "memory usage: 10.1+ MB\n"
     ]
    }
   ],
   "source": [
    "# look at the df info\n",
    "df.info(verbose=True, memory_usage=True, show_counts=True)"
   ]
  },
  {
   "cell_type": "code",
   "execution_count": 6,
   "metadata": {},
   "outputs": [
    {
     "data": {
      "text/plain": [
       "{31758: {'message_id': '42d50c60-2e31-437b-bdce-6f0bce91f650',\n",
       "  'parent_id': '6c8de248-d3e1-48f2-802e-73d5c2b49a6e',\n",
       "  'user_id': 'd2365416-7edb-4790-a657-29b6ed51d8f3',\n",
       "  'created_date': '2023-02-05T00:51:09.925052+00:00',\n",
       "  'text': 'Yes. Fashion and personal style choices are a form of self-expression, and there are no gender-based restrictions on what a person can wear.',\n",
       "  'role': 'assistant',\n",
       "  'lang': 'en',\n",
       "  'review_count': 3,\n",
       "  'review_result': True,\n",
       "  'deleted': False,\n",
       "  'rank': 1.0,\n",
       "  'synthetic': False,\n",
       "  'model_name': None,\n",
       "  'detoxify': {'toxicity': 0.00031964911613613367,\n",
       "   'severe_toxicity': 3.6933553928975016e-05,\n",
       "   'obscene': 0.00021374155767261982,\n",
       "   'identity_attack': 0.00012134548887843266,\n",
       "   'insult': 0.00014460098464041948,\n",
       "   'threat': 4.0733481000643224e-05,\n",
       "   'sexual_explicit': 3.8567017327295616e-05},\n",
       "  'message_tree_id': '10e186a5-7a66-4154-984e-82e5ff05dfd3',\n",
       "  'tree_state': 'ready_for_export',\n",
       "  'emojis': None,\n",
       "  'labels': {'name': array(['spam', 'fails_task', 'lang_mismatch', 'pii', 'not_appropriate',\n",
       "          'hate_speech', 'sexual_content', 'quality', 'toxicity', 'humor',\n",
       "          'helpfulness', 'creativity', 'violence'], dtype=object),\n",
       "   'value': array([0.        , 0.        , 0.        , 0.        , 0.        ,\n",
       "          0.        , 0.        , 0.83333333, 0.        , 0.5       ,\n",
       "          0.83333333, 0.16666667, 0.08333333]),\n",
       "   'count': array([3, 3, 3, 3, 3, 3, 3, 3, 3, 3, 3, 3, 3])}}}"
      ]
     },
     "execution_count": 6,
     "metadata": {},
     "output_type": "execute_result"
    }
   ],
   "source": [
    "# look at a sample row in a json format we can easily read\n",
    "df.sample(1).transpose().to_dict()"
   ]
  },
  {
   "cell_type": "code",
   "execution_count": 7,
   "metadata": {},
   "outputs": [
    {
     "name": "stdout",
     "output_type": "stream",
     "text": [
      "9dd36dd3-99e9-4f42-ac30-709ac6fc600e\n"
     ]
    }
   ],
   "source": [
    "# lets grab a random message tree\n",
    "message_tree_id = df[\"message_tree_id\"].sample(1).values[0]\n",
    "print(message_tree_id)"
   ]
  },
  {
   "cell_type": "code",
   "execution_count": 8,
   "metadata": {},
   "outputs": [
    {
     "data": {
      "text/html": [
       "<div>\n",
       "<style scoped>\n",
       "    .dataframe tbody tr th:only-of-type {\n",
       "        vertical-align: middle;\n",
       "    }\n",
       "\n",
       "    .dataframe tbody tr th {\n",
       "        vertical-align: top;\n",
       "    }\n",
       "\n",
       "    .dataframe thead th {\n",
       "        text-align: right;\n",
       "    }\n",
       "</style>\n",
       "<table border=\"1\" class=\"dataframe\">\n",
       "  <thead>\n",
       "    <tr style=\"text-align: right;\">\n",
       "      <th></th>\n",
       "      <th>message_id</th>\n",
       "      <th>parent_id</th>\n",
       "      <th>user_id</th>\n",
       "      <th>created_date</th>\n",
       "      <th>text</th>\n",
       "      <th>role</th>\n",
       "      <th>lang</th>\n",
       "      <th>review_count</th>\n",
       "      <th>review_result</th>\n",
       "      <th>deleted</th>\n",
       "      <th>rank</th>\n",
       "      <th>synthetic</th>\n",
       "      <th>model_name</th>\n",
       "      <th>detoxify</th>\n",
       "      <th>message_tree_id</th>\n",
       "      <th>tree_state</th>\n",
       "      <th>emojis</th>\n",
       "      <th>labels</th>\n",
       "    </tr>\n",
       "  </thead>\n",
       "  <tbody>\n",
       "    <tr>\n",
       "      <th>50265</th>\n",
       "      <td>9dd36dd3-99e9-4f42-ac30-709ac6fc600e</td>\n",
       "      <td>None</td>\n",
       "      <td>56ad4815-b98a-4d50-a990-650bc9b199ba</td>\n",
       "      <td>2023-02-10T03:06:19.644719+00:00</td>\n",
       "      <td>¿Por qué los colores no existen?</td>\n",
       "      <td>prompter</td>\n",
       "      <td>es</td>\n",
       "      <td>3</td>\n",
       "      <td>True</td>\n",
       "      <td>False</td>\n",
       "      <td>NaN</td>\n",
       "      <td>False</td>\n",
       "      <td>None</td>\n",
       "      <td>{'toxicity': 0.0006504451157525182, 'severe_to...</td>\n",
       "      <td>9dd36dd3-99e9-4f42-ac30-709ac6fc600e</td>\n",
       "      <td>ready_for_export</td>\n",
       "      <td>{'name': ['+1', '_skip_reply'], 'count': [3, 3]}</td>\n",
       "      <td>{'name': ['spam', 'lang_mismatch', 'pii', 'not...</td>\n",
       "    </tr>\n",
       "    <tr>\n",
       "      <th>50268</th>\n",
       "      <td>ede665ec-9c8f-4a73-bd68-20b64ebcea82</td>\n",
       "      <td>9dd36dd3-99e9-4f42-ac30-709ac6fc600e</td>\n",
       "      <td>1d5ad424-3710-4cdf-894f-82adbb00ba52</td>\n",
       "      <td>2023-02-10T08:23:00.270735+00:00</td>\n",
       "      <td>El color no está en las cosas sino en la luz q...</td>\n",
       "      <td>assistant</td>\n",
       "      <td>es</td>\n",
       "      <td>3</td>\n",
       "      <td>True</td>\n",
       "      <td>False</td>\n",
       "      <td>2.0</td>\n",
       "      <td>False</td>\n",
       "      <td>None</td>\n",
       "      <td>{'toxicity': 0.0010371938114985824, 'severe_to...</td>\n",
       "      <td>9dd36dd3-99e9-4f42-ac30-709ac6fc600e</td>\n",
       "      <td>ready_for_export</td>\n",
       "      <td>{'name': ['-1'], 'count': [1]}</td>\n",
       "      <td>{'name': ['spam', 'fails_task', 'lang_mismatch...</td>\n",
       "    </tr>\n",
       "    <tr>\n",
       "      <th>50267</th>\n",
       "      <td>49799c87-477c-4ffd-98d8-1d5af4e6d196</td>\n",
       "      <td>9dd36dd3-99e9-4f42-ac30-709ac6fc600e</td>\n",
       "      <td>1823c6f8-e4ae-424a-b9a5-6d8e21ada7da</td>\n",
       "      <td>2023-02-10T08:23:37.635484+00:00</td>\n",
       "      <td>El color es una propiedad de la materia que se...</td>\n",
       "      <td>assistant</td>\n",
       "      <td>es</td>\n",
       "      <td>3</td>\n",
       "      <td>True</td>\n",
       "      <td>False</td>\n",
       "      <td>1.0</td>\n",
       "      <td>False</td>\n",
       "      <td>None</td>\n",
       "      <td>{'toxicity': 0.000575148151256144, 'severe_tox...</td>\n",
       "      <td>9dd36dd3-99e9-4f42-ac30-709ac6fc600e</td>\n",
       "      <td>ready_for_export</td>\n",
       "      <td>{'name': ['+1', '_skip_labeling'], 'count': [1...</td>\n",
       "      <td>{'name': ['spam', 'fails_task', 'lang_mismatch...</td>\n",
       "    </tr>\n",
       "    <tr>\n",
       "      <th>50266</th>\n",
       "      <td>ab023931-340e-4909-a8e1-a07a64bf8b45</td>\n",
       "      <td>9dd36dd3-99e9-4f42-ac30-709ac6fc600e</td>\n",
       "      <td>c68ad8c7-1269-4137-9eda-417eec9c46cc</td>\n",
       "      <td>2023-02-10T10:20:50.321351+00:00</td>\n",
       "      <td>Los colores son subjetivos y dependen de la pe...</td>\n",
       "      <td>assistant</td>\n",
       "      <td>es</td>\n",
       "      <td>3</td>\n",
       "      <td>True</td>\n",
       "      <td>False</td>\n",
       "      <td>0.0</td>\n",
       "      <td>False</td>\n",
       "      <td>None</td>\n",
       "      <td>{'toxicity': 0.0004009304684586823, 'severe_to...</td>\n",
       "      <td>9dd36dd3-99e9-4f42-ac30-709ac6fc600e</td>\n",
       "      <td>ready_for_export</td>\n",
       "      <td>{'name': ['_skip_labeling'], 'count': [2]}</td>\n",
       "      <td>{'name': ['spam', 'fails_task', 'lang_mismatch...</td>\n",
       "    </tr>\n",
       "  </tbody>\n",
       "</table>\n",
       "</div>"
      ],
      "text/plain": [
       "                                 message_id                             parent_id                               user_id                      created_date                                               text       role lang  review_count review_result  deleted  rank  synthetic model_name                                           detoxify                       message_tree_id        tree_state                                             emojis                                             labels\n",
       "50265  9dd36dd3-99e9-4f42-ac30-709ac6fc600e                                  None  56ad4815-b98a-4d50-a990-650bc9b199ba  2023-02-10T03:06:19.644719+00:00                   ¿Por qué los colores no existen?   prompter   es             3          True    False   NaN      False       None  {'toxicity': 0.0006504451157525182, 'severe_to...  9dd36dd3-99e9-4f42-ac30-709ac6fc600e  ready_for_export   {'name': ['+1', '_skip_reply'], 'count': [3, 3]}  {'name': ['spam', 'lang_mismatch', 'pii', 'not...\n",
       "50268  ede665ec-9c8f-4a73-bd68-20b64ebcea82  9dd36dd3-99e9-4f42-ac30-709ac6fc600e  1d5ad424-3710-4cdf-894f-82adbb00ba52  2023-02-10T08:23:00.270735+00:00  El color no está en las cosas sino en la luz q...  assistant   es             3          True    False   2.0      False       None  {'toxicity': 0.0010371938114985824, 'severe_to...  9dd36dd3-99e9-4f42-ac30-709ac6fc600e  ready_for_export                     {'name': ['-1'], 'count': [1]}  {'name': ['spam', 'fails_task', 'lang_mismatch...\n",
       "50267  49799c87-477c-4ffd-98d8-1d5af4e6d196  9dd36dd3-99e9-4f42-ac30-709ac6fc600e  1823c6f8-e4ae-424a-b9a5-6d8e21ada7da  2023-02-10T08:23:37.635484+00:00  El color es una propiedad de la materia que se...  assistant   es             3          True    False   1.0      False       None  {'toxicity': 0.000575148151256144, 'severe_tox...  9dd36dd3-99e9-4f42-ac30-709ac6fc600e  ready_for_export  {'name': ['+1', '_skip_labeling'], 'count': [1...  {'name': ['spam', 'fails_task', 'lang_mismatch...\n",
       "50266  ab023931-340e-4909-a8e1-a07a64bf8b45  9dd36dd3-99e9-4f42-ac30-709ac6fc600e  c68ad8c7-1269-4137-9eda-417eec9c46cc  2023-02-10T10:20:50.321351+00:00  Los colores son subjetivos y dependen de la pe...  assistant   es             3          True    False   0.0      False       None  {'toxicity': 0.0004009304684586823, 'severe_to...  9dd36dd3-99e9-4f42-ac30-709ac6fc600e  ready_for_export         {'name': ['_skip_labeling'], 'count': [2]}  {'name': ['spam', 'fails_task', 'lang_mismatch..."
      ]
     },
     "execution_count": 8,
     "metadata": {},
     "output_type": "execute_result"
    }
   ],
   "source": [
    "# look at all data for this message tree\n",
    "df.query(f\"message_tree_id == '{message_tree_id}'\").sort_values(\"created_date\")"
   ]
  },
  {
   "cell_type": "code",
   "execution_count": null,
   "metadata": {},
   "outputs": [],
   "source": []
  }
 ],
 "metadata": {
  "kernelspec": {
   "display_name": "Python 3",
   "language": "python",
   "name": "python3"
  },
  "language_info": {
   "codemirror_mode": {
    "name": "ipython",
    "version": 3
   },
   "file_extension": ".py",
   "mimetype": "text/x-python",
   "name": "python",
   "nbconvert_exporter": "python",
   "pygments_lexer": "ipython3",
   "version": "3.10.7"
  },
  "orig_nbformat": 4,
  "vscode": {
   "interpreter": {
    "hash": "25d5c2324055587ceaeef27650c79ce8358ea61d7689f2e0b8ada5d53f85bce4"
   }
  }
 },
 "nbformat": 4,
 "nbformat_minor": 2
}
